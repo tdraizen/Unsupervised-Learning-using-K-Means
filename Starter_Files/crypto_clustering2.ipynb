{
 "cells": [
  {
   "cell_type": "markdown",
   "metadata": {},
   "source": [
    "# Clustering Crypto"
   ]
  },
  {
   "cell_type": "code",
   "execution_count": 392,
   "metadata": {},
   "outputs": [],
   "source": [
    "import requests\n",
    "import pandas as pd\n",
    "import matplotlib.pyplot as plt\n",
    "import hvplot.pandas\n",
    "import plotly.express as px\n",
    "from sklearn.preprocessing import StandardScaler, MinMaxScaler\n",
    "from sklearn.decomposition import PCA\n",
    "from sklearn.cluster import KMeans\n"
   ]
  },
  {
   "cell_type": "markdown",
   "metadata": {},
   "source": [
    "### Fetching Cryptocurrency Data"
   ]
  },
  {
   "cell_type": "code",
   "execution_count": 393,
   "metadata": {},
   "outputs": [],
   "source": [
    "url = \"https://min-api.cryptocompare.com/data/all/coinlist\"\n"
   ]
  },
  {
   "cell_type": "code",
   "execution_count": 394,
   "metadata": {},
   "outputs": [
    {
     "data": {
      "text/html": [
       "<div>\n",
       "<style scoped>\n",
       "    .dataframe tbody tr th:only-of-type {\n",
       "        vertical-align: middle;\n",
       "    }\n",
       "\n",
       "    .dataframe tbody tr th {\n",
       "        vertical-align: top;\n",
       "    }\n",
       "\n",
       "    .dataframe thead th {\n",
       "        text-align: right;\n",
       "    }\n",
       "</style>\n",
       "<table border=\"1\" class=\"dataframe\">\n",
       "  <thead>\n",
       "    <tr style=\"text-align: right;\">\n",
       "      <th></th>\n",
       "      <th>Unnamed: 0</th>\n",
       "      <th>CoinName</th>\n",
       "      <th>Algorithm</th>\n",
       "      <th>IsTrading</th>\n",
       "      <th>ProofType</th>\n",
       "      <th>TotalCoinsMined</th>\n",
       "      <th>TotalCoinSupply</th>\n",
       "    </tr>\n",
       "  </thead>\n",
       "  <tbody>\n",
       "    <tr>\n",
       "      <th>0</th>\n",
       "      <td>42</td>\n",
       "      <td>42 Coin</td>\n",
       "      <td>Scrypt</td>\n",
       "      <td>True</td>\n",
       "      <td>PoW/PoS</td>\n",
       "      <td>4.199995e+01</td>\n",
       "      <td>42</td>\n",
       "    </tr>\n",
       "    <tr>\n",
       "      <th>1</th>\n",
       "      <td>365</td>\n",
       "      <td>365Coin</td>\n",
       "      <td>X11</td>\n",
       "      <td>True</td>\n",
       "      <td>PoW/PoS</td>\n",
       "      <td>NaN</td>\n",
       "      <td>2300000000</td>\n",
       "    </tr>\n",
       "    <tr>\n",
       "      <th>2</th>\n",
       "      <td>404</td>\n",
       "      <td>404Coin</td>\n",
       "      <td>Scrypt</td>\n",
       "      <td>True</td>\n",
       "      <td>PoW/PoS</td>\n",
       "      <td>1.055185e+09</td>\n",
       "      <td>532000000</td>\n",
       "    </tr>\n",
       "    <tr>\n",
       "      <th>3</th>\n",
       "      <td>611</td>\n",
       "      <td>SixEleven</td>\n",
       "      <td>SHA-256</td>\n",
       "      <td>True</td>\n",
       "      <td>PoW</td>\n",
       "      <td>NaN</td>\n",
       "      <td>611000</td>\n",
       "    </tr>\n",
       "    <tr>\n",
       "      <th>4</th>\n",
       "      <td>808</td>\n",
       "      <td>808</td>\n",
       "      <td>SHA-256</td>\n",
       "      <td>True</td>\n",
       "      <td>PoW/PoS</td>\n",
       "      <td>0.000000e+00</td>\n",
       "      <td>0</td>\n",
       "    </tr>\n",
       "  </tbody>\n",
       "</table>\n",
       "</div>"
      ],
      "text/plain": [
       "  Unnamed: 0   CoinName Algorithm  IsTrading ProofType  TotalCoinsMined  \\\n",
       "0         42    42 Coin    Scrypt       True   PoW/PoS     4.199995e+01   \n",
       "1        365    365Coin       X11       True   PoW/PoS              NaN   \n",
       "2        404    404Coin    Scrypt       True   PoW/PoS     1.055185e+09   \n",
       "3        611  SixEleven   SHA-256       True       PoW              NaN   \n",
       "4        808        808   SHA-256       True   PoW/PoS     0.000000e+00   \n",
       "\n",
       "  TotalCoinSupply  \n",
       "0              42  \n",
       "1      2300000000  \n",
       "2       532000000  \n",
       "3          611000  \n",
       "4               0  "
      ]
     },
     "execution_count": 394,
     "metadata": {},
     "output_type": "execute_result"
    }
   ],
   "source": [
    "from pathlib import Path\n",
    "# Creating a DataFrame\n",
    "file_path = ('./Resources/crypto_data.csv')\n",
    "crypto_df = pd.read_csv(file_path)\n",
    "crypto_df.head()\n",
    "#df.dtypes"
   ]
  },
  {
   "cell_type": "markdown",
   "metadata": {},
   "source": [
    "### Data Preprocessing"
   ]
  },
  {
   "cell_type": "code",
   "execution_count": 395,
   "metadata": {},
   "outputs": [
    {
     "name": "stdout",
     "output_type": "stream",
     "text": [
      "Column Unnamed: 0 has 0 null values\n",
      "Column CoinName has 0 null values\n",
      "Column Algorithm has 0 null values\n",
      "Column IsTrading has 0 null values\n",
      "Column ProofType has 0 null values\n",
      "Column TotalCoinsMined has 508 null values\n",
      "Column TotalCoinSupply has 0 null values\n"
     ]
    }
   ],
   "source": [
    "# Traspose the data\n",
    "for column in crypto_df.columns:\n",
    "  print(f\"Column {column} has {crypto_df[column].isnull().sum()} null values\")"
   ]
  },
  {
   "cell_type": "code",
   "execution_count": 396,
   "metadata": {},
   "outputs": [
    {
     "data": {
      "text/html": [
       "<div>\n",
       "<style scoped>\n",
       "    .dataframe tbody tr th:only-of-type {\n",
       "        vertical-align: middle;\n",
       "    }\n",
       "\n",
       "    .dataframe tbody tr th {\n",
       "        vertical-align: top;\n",
       "    }\n",
       "\n",
       "    .dataframe thead th {\n",
       "        text-align: right;\n",
       "    }\n",
       "</style>\n",
       "<table border=\"1\" class=\"dataframe\">\n",
       "  <thead>\n",
       "    <tr style=\"text-align: right;\">\n",
       "      <th></th>\n",
       "      <th>Unnamed: 0</th>\n",
       "      <th>CoinName</th>\n",
       "      <th>Algorithm</th>\n",
       "      <th>IsTrading</th>\n",
       "      <th>ProofType</th>\n",
       "      <th>TotalCoinsMined</th>\n",
       "      <th>TotalCoinSupply</th>\n",
       "    </tr>\n",
       "  </thead>\n",
       "  <tbody>\n",
       "    <tr>\n",
       "      <th>0</th>\n",
       "      <td>42</td>\n",
       "      <td>42 Coin</td>\n",
       "      <td>Scrypt</td>\n",
       "      <td>True</td>\n",
       "      <td>PoW/PoS</td>\n",
       "      <td>4.199995e+01</td>\n",
       "      <td>42</td>\n",
       "    </tr>\n",
       "    <tr>\n",
       "      <th>1</th>\n",
       "      <td>365</td>\n",
       "      <td>365Coin</td>\n",
       "      <td>X11</td>\n",
       "      <td>True</td>\n",
       "      <td>PoW/PoS</td>\n",
       "      <td>NaN</td>\n",
       "      <td>2300000000</td>\n",
       "    </tr>\n",
       "    <tr>\n",
       "      <th>2</th>\n",
       "      <td>404</td>\n",
       "      <td>404Coin</td>\n",
       "      <td>Scrypt</td>\n",
       "      <td>True</td>\n",
       "      <td>PoW/PoS</td>\n",
       "      <td>1.055185e+09</td>\n",
       "      <td>532000000</td>\n",
       "    </tr>\n",
       "    <tr>\n",
       "      <th>3</th>\n",
       "      <td>611</td>\n",
       "      <td>SixEleven</td>\n",
       "      <td>SHA-256</td>\n",
       "      <td>True</td>\n",
       "      <td>PoW</td>\n",
       "      <td>NaN</td>\n",
       "      <td>611000</td>\n",
       "    </tr>\n",
       "    <tr>\n",
       "      <th>4</th>\n",
       "      <td>808</td>\n",
       "      <td>808</td>\n",
       "      <td>SHA-256</td>\n",
       "      <td>True</td>\n",
       "      <td>PoW/PoS</td>\n",
       "      <td>0.000000e+00</td>\n",
       "      <td>0</td>\n",
       "    </tr>\n",
       "  </tbody>\n",
       "</table>\n",
       "</div>"
      ],
      "text/plain": [
       "  Unnamed: 0   CoinName Algorithm  IsTrading ProofType  TotalCoinsMined  \\\n",
       "0         42    42 Coin    Scrypt       True   PoW/PoS     4.199995e+01   \n",
       "1        365    365Coin       X11       True   PoW/PoS              NaN   \n",
       "2        404    404Coin    Scrypt       True   PoW/PoS     1.055185e+09   \n",
       "3        611  SixEleven   SHA-256       True       PoW              NaN   \n",
       "4        808        808   SHA-256       True   PoW/PoS     0.000000e+00   \n",
       "\n",
       "  TotalCoinSupply  \n",
       "0              42  \n",
       "1      2300000000  \n",
       "2       532000000  \n",
       "3          611000  \n",
       "4               0  "
      ]
     },
     "execution_count": 396,
     "metadata": {},
     "output_type": "execute_result"
    }
   ],
   "source": [
    "# Remove unnecessary columns\n",
    "\n",
    "crypto_df.head()"
   ]
  },
  {
   "cell_type": "code",
   "execution_count": 397,
   "metadata": {},
   "outputs": [],
   "source": [
    "# Keep only cryptocurrencies that are on trading\n",
    "#key_columns = ['Unnamed: 0', 'CoinName', 'Algorithm', 'IsTrading', 'TotalCoinsMined', 'TotalCoinSupply']\n",
    "#for col in key_columns:\n",
    "#    IsTrading[col] = IsTrading[col].replace('False', None)\n",
    "for index, row in crypto_df.iterrows():\n",
    "    if(index, row['IsTrading']) == \"False\":\n",
    "        row['IsTrading'].replace('False', 'NaN', inplace=True)\n",
    " "
   ]
  },
  {
   "cell_type": "code",
   "execution_count": 398,
   "metadata": {},
   "outputs": [
    {
     "name": "stdout",
     "output_type": "stream",
     "text": [
      "Column Unnamed: 0 has 0 null values\n",
      "Column CoinName has 0 null values\n",
      "Column Algorithm has 0 null values\n",
      "Column IsTrading has 0 null values\n",
      "Column ProofType has 0 null values\n",
      "Column TotalCoinsMined has 508 null values\n",
      "Column TotalCoinSupply has 0 null values\n"
     ]
    }
   ],
   "source": [
    "#import numpy as np\n",
    "#crypto_df = crypto_df.replace('False', np.NaN)\n",
    "\n",
    "for column in crypto_df.columns:\n",
    "  print(f\"Column {column} has {crypto_df[column].isnull().sum()} null values\")     "
   ]
  },
  {
   "cell_type": "code",
   "execution_count": 399,
   "metadata": {},
   "outputs": [
    {
     "name": "stdout",
     "output_type": "stream",
     "text": [
      "1251 False\n"
     ]
    }
   ],
   "source": [
    "print(index, row['IsTrading'])"
   ]
  },
  {
   "cell_type": "code",
   "execution_count": 400,
   "metadata": {},
   "outputs": [],
   "source": [
    "# Keep only cryptocurrencies with a working algorithm\n",
    "\n"
   ]
  },
  {
   "cell_type": "code",
   "execution_count": 401,
   "metadata": {},
   "outputs": [
    {
     "data": {
      "text/html": [
       "<div>\n",
       "<style scoped>\n",
       "    .dataframe tbody tr th:only-of-type {\n",
       "        vertical-align: middle;\n",
       "    }\n",
       "\n",
       "    .dataframe tbody tr th {\n",
       "        vertical-align: top;\n",
       "    }\n",
       "\n",
       "    .dataframe thead th {\n",
       "        text-align: right;\n",
       "    }\n",
       "</style>\n",
       "<table border=\"1\" class=\"dataframe\">\n",
       "  <thead>\n",
       "    <tr style=\"text-align: right;\">\n",
       "      <th></th>\n",
       "      <th>Unnamed: 0</th>\n",
       "      <th>CoinName</th>\n",
       "      <th>Algorithm</th>\n",
       "      <th>ProofType</th>\n",
       "      <th>TotalCoinsMined</th>\n",
       "      <th>TotalCoinSupply</th>\n",
       "    </tr>\n",
       "  </thead>\n",
       "  <tbody>\n",
       "    <tr>\n",
       "      <th>0</th>\n",
       "      <td>42</td>\n",
       "      <td>42 Coin</td>\n",
       "      <td>Scrypt</td>\n",
       "      <td>PoW/PoS</td>\n",
       "      <td>4.199995e+01</td>\n",
       "      <td>42</td>\n",
       "    </tr>\n",
       "    <tr>\n",
       "      <th>1</th>\n",
       "      <td>365</td>\n",
       "      <td>365Coin</td>\n",
       "      <td>X11</td>\n",
       "      <td>PoW/PoS</td>\n",
       "      <td>NaN</td>\n",
       "      <td>2300000000</td>\n",
       "    </tr>\n",
       "    <tr>\n",
       "      <th>2</th>\n",
       "      <td>404</td>\n",
       "      <td>404Coin</td>\n",
       "      <td>Scrypt</td>\n",
       "      <td>PoW/PoS</td>\n",
       "      <td>1.055185e+09</td>\n",
       "      <td>532000000</td>\n",
       "    </tr>\n",
       "    <tr>\n",
       "      <th>3</th>\n",
       "      <td>611</td>\n",
       "      <td>SixEleven</td>\n",
       "      <td>SHA-256</td>\n",
       "      <td>PoW</td>\n",
       "      <td>NaN</td>\n",
       "      <td>611000</td>\n",
       "    </tr>\n",
       "    <tr>\n",
       "      <th>4</th>\n",
       "      <td>808</td>\n",
       "      <td>808</td>\n",
       "      <td>SHA-256</td>\n",
       "      <td>PoW/PoS</td>\n",
       "      <td>0.000000e+00</td>\n",
       "      <td>0</td>\n",
       "    </tr>\n",
       "  </tbody>\n",
       "</table>\n",
       "</div>"
      ],
      "text/plain": [
       "  Unnamed: 0   CoinName Algorithm ProofType  TotalCoinsMined TotalCoinSupply\n",
       "0         42    42 Coin    Scrypt   PoW/PoS     4.199995e+01              42\n",
       "1        365    365Coin       X11   PoW/PoS              NaN      2300000000\n",
       "2        404    404Coin    Scrypt   PoW/PoS     1.055185e+09       532000000\n",
       "3        611  SixEleven   SHA-256       PoW              NaN          611000\n",
       "4        808        808   SHA-256   PoW/PoS     0.000000e+00               0"
      ]
     },
     "execution_count": 401,
     "metadata": {},
     "output_type": "execute_result"
    }
   ],
   "source": [
    "# Remove the \"IsTrading\" column\n",
    "crypto_df.drop(columns=['IsTrading'], inplace=True)\n",
    "crypto_df.head()\n"
   ]
  },
  {
   "cell_type": "code",
   "execution_count": 402,
   "metadata": {},
   "outputs": [
    {
     "data": {
      "text/plain": [
       "Unnamed: 0         0\n",
       "CoinName           0\n",
       "Algorithm          0\n",
       "ProofType          0\n",
       "TotalCoinsMined    0\n",
       "TotalCoinSupply    0\n",
       "dtype: int64"
      ]
     },
     "execution_count": 402,
     "metadata": {},
     "output_type": "execute_result"
    }
   ],
   "source": [
    "# Removing rows with at least 1 null value\n",
    "crypto_df.dropna(inplace=True)\n",
    "crypto_df.isnull().sum()"
   ]
  },
  {
   "cell_type": "code",
   "execution_count": 403,
   "metadata": {},
   "outputs": [
    {
     "data": {
      "text/html": [
       "<div>\n",
       "<style scoped>\n",
       "    .dataframe tbody tr th:only-of-type {\n",
       "        vertical-align: middle;\n",
       "    }\n",
       "\n",
       "    .dataframe tbody tr th {\n",
       "        vertical-align: top;\n",
       "    }\n",
       "\n",
       "    .dataframe thead th {\n",
       "        text-align: right;\n",
       "    }\n",
       "</style>\n",
       "<table border=\"1\" class=\"dataframe\">\n",
       "  <thead>\n",
       "    <tr style=\"text-align: right;\">\n",
       "      <th></th>\n",
       "      <th>Unnamed: 0</th>\n",
       "      <th>CoinName</th>\n",
       "      <th>Algorithm</th>\n",
       "      <th>ProofType</th>\n",
       "      <th>TotalCoinsMined</th>\n",
       "      <th>TotalCoinSupply</th>\n",
       "    </tr>\n",
       "  </thead>\n",
       "  <tbody>\n",
       "    <tr>\n",
       "      <th>0</th>\n",
       "      <td>42</td>\n",
       "      <td>42 Coin</td>\n",
       "      <td>Scrypt</td>\n",
       "      <td>PoW/PoS</td>\n",
       "      <td>4.199995e+01</td>\n",
       "      <td>42</td>\n",
       "    </tr>\n",
       "    <tr>\n",
       "      <th>2</th>\n",
       "      <td>404</td>\n",
       "      <td>404Coin</td>\n",
       "      <td>Scrypt</td>\n",
       "      <td>PoW/PoS</td>\n",
       "      <td>1.055185e+09</td>\n",
       "      <td>532000000</td>\n",
       "    </tr>\n",
       "    <tr>\n",
       "      <th>4</th>\n",
       "      <td>808</td>\n",
       "      <td>808</td>\n",
       "      <td>SHA-256</td>\n",
       "      <td>PoW/PoS</td>\n",
       "      <td>NaN</td>\n",
       "      <td>0</td>\n",
       "    </tr>\n",
       "    <tr>\n",
       "      <th>5</th>\n",
       "      <td>1337</td>\n",
       "      <td>EliteCoin</td>\n",
       "      <td>X13</td>\n",
       "      <td>PoW/PoS</td>\n",
       "      <td>2.927942e+10</td>\n",
       "      <td>314159265359</td>\n",
       "    </tr>\n",
       "    <tr>\n",
       "      <th>7</th>\n",
       "      <td>BTC</td>\n",
       "      <td>Bitcoin</td>\n",
       "      <td>SHA-256</td>\n",
       "      <td>PoW</td>\n",
       "      <td>1.792718e+07</td>\n",
       "      <td>21000000</td>\n",
       "    </tr>\n",
       "  </tbody>\n",
       "</table>\n",
       "</div>"
      ],
      "text/plain": [
       "  Unnamed: 0   CoinName Algorithm ProofType  TotalCoinsMined TotalCoinSupply\n",
       "0         42    42 Coin    Scrypt   PoW/PoS     4.199995e+01              42\n",
       "2        404    404Coin    Scrypt   PoW/PoS     1.055185e+09       532000000\n",
       "4        808        808   SHA-256   PoW/PoS              NaN               0\n",
       "5       1337  EliteCoin       X13   PoW/PoS     2.927942e+10    314159265359\n",
       "7        BTC    Bitcoin   SHA-256       PoW     1.792718e+07        21000000"
      ]
     },
     "execution_count": 403,
     "metadata": {},
     "output_type": "execute_result"
    }
   ],
   "source": [
    "# Removing rows with cryptocurrencies without coins mined\n",
    "import numpy as np\n",
    "\n",
    "crypto_df = crypto_df.replace(0, np.nan)\n",
    "crypto_df = crypto_df.dropna(how='all', axis=0)\n",
    "crypto_df.head()"
   ]
  },
  {
   "cell_type": "code",
   "execution_count": 404,
   "metadata": {},
   "outputs": [
    {
     "data": {
      "text/html": [
       "<div>\n",
       "<style scoped>\n",
       "    .dataframe tbody tr th:only-of-type {\n",
       "        vertical-align: middle;\n",
       "    }\n",
       "\n",
       "    .dataframe tbody tr th {\n",
       "        vertical-align: top;\n",
       "    }\n",
       "\n",
       "    .dataframe thead th {\n",
       "        text-align: right;\n",
       "    }\n",
       "</style>\n",
       "<table border=\"1\" class=\"dataframe\">\n",
       "  <thead>\n",
       "    <tr style=\"text-align: right;\">\n",
       "      <th></th>\n",
       "      <th>Unnamed: 0</th>\n",
       "      <th>CoinName</th>\n",
       "      <th>Algorithm</th>\n",
       "      <th>ProofType</th>\n",
       "      <th>TotalCoinsMined</th>\n",
       "      <th>TotalCoinSupply</th>\n",
       "    </tr>\n",
       "  </thead>\n",
       "  <tbody>\n",
       "    <tr>\n",
       "      <th>0</th>\n",
       "      <td>42</td>\n",
       "      <td>42 Coin</td>\n",
       "      <td>Scrypt</td>\n",
       "      <td>PoW/PoS</td>\n",
       "      <td>4.199995e+01</td>\n",
       "      <td>42</td>\n",
       "    </tr>\n",
       "    <tr>\n",
       "      <th>2</th>\n",
       "      <td>404</td>\n",
       "      <td>404Coin</td>\n",
       "      <td>Scrypt</td>\n",
       "      <td>PoW/PoS</td>\n",
       "      <td>1.055185e+09</td>\n",
       "      <td>532000000</td>\n",
       "    </tr>\n",
       "    <tr>\n",
       "      <th>5</th>\n",
       "      <td>1337</td>\n",
       "      <td>EliteCoin</td>\n",
       "      <td>X13</td>\n",
       "      <td>PoW/PoS</td>\n",
       "      <td>2.927942e+10</td>\n",
       "      <td>314159265359</td>\n",
       "    </tr>\n",
       "    <tr>\n",
       "      <th>7</th>\n",
       "      <td>BTC</td>\n",
       "      <td>Bitcoin</td>\n",
       "      <td>SHA-256</td>\n",
       "      <td>PoW</td>\n",
       "      <td>1.792718e+07</td>\n",
       "      <td>21000000</td>\n",
       "    </tr>\n",
       "    <tr>\n",
       "      <th>8</th>\n",
       "      <td>ETH</td>\n",
       "      <td>Ethereum</td>\n",
       "      <td>Ethash</td>\n",
       "      <td>PoW</td>\n",
       "      <td>1.076842e+08</td>\n",
       "      <td>0</td>\n",
       "    </tr>\n",
       "  </tbody>\n",
       "</table>\n",
       "</div>"
      ],
      "text/plain": [
       "  Unnamed: 0   CoinName Algorithm ProofType  TotalCoinsMined TotalCoinSupply\n",
       "0         42    42 Coin    Scrypt   PoW/PoS     4.199995e+01              42\n",
       "2        404    404Coin    Scrypt   PoW/PoS     1.055185e+09       532000000\n",
       "5       1337  EliteCoin       X13   PoW/PoS     2.927942e+10    314159265359\n",
       "7        BTC    Bitcoin   SHA-256       PoW     1.792718e+07        21000000\n",
       "8        ETH   Ethereum    Ethash       PoW     1.076842e+08               0"
      ]
     },
     "execution_count": 404,
     "metadata": {},
     "output_type": "execute_result"
    }
   ],
   "source": [
    "# Dropping rows where there are 'N/A' text values\n",
    "crypto_df.dropna(axis=0, how='any', thresh=None, subset=None, inplace=True)\n",
    "crypto_df.head()"
   ]
  },
  {
   "cell_type": "code",
   "execution_count": 405,
   "metadata": {},
   "outputs": [
    {
     "name": "stdout",
     "output_type": "stream",
     "text": [
      "0           42 Coin\n",
      "2           404Coin\n",
      "5         EliteCoin\n",
      "7           Bitcoin\n",
      "8          Ethereum\n",
      "           ...     \n",
      "1242        Gapcoin\n",
      "1245         Beldex\n",
      "1246        Horizen\n",
      "1247    BitcoinPlus\n",
      "1248     DivotyCoin\n",
      "Name: CoinName, Length: 578, dtype: object\n"
     ]
    }
   ],
   "source": [
    "# Fetching the cryptocurrencies names prior to drop them from crypto_df\n",
    "print(crypto_df['CoinName'])"
   ]
  },
  {
   "cell_type": "code",
   "execution_count": 406,
   "metadata": {},
   "outputs": [
    {
     "data": {
      "text/html": [
       "<div>\n",
       "<style scoped>\n",
       "    .dataframe tbody tr th:only-of-type {\n",
       "        vertical-align: middle;\n",
       "    }\n",
       "\n",
       "    .dataframe tbody tr th {\n",
       "        vertical-align: top;\n",
       "    }\n",
       "\n",
       "    .dataframe thead th {\n",
       "        text-align: right;\n",
       "    }\n",
       "</style>\n",
       "<table border=\"1\" class=\"dataframe\">\n",
       "  <thead>\n",
       "    <tr style=\"text-align: right;\">\n",
       "      <th></th>\n",
       "      <th>CoinName</th>\n",
       "      <th>Algorithm</th>\n",
       "      <th>ProofType</th>\n",
       "      <th>TotalCoinsMined</th>\n",
       "      <th>TotalCoinSupply</th>\n",
       "    </tr>\n",
       "    <tr>\n",
       "      <th>Coin</th>\n",
       "      <th></th>\n",
       "      <th></th>\n",
       "      <th></th>\n",
       "      <th></th>\n",
       "      <th></th>\n",
       "    </tr>\n",
       "  </thead>\n",
       "  <tbody>\n",
       "    <tr>\n",
       "      <th>42</th>\n",
       "      <td>42 Coin</td>\n",
       "      <td>Scrypt</td>\n",
       "      <td>PoW/PoS</td>\n",
       "      <td>4.199995e+01</td>\n",
       "      <td>42</td>\n",
       "    </tr>\n",
       "    <tr>\n",
       "      <th>404</th>\n",
       "      <td>404Coin</td>\n",
       "      <td>Scrypt</td>\n",
       "      <td>PoW/PoS</td>\n",
       "      <td>1.055185e+09</td>\n",
       "      <td>532000000</td>\n",
       "    </tr>\n",
       "    <tr>\n",
       "      <th>1337</th>\n",
       "      <td>EliteCoin</td>\n",
       "      <td>X13</td>\n",
       "      <td>PoW/PoS</td>\n",
       "      <td>2.927942e+10</td>\n",
       "      <td>314159265359</td>\n",
       "    </tr>\n",
       "    <tr>\n",
       "      <th>BTC</th>\n",
       "      <td>Bitcoin</td>\n",
       "      <td>SHA-256</td>\n",
       "      <td>PoW</td>\n",
       "      <td>1.792718e+07</td>\n",
       "      <td>21000000</td>\n",
       "    </tr>\n",
       "    <tr>\n",
       "      <th>ETH</th>\n",
       "      <td>Ethereum</td>\n",
       "      <td>Ethash</td>\n",
       "      <td>PoW</td>\n",
       "      <td>1.076842e+08</td>\n",
       "      <td>0</td>\n",
       "    </tr>\n",
       "  </tbody>\n",
       "</table>\n",
       "</div>"
      ],
      "text/plain": [
       "       CoinName Algorithm ProofType  TotalCoinsMined TotalCoinSupply\n",
       "Coin                                                                \n",
       "42      42 Coin    Scrypt   PoW/PoS     4.199995e+01              42\n",
       "404     404Coin    Scrypt   PoW/PoS     1.055185e+09       532000000\n",
       "1337  EliteCoin       X13   PoW/PoS     2.927942e+10    314159265359\n",
       "BTC     Bitcoin   SHA-256       PoW     1.792718e+07        21000000\n",
       "ETH    Ethereum    Ethash       PoW     1.076842e+08               0"
      ]
     },
     "execution_count": 406,
     "metadata": {},
     "output_type": "execute_result"
    }
   ],
   "source": [
    "# Removig the cryptocurrency name since it's not going to be used on the clustering algorithm\n",
    "#crypto_df.drop(columns=['CoinName'],inplace=True)\n",
    "#crypto_df.head()\n",
    "crypto_df.rename(columns = {'Unnamed: 0':'Coin'}, inplace = True) \n",
    "crypto_df.set_index(('Coin'), inplace=True)\n",
    "crypto_df.head()\n"
   ]
  },
  {
   "cell_type": "code",
   "execution_count": 407,
   "metadata": {},
   "outputs": [
    {
     "data": {
      "text/html": [
       "<div>\n",
       "<style scoped>\n",
       "    .dataframe tbody tr th:only-of-type {\n",
       "        vertical-align: middle;\n",
       "    }\n",
       "\n",
       "    .dataframe tbody tr th {\n",
       "        vertical-align: top;\n",
       "    }\n",
       "\n",
       "    .dataframe thead th {\n",
       "        text-align: right;\n",
       "    }\n",
       "</style>\n",
       "<table border=\"1\" class=\"dataframe\">\n",
       "  <thead>\n",
       "    <tr style=\"text-align: right;\">\n",
       "      <th></th>\n",
       "      <th>TotalCoinsMined</th>\n",
       "      <th>CoinName_ ClubCoin</th>\n",
       "      <th>CoinName_1717 Masonic Commemorative Token</th>\n",
       "      <th>CoinName_1Credit</th>\n",
       "      <th>CoinName_404Coin</th>\n",
       "      <th>CoinName_42 Coin</th>\n",
       "      <th>CoinName_8BIT Coin</th>\n",
       "      <th>CoinName_AC3</th>\n",
       "      <th>CoinName_ALAX</th>\n",
       "      <th>CoinName_ARENON</th>\n",
       "      <th>...</th>\n",
       "      <th>TotalCoinSupply_91388946</th>\n",
       "      <th>TotalCoinSupply_92000000000</th>\n",
       "      <th>TotalCoinSupply_9354000</th>\n",
       "      <th>TotalCoinSupply_9507271</th>\n",
       "      <th>TotalCoinSupply_9736000</th>\n",
       "      <th>TotalCoinSupply_98000000</th>\n",
       "      <th>TotalCoinSupply_98100000000</th>\n",
       "      <th>TotalCoinSupply_990000000000</th>\n",
       "      <th>TotalCoinSupply_999481516</th>\n",
       "      <th>TotalCoinSupply_9999999</th>\n",
       "    </tr>\n",
       "    <tr>\n",
       "      <th>Coin</th>\n",
       "      <th></th>\n",
       "      <th></th>\n",
       "      <th></th>\n",
       "      <th></th>\n",
       "      <th></th>\n",
       "      <th></th>\n",
       "      <th></th>\n",
       "      <th></th>\n",
       "      <th></th>\n",
       "      <th></th>\n",
       "      <th></th>\n",
       "      <th></th>\n",
       "      <th></th>\n",
       "      <th></th>\n",
       "      <th></th>\n",
       "      <th></th>\n",
       "      <th></th>\n",
       "      <th></th>\n",
       "      <th></th>\n",
       "      <th></th>\n",
       "      <th></th>\n",
       "    </tr>\n",
       "  </thead>\n",
       "  <tbody>\n",
       "    <tr>\n",
       "      <th>42</th>\n",
       "      <td>4.199995e+01</td>\n",
       "      <td>0</td>\n",
       "      <td>0</td>\n",
       "      <td>0</td>\n",
       "      <td>0</td>\n",
       "      <td>1</td>\n",
       "      <td>0</td>\n",
       "      <td>0</td>\n",
       "      <td>0</td>\n",
       "      <td>0</td>\n",
       "      <td>...</td>\n",
       "      <td>0</td>\n",
       "      <td>0</td>\n",
       "      <td>0</td>\n",
       "      <td>0</td>\n",
       "      <td>0</td>\n",
       "      <td>0</td>\n",
       "      <td>0</td>\n",
       "      <td>0</td>\n",
       "      <td>0</td>\n",
       "      <td>0</td>\n",
       "    </tr>\n",
       "    <tr>\n",
       "      <th>404</th>\n",
       "      <td>1.055185e+09</td>\n",
       "      <td>0</td>\n",
       "      <td>0</td>\n",
       "      <td>0</td>\n",
       "      <td>1</td>\n",
       "      <td>0</td>\n",
       "      <td>0</td>\n",
       "      <td>0</td>\n",
       "      <td>0</td>\n",
       "      <td>0</td>\n",
       "      <td>...</td>\n",
       "      <td>0</td>\n",
       "      <td>0</td>\n",
       "      <td>0</td>\n",
       "      <td>0</td>\n",
       "      <td>0</td>\n",
       "      <td>0</td>\n",
       "      <td>0</td>\n",
       "      <td>0</td>\n",
       "      <td>0</td>\n",
       "      <td>0</td>\n",
       "    </tr>\n",
       "    <tr>\n",
       "      <th>1337</th>\n",
       "      <td>2.927942e+10</td>\n",
       "      <td>0</td>\n",
       "      <td>0</td>\n",
       "      <td>0</td>\n",
       "      <td>0</td>\n",
       "      <td>0</td>\n",
       "      <td>0</td>\n",
       "      <td>0</td>\n",
       "      <td>0</td>\n",
       "      <td>0</td>\n",
       "      <td>...</td>\n",
       "      <td>0</td>\n",
       "      <td>0</td>\n",
       "      <td>0</td>\n",
       "      <td>0</td>\n",
       "      <td>0</td>\n",
       "      <td>0</td>\n",
       "      <td>0</td>\n",
       "      <td>0</td>\n",
       "      <td>0</td>\n",
       "      <td>0</td>\n",
       "    </tr>\n",
       "    <tr>\n",
       "      <th>BTC</th>\n",
       "      <td>1.792718e+07</td>\n",
       "      <td>0</td>\n",
       "      <td>0</td>\n",
       "      <td>0</td>\n",
       "      <td>0</td>\n",
       "      <td>0</td>\n",
       "      <td>0</td>\n",
       "      <td>0</td>\n",
       "      <td>0</td>\n",
       "      <td>0</td>\n",
       "      <td>...</td>\n",
       "      <td>0</td>\n",
       "      <td>0</td>\n",
       "      <td>0</td>\n",
       "      <td>0</td>\n",
       "      <td>0</td>\n",
       "      <td>0</td>\n",
       "      <td>0</td>\n",
       "      <td>0</td>\n",
       "      <td>0</td>\n",
       "      <td>0</td>\n",
       "    </tr>\n",
       "    <tr>\n",
       "      <th>ETH</th>\n",
       "      <td>1.076842e+08</td>\n",
       "      <td>0</td>\n",
       "      <td>0</td>\n",
       "      <td>0</td>\n",
       "      <td>0</td>\n",
       "      <td>0</td>\n",
       "      <td>0</td>\n",
       "      <td>0</td>\n",
       "      <td>0</td>\n",
       "      <td>0</td>\n",
       "      <td>...</td>\n",
       "      <td>0</td>\n",
       "      <td>0</td>\n",
       "      <td>0</td>\n",
       "      <td>0</td>\n",
       "      <td>0</td>\n",
       "      <td>0</td>\n",
       "      <td>0</td>\n",
       "      <td>0</td>\n",
       "      <td>0</td>\n",
       "      <td>0</td>\n",
       "    </tr>\n",
       "  </tbody>\n",
       "</table>\n",
       "<p>5 rows × 974 columns</p>\n",
       "</div>"
      ],
      "text/plain": [
       "      TotalCoinsMined  CoinName_ ClubCoin  \\\n",
       "Coin                                        \n",
       "42       4.199995e+01                   0   \n",
       "404      1.055185e+09                   0   \n",
       "1337     2.927942e+10                   0   \n",
       "BTC      1.792718e+07                   0   \n",
       "ETH      1.076842e+08                   0   \n",
       "\n",
       "      CoinName_1717 Masonic Commemorative Token  CoinName_1Credit  \\\n",
       "Coin                                                                \n",
       "42                                            0                 0   \n",
       "404                                           0                 0   \n",
       "1337                                          0                 0   \n",
       "BTC                                           0                 0   \n",
       "ETH                                           0                 0   \n",
       "\n",
       "      CoinName_404Coin  CoinName_42 Coin  CoinName_8BIT Coin  CoinName_AC3  \\\n",
       "Coin                                                                         \n",
       "42                   0                 1                   0             0   \n",
       "404                  1                 0                   0             0   \n",
       "1337                 0                 0                   0             0   \n",
       "BTC                  0                 0                   0             0   \n",
       "ETH                  0                 0                   0             0   \n",
       "\n",
       "      CoinName_ALAX  CoinName_ARENON  ...  TotalCoinSupply_91388946  \\\n",
       "Coin                                  ...                             \n",
       "42                0                0  ...                         0   \n",
       "404               0                0  ...                         0   \n",
       "1337              0                0  ...                         0   \n",
       "BTC               0                0  ...                         0   \n",
       "ETH               0                0  ...                         0   \n",
       "\n",
       "      TotalCoinSupply_92000000000  TotalCoinSupply_9354000  \\\n",
       "Coin                                                         \n",
       "42                              0                        0   \n",
       "404                             0                        0   \n",
       "1337                            0                        0   \n",
       "BTC                             0                        0   \n",
       "ETH                             0                        0   \n",
       "\n",
       "      TotalCoinSupply_9507271  TotalCoinSupply_9736000  \\\n",
       "Coin                                                     \n",
       "42                          0                        0   \n",
       "404                         0                        0   \n",
       "1337                        0                        0   \n",
       "BTC                         0                        0   \n",
       "ETH                         0                        0   \n",
       "\n",
       "      TotalCoinSupply_98000000  TotalCoinSupply_98100000000  \\\n",
       "Coin                                                          \n",
       "42                           0                            0   \n",
       "404                          0                            0   \n",
       "1337                         0                            0   \n",
       "BTC                          0                            0   \n",
       "ETH                          0                            0   \n",
       "\n",
       "      TotalCoinSupply_990000000000  TotalCoinSupply_999481516  \\\n",
       "Coin                                                            \n",
       "42                               0                          0   \n",
       "404                              0                          0   \n",
       "1337                             0                          0   \n",
       "BTC                              0                          0   \n",
       "ETH                              0                          0   \n",
       "\n",
       "      TotalCoinSupply_9999999  \n",
       "Coin                           \n",
       "42                          0  \n",
       "404                         0  \n",
       "1337                        0  \n",
       "BTC                         0  \n",
       "ETH                         0  \n",
       "\n",
       "[5 rows x 974 columns]"
      ]
     },
     "execution_count": 407,
     "metadata": {},
     "output_type": "execute_result"
    }
   ],
   "source": [
    "# Creating dummies variables for text features\n",
    "crypto_dummies = pd.get_dummies(crypto_df)\n",
    "crypto_dummies.head()"
   ]
  },
  {
   "cell_type": "code",
   "execution_count": 408,
   "metadata": {},
   "outputs": [
    {
     "name": "stdout",
     "output_type": "stream",
     "text": [
      "[[-0.11416167 -0.04163054 -0.04163054 ... -0.04163054 -0.04163054\n",
      "  -0.04163054]\n",
      " [-0.09006124 -0.04163054 -0.04163054 ... -0.04163054 -0.04163054\n",
      "  -0.04163054]\n",
      " [ 0.55458069 -0.04163054 -0.04163054 ... -0.04163054 -0.04163054\n",
      "  -0.04163054]\n",
      " [-0.11375222 -0.04163054 -0.04163054 ... -0.04163054 -0.04163054\n",
      "  -0.04163054]\n",
      " [-0.11170216 -0.04163054 -0.04163054 ... -0.04163054 -0.04163054\n",
      "  -0.04163054]]\n"
     ]
    }
   ],
   "source": [
    "# Standardizing data\n",
    "\n",
    "crypto_scaled = StandardScaler().fit_transform(crypto_dummies)\n",
    "print(crypto_scaled[0:5])"
   ]
  },
  {
   "cell_type": "markdown",
   "metadata": {},
   "source": [
    "### Reducing Dimensions Using PCA"
   ]
  },
  {
   "cell_type": "code",
   "execution_count": 409,
   "metadata": {},
   "outputs": [],
   "source": [
    "# Using PCA to reduce dimension to 3 principal components\n",
    "pca = PCA(n_components=3)\n",
    "crypto_pca = pca.fit_transform(crypto_scaled)"
   ]
  },
  {
   "cell_type": "code",
   "execution_count": 412,
   "metadata": {},
   "outputs": [
    {
     "data": {
      "text/html": [
       "<div>\n",
       "<style scoped>\n",
       "    .dataframe tbody tr th:only-of-type {\n",
       "        vertical-align: middle;\n",
       "    }\n",
       "\n",
       "    .dataframe tbody tr th {\n",
       "        vertical-align: top;\n",
       "    }\n",
       "\n",
       "    .dataframe thead th {\n",
       "        text-align: right;\n",
       "    }\n",
       "</style>\n",
       "<table border=\"1\" class=\"dataframe\">\n",
       "  <thead>\n",
       "    <tr style=\"text-align: right;\">\n",
       "      <th></th>\n",
       "      <th>PC1</th>\n",
       "      <th>PC2</th>\n",
       "      <th>PC3</th>\n",
       "    </tr>\n",
       "    <tr>\n",
       "      <th>Coin</th>\n",
       "      <th></th>\n",
       "      <th></th>\n",
       "      <th></th>\n",
       "    </tr>\n",
       "  </thead>\n",
       "  <tbody>\n",
       "    <tr>\n",
       "      <th>42</th>\n",
       "      <td>-0.161998</td>\n",
       "      <td>-0.114078</td>\n",
       "      <td>0.006487</td>\n",
       "    </tr>\n",
       "    <tr>\n",
       "      <th>404</th>\n",
       "      <td>-0.122801</td>\n",
       "      <td>-0.104651</td>\n",
       "      <td>-0.013376</td>\n",
       "    </tr>\n",
       "    <tr>\n",
       "      <th>1337</th>\n",
       "      <td>0.726388</td>\n",
       "      <td>-0.530231</td>\n",
       "      <td>-0.123815</td>\n",
       "    </tr>\n",
       "    <tr>\n",
       "      <th>BTC</th>\n",
       "      <td>-0.280616</td>\n",
       "      <td>0.030911</td>\n",
       "      <td>-0.152420</td>\n",
       "    </tr>\n",
       "    <tr>\n",
       "      <th>ETH</th>\n",
       "      <td>-0.096176</td>\n",
       "      <td>-0.126432</td>\n",
       "      <td>-0.322480</td>\n",
       "    </tr>\n",
       "  </tbody>\n",
       "</table>\n",
       "</div>"
      ],
      "text/plain": [
       "           PC1       PC2       PC3\n",
       "Coin                              \n",
       "42   -0.161998 -0.114078  0.006487\n",
       "404  -0.122801 -0.104651 -0.013376\n",
       "1337  0.726388 -0.530231 -0.123815\n",
       "BTC  -0.280616  0.030911 -0.152420\n",
       "ETH  -0.096176 -0.126432 -0.322480"
      ]
     },
     "execution_count": 412,
     "metadata": {},
     "output_type": "execute_result"
    }
   ],
   "source": [
    "# Creating a DataFrame with the principal components data\n",
    "crypto_pca = pd.DataFrame(\n",
    "    data=crypto_pca,\n",
    "    columns=[\"PC1\", \"PC2\", \"PC3\"],\n",
    ").set_index(crypto_dummies.index)\n",
    "crypto_pca.head()\n"
   ]
  },
  {
   "cell_type": "markdown",
   "metadata": {},
   "source": [
    "### Clustering Crytocurrencies Using K-Means\n",
    "\n",
    "#### Finding the Best Value for `k` Using the Elbow Curve"
   ]
  },
  {
   "cell_type": "code",
   "execution_count": 414,
   "metadata": {},
   "outputs": [
    {
     "data": {
      "application/vnd.holoviews_exec.v0+json": "",
      "text/html": [
       "<div id='2999' style='display: table; margin: 0 auto;'>\n",
       "\n",
       "\n",
       "\n",
       "\n",
       "\n",
       "  <div class=\"bk-root\" id=\"da59ae60-fde6-4a47-af84-29dd11882181\" data-root-id=\"2999\"></div>\n",
       "</div>\n",
       "<script type=\"application/javascript\">(function(root) {\n",
       "  function embed_document(root) {\n",
       "    \n",
       "  var docs_json = {\"fa7ac030-d6b2-4e7a-b761-26db2c98bbfd\":{\"roots\":{\"references\":[{\"attributes\":{\"align\":null,\"below\":[{\"id\":\"3008\",\"type\":\"LinearAxis\"}],\"center\":[{\"id\":\"3012\",\"type\":\"Grid\"},{\"id\":\"3017\",\"type\":\"Grid\"}],\"left\":[{\"id\":\"3013\",\"type\":\"LinearAxis\"}],\"margin\":null,\"min_border_bottom\":10,\"min_border_left\":10,\"min_border_right\":10,\"min_border_top\":10,\"plot_height\":300,\"plot_width\":700,\"renderers\":[{\"id\":\"3036\",\"type\":\"GlyphRenderer\"}],\"sizing_mode\":\"fixed\",\"title\":{\"id\":\"3000\",\"type\":\"Title\"},\"toolbar\":{\"id\":\"3023\",\"type\":\"Toolbar\"},\"x_range\":{\"id\":\"2996\",\"type\":\"Range1d\"},\"x_scale\":{\"id\":\"3004\",\"type\":\"LinearScale\"},\"y_range\":{\"id\":\"2997\",\"type\":\"Range1d\"},\"y_scale\":{\"id\":\"3006\",\"type\":\"LinearScale\"}},\"id\":\"2999\",\"subtype\":\"Figure\",\"type\":\"Plot\"},{\"attributes\":{\"data_source\":{\"id\":\"3030\",\"type\":\"ColumnDataSource\"},\"glyph\":{\"id\":\"3033\",\"type\":\"Line\"},\"hover_glyph\":null,\"muted_glyph\":{\"id\":\"3035\",\"type\":\"Line\"},\"nonselection_glyph\":{\"id\":\"3034\",\"type\":\"Line\"},\"selection_glyph\":null,\"view\":{\"id\":\"3037\",\"type\":\"CDSView\"}},\"id\":\"3036\",\"type\":\"GlyphRenderer\"},{\"attributes\":{},\"id\":\"3018\",\"type\":\"SaveTool\"},{\"attributes\":{\"callback\":null,\"end\":1.1079884857816968e+24,\"reset_end\":1.1079884857816968e+24,\"reset_start\":9.423889001835623e+20,\"start\":9.423889001835623e+20,\"tags\":[[[\"inertia\",\"inertia\",null]]]},\"id\":\"2997\",\"type\":\"Range1d\"},{\"attributes\":{\"line_alpha\":0.2,\"line_color\":\"#1f77b3\",\"line_width\":2,\"x\":{\"field\":\"k\"},\"y\":{\"field\":\"inertia\"}},\"id\":\"3035\",\"type\":\"Line\"},{\"attributes\":{},\"id\":\"3019\",\"type\":\"PanTool\"},{\"attributes\":{},\"id\":\"3040\",\"type\":\"BasicTickFormatter\"},{\"attributes\":{},\"id\":\"3020\",\"type\":\"WheelZoomTool\"},{\"attributes\":{\"active_drag\":\"auto\",\"active_inspect\":\"auto\",\"active_multi\":null,\"active_scroll\":\"auto\",\"active_tap\":\"auto\",\"tools\":[{\"id\":\"2998\",\"type\":\"HoverTool\"},{\"id\":\"3018\",\"type\":\"SaveTool\"},{\"id\":\"3019\",\"type\":\"PanTool\"},{\"id\":\"3020\",\"type\":\"WheelZoomTool\"},{\"id\":\"3021\",\"type\":\"BoxZoomTool\"},{\"id\":\"3022\",\"type\":\"ResetTool\"}]},\"id\":\"3023\",\"type\":\"Toolbar\"},{\"attributes\":{\"source\":{\"id\":\"3030\",\"type\":\"ColumnDataSource\"}},\"id\":\"3037\",\"type\":\"CDSView\"},{\"attributes\":{\"overlay\":{\"id\":\"3051\",\"type\":\"BoxAnnotation\"}},\"id\":\"3021\",\"type\":\"BoxZoomTool\"},{\"attributes\":{},\"id\":\"3004\",\"type\":\"LinearScale\"},{\"attributes\":{\"callback\":null,\"renderers\":[{\"id\":\"3036\",\"type\":\"GlyphRenderer\"}],\"tags\":[\"hv_created\"],\"tooltips\":[[\"k\",\"@{k}\"],[\"inertia\",\"@{inertia}\"]]},\"id\":\"2998\",\"type\":\"HoverTool\"},{\"attributes\":{\"dimension\":1,\"grid_line_color\":null,\"ticker\":{\"id\":\"3014\",\"type\":\"BasicTicker\"}},\"id\":\"3017\",\"type\":\"Grid\"},{\"attributes\":{},\"id\":\"3022\",\"type\":\"ResetTool\"},{\"attributes\":{},\"id\":\"3031\",\"type\":\"Selection\"},{\"attributes\":{},\"id\":\"3006\",\"type\":\"LinearScale\"},{\"attributes\":{\"axis_label\":\"k\",\"bounds\":\"auto\",\"formatter\":{\"id\":\"3040\",\"type\":\"BasicTickFormatter\"},\"major_label_orientation\":\"horizontal\",\"ticker\":{\"id\":\"3038\",\"type\":\"FixedTicker\"}},\"id\":\"3008\",\"type\":\"LinearAxis\"},{\"attributes\":{\"callback\":null,\"end\":10.0,\"reset_end\":10.0,\"reset_start\":1.0,\"start\":1.0,\"tags\":[[[\"k\",\"k\",null]]]},\"id\":\"2996\",\"type\":\"Range1d\"},{\"attributes\":{},\"id\":\"3009\",\"type\":\"BasicTicker\"},{\"attributes\":{\"line_color\":\"#1f77b3\",\"line_width\":2,\"x\":{\"field\":\"k\"},\"y\":{\"field\":\"inertia\"}},\"id\":\"3033\",\"type\":\"Line\"},{\"attributes\":{\"grid_line_color\":null,\"ticker\":{\"id\":\"3009\",\"type\":\"BasicTicker\"}},\"id\":\"3012\",\"type\":\"Grid\"},{\"attributes\":{},\"id\":\"3049\",\"type\":\"UnionRenderers\"},{\"attributes\":{\"callback\":null,\"data\":{\"inertia\":{\"__ndarray__\":\"m3ssowVU7UQphwMEDNK8RIOqbqIKcp9EK0lk6byZiUQmwJLpkil0RM2oH28dnWVEzSpR2uoIXUScH8guAFVURIIpL+uk/U5EJADd9yKLSUQ=\",\"dtype\":\"float64\",\"shape\":[10]},\"k\":[1,2,3,4,5,6,7,8,9,10]},\"selected\":{\"id\":\"3031\",\"type\":\"Selection\"},\"selection_policy\":{\"id\":\"3049\",\"type\":\"UnionRenderers\"}},\"id\":\"3030\",\"type\":\"ColumnDataSource\"},{\"attributes\":{},\"id\":\"3014\",\"type\":\"BasicTicker\"},{\"attributes\":{\"axis_label\":\"inertia\",\"bounds\":\"auto\",\"formatter\":{\"id\":\"3044\",\"type\":\"BasicTickFormatter\"},\"major_label_orientation\":\"horizontal\",\"ticker\":{\"id\":\"3014\",\"type\":\"BasicTicker\"}},\"id\":\"3013\",\"type\":\"LinearAxis\"},{\"attributes\":{\"text\":\"Elbow Curve Crypto\",\"text_color\":{\"value\":\"black\"},\"text_font_size\":{\"value\":\"12pt\"}},\"id\":\"3000\",\"type\":\"Title\"},{\"attributes\":{\"line_alpha\":0.1,\"line_color\":\"#1f77b3\",\"line_width\":2,\"x\":{\"field\":\"k\"},\"y\":{\"field\":\"inertia\"}},\"id\":\"3034\",\"type\":\"Line\"},{\"attributes\":{\"bottom_units\":\"screen\",\"fill_alpha\":{\"value\":0.5},\"fill_color\":{\"value\":\"lightgrey\"},\"left_units\":\"screen\",\"level\":\"overlay\",\"line_alpha\":{\"value\":1.0},\"line_color\":{\"value\":\"black\"},\"line_dash\":[4,4],\"line_width\":{\"value\":2},\"render_mode\":\"css\",\"right_units\":\"screen\",\"top_units\":\"screen\"},\"id\":\"3051\",\"type\":\"BoxAnnotation\"},{\"attributes\":{},\"id\":\"3044\",\"type\":\"BasicTickFormatter\"},{\"attributes\":{\"ticks\":[1,2,3,4,5,6,7,8,9,10]},\"id\":\"3038\",\"type\":\"FixedTicker\"}],\"root_ids\":[\"2999\"]},\"title\":\"Bokeh Application\",\"version\":\"1.4.0\"}};\n",
       "  var render_items = [{\"docid\":\"fa7ac030-d6b2-4e7a-b761-26db2c98bbfd\",\"roots\":{\"2999\":\"da59ae60-fde6-4a47-af84-29dd11882181\"}}];\n",
       "  root.Bokeh.embed.embed_items_notebook(docs_json, render_items);\n",
       "\n",
       "  }\n",
       "  if (root.Bokeh !== undefined) {\n",
       "    embed_document(root);\n",
       "  } else {\n",
       "    var attempts = 0;\n",
       "    var timer = setInterval(function(root) {\n",
       "      if (root.Bokeh !== undefined) {\n",
       "        clearInterval(timer);\n",
       "        embed_document(root);\n",
       "      } else {\n",
       "        attempts++;\n",
       "        if (attempts > 100) {\n",
       "          clearInterval(timer);\n",
       "          console.log(\"Bokeh: ERROR: Unable to run BokehJS code because BokehJS library is missing\");\n",
       "        }\n",
       "      }\n",
       "    }, 10, root)\n",
       "  }\n",
       "})(window);</script>"
      ],
      "text/plain": [
       ":Curve   [k]   (inertia)"
      ]
     },
     "execution_count": 414,
     "metadata": {
      "application/vnd.holoviews_exec.v0+json": {
       "id": "2999"
      }
     },
     "output_type": "execute_result"
    }
   ],
   "source": [
    "# Import library KMeans\n",
    "from sklearn.cluster import KMeans\n",
    "inertia = []\n",
    "k = list(range(1, 11))\n",
    "\n",
    "# Calculate the inertia for the range ok k values\n",
    "for i in k:\n",
    "    km = KMeans(n_clusters=i, random_state=0)\n",
    "    km.fit(crypto_dummies)\n",
    "    inertia.append(km.inertia_)\n",
    "\n",
    "# Create the Elbow Curve using hvPlot\n",
    "elbow_data = {'k':k, 'inertia':inertia}\n",
    "elbow_df = pd.DataFrame(elbow_data)\n",
    "elbow_df.hvplot.line(x='k', y='inertia', xticks=k, title=\"Elbow Curve Crypto\")"
   ]
  },
  {
   "cell_type": "markdown",
   "metadata": {},
   "source": [
    "Running K-Means with `k=<you best value for k here>`"
   ]
  },
  {
   "cell_type": "code",
   "execution_count": 415,
   "metadata": {},
   "outputs": [
    {
     "data": {
      "text/html": [
       "<div>\n",
       "<style scoped>\n",
       "    .dataframe tbody tr th:only-of-type {\n",
       "        vertical-align: middle;\n",
       "    }\n",
       "\n",
       "    .dataframe tbody tr th {\n",
       "        vertical-align: top;\n",
       "    }\n",
       "\n",
       "    .dataframe thead th {\n",
       "        text-align: right;\n",
       "    }\n",
       "</style>\n",
       "<table border=\"1\" class=\"dataframe\">\n",
       "  <thead>\n",
       "    <tr style=\"text-align: right;\">\n",
       "      <th></th>\n",
       "      <th>PC1</th>\n",
       "      <th>PC2</th>\n",
       "      <th>PC3</th>\n",
       "      <th>class</th>\n",
       "    </tr>\n",
       "    <tr>\n",
       "      <th>Coin</th>\n",
       "      <th></th>\n",
       "      <th></th>\n",
       "      <th></th>\n",
       "      <th></th>\n",
       "    </tr>\n",
       "  </thead>\n",
       "  <tbody>\n",
       "    <tr>\n",
       "      <th>42</th>\n",
       "      <td>-0.161998</td>\n",
       "      <td>-0.114078</td>\n",
       "      <td>0.006487</td>\n",
       "      <td>0</td>\n",
       "    </tr>\n",
       "    <tr>\n",
       "      <th>404</th>\n",
       "      <td>-0.122801</td>\n",
       "      <td>-0.104651</td>\n",
       "      <td>-0.013376</td>\n",
       "      <td>0</td>\n",
       "    </tr>\n",
       "    <tr>\n",
       "      <th>1337</th>\n",
       "      <td>0.726388</td>\n",
       "      <td>-0.530231</td>\n",
       "      <td>-0.123815</td>\n",
       "      <td>0</td>\n",
       "    </tr>\n",
       "    <tr>\n",
       "      <th>BTC</th>\n",
       "      <td>-0.280616</td>\n",
       "      <td>0.030911</td>\n",
       "      <td>-0.152420</td>\n",
       "      <td>0</td>\n",
       "    </tr>\n",
       "    <tr>\n",
       "      <th>ETH</th>\n",
       "      <td>-0.096176</td>\n",
       "      <td>-0.126432</td>\n",
       "      <td>-0.322480</td>\n",
       "      <td>0</td>\n",
       "    </tr>\n",
       "  </tbody>\n",
       "</table>\n",
       "</div>"
      ],
      "text/plain": [
       "           PC1       PC2       PC3  class\n",
       "Coin                                     \n",
       "42   -0.161998 -0.114078  0.006487      0\n",
       "404  -0.122801 -0.104651 -0.013376      0\n",
       "1337  0.726388 -0.530231 -0.123815      0\n",
       "BTC  -0.280616  0.030911 -0.152420      0\n",
       "ETH  -0.096176 -0.126432 -0.322480      0"
      ]
     },
     "execution_count": 415,
     "metadata": {},
     "output_type": "execute_result"
    }
   ],
   "source": [
    "# Initialize the K-Means model\n",
    "model = KMeans(n_clusters = 3, random_state = 0)\n",
    "# Fit the model\n",
    "model.fit(crypto_pca)\n",
    "# Predict clusters\n",
    "predictions = model.predict(crypto_pca)\n",
    "# Creating a new DataFrame including predicted clusters and cryptocurrencies features\n",
    "crypto_pca['class'] = model.labels_\n",
    "crypto_pca.head()\n"
   ]
  },
  {
   "cell_type": "code",
   "execution_count": 427,
   "metadata": {},
   "outputs": [
    {
     "data": {
      "text/html": [
       "<div>\n",
       "<style scoped>\n",
       "    .dataframe tbody tr th:only-of-type {\n",
       "        vertical-align: middle;\n",
       "    }\n",
       "\n",
       "    .dataframe tbody tr th {\n",
       "        vertical-align: top;\n",
       "    }\n",
       "\n",
       "    .dataframe thead th {\n",
       "        text-align: right;\n",
       "    }\n",
       "</style>\n",
       "<table border=\"1\" class=\"dataframe\">\n",
       "  <thead>\n",
       "    <tr style=\"text-align: right;\">\n",
       "      <th></th>\n",
       "      <th>CoinName</th>\n",
       "      <th>Algorithm</th>\n",
       "      <th>ProofType</th>\n",
       "      <th>TotalCoinsMined</th>\n",
       "      <th>TotalCoinSupply</th>\n",
       "      <th>PC1</th>\n",
       "      <th>PC2</th>\n",
       "      <th>PC3</th>\n",
       "      <th>class</th>\n",
       "    </tr>\n",
       "    <tr>\n",
       "      <th>Coin</th>\n",
       "      <th></th>\n",
       "      <th></th>\n",
       "      <th></th>\n",
       "      <th></th>\n",
       "      <th></th>\n",
       "      <th></th>\n",
       "      <th></th>\n",
       "      <th></th>\n",
       "      <th></th>\n",
       "    </tr>\n",
       "  </thead>\n",
       "  <tbody>\n",
       "    <tr>\n",
       "      <th>42</th>\n",
       "      <td>42 Coin</td>\n",
       "      <td>Scrypt</td>\n",
       "      <td>PoW/PoS</td>\n",
       "      <td>4.199995e+01</td>\n",
       "      <td>42</td>\n",
       "      <td>-0.161998</td>\n",
       "      <td>-0.114078</td>\n",
       "      <td>0.006487</td>\n",
       "      <td>0</td>\n",
       "    </tr>\n",
       "    <tr>\n",
       "      <th>404</th>\n",
       "      <td>404Coin</td>\n",
       "      <td>Scrypt</td>\n",
       "      <td>PoW/PoS</td>\n",
       "      <td>1.055185e+09</td>\n",
       "      <td>532000000</td>\n",
       "      <td>-0.122801</td>\n",
       "      <td>-0.104651</td>\n",
       "      <td>-0.013376</td>\n",
       "      <td>0</td>\n",
       "    </tr>\n",
       "    <tr>\n",
       "      <th>1337</th>\n",
       "      <td>EliteCoin</td>\n",
       "      <td>X13</td>\n",
       "      <td>PoW/PoS</td>\n",
       "      <td>2.927942e+10</td>\n",
       "      <td>314159265359</td>\n",
       "      <td>0.726388</td>\n",
       "      <td>-0.530231</td>\n",
       "      <td>-0.123815</td>\n",
       "      <td>0</td>\n",
       "    </tr>\n",
       "    <tr>\n",
       "      <th>BTC</th>\n",
       "      <td>Bitcoin</td>\n",
       "      <td>SHA-256</td>\n",
       "      <td>PoW</td>\n",
       "      <td>1.792718e+07</td>\n",
       "      <td>21000000</td>\n",
       "      <td>-0.280616</td>\n",
       "      <td>0.030911</td>\n",
       "      <td>-0.152420</td>\n",
       "      <td>0</td>\n",
       "    </tr>\n",
       "    <tr>\n",
       "      <th>ETH</th>\n",
       "      <td>Ethereum</td>\n",
       "      <td>Ethash</td>\n",
       "      <td>PoW</td>\n",
       "      <td>1.076842e+08</td>\n",
       "      <td>0</td>\n",
       "      <td>-0.096176</td>\n",
       "      <td>-0.126432</td>\n",
       "      <td>-0.322480</td>\n",
       "      <td>0</td>\n",
       "    </tr>\n",
       "  </tbody>\n",
       "</table>\n",
       "</div>"
      ],
      "text/plain": [
       "       CoinName Algorithm ProofType  TotalCoinsMined TotalCoinSupply  \\\n",
       "Coin                                                                   \n",
       "42      42 Coin    Scrypt   PoW/PoS     4.199995e+01              42   \n",
       "404     404Coin    Scrypt   PoW/PoS     1.055185e+09       532000000   \n",
       "1337  EliteCoin       X13   PoW/PoS     2.927942e+10    314159265359   \n",
       "BTC     Bitcoin   SHA-256       PoW     1.792718e+07        21000000   \n",
       "ETH    Ethereum    Ethash       PoW     1.076842e+08               0   \n",
       "\n",
       "           PC1       PC2       PC3  class  \n",
       "Coin                                       \n",
       "42   -0.161998 -0.114078  0.006487      0  \n",
       "404  -0.122801 -0.104651 -0.013376      0  \n",
       "1337  0.726388 -0.530231 -0.123815      0  \n",
       "BTC  -0.280616  0.030911 -0.152420      0  \n",
       "ETH  -0.096176 -0.126432 -0.322480      0  "
      ]
     },
     "execution_count": 427,
     "metadata": {},
     "output_type": "execute_result"
    }
   ],
   "source": [
    "#Creat new dataFrame including more colum\n",
    "#crypto_pca.shape\n",
    "#crypto_df.shape\n",
    "cluster_df = pd.concat([crypto_df, crypto_pca], axis=1)\n",
    "cluster_df.head()"
   ]
  },
  {
   "cell_type": "markdown",
   "metadata": {},
   "source": [
    "### Visualizing Results\n",
    "\n",
    "#### 3D-Scatter with Clusters"
   ]
  },
  {
   "cell_type": "code",
   "execution_count": 431,
   "metadata": {},
   "outputs": [
    {
     "data": {
      "application/vnd.plotly.v1+json": {
       "config": {
        "plotlyServerURL": "https://plot.ly"
       },
       "data": [
        {
         "customdata": [
          [
           "Scrypt"
          ],
          [
           "Scrypt"
          ],
          [
           "X13"
          ],
          [
           "SHA-256"
          ],
          [
           "Ethash"
          ],
          [
           "Scrypt"
          ],
          [
           "X11"
          ],
          [
           "CryptoNight-V7"
          ],
          [
           "Ethash"
          ],
          [
           "Equihash"
          ],
          [
           "SHA-512"
          ],
          [
           "Multiple"
          ],
          [
           "SHA-256"
          ],
          [
           "SHA-256"
          ],
          [
           "Scrypt"
          ],
          [
           "X15"
          ],
          [
           "X11"
          ],
          [
           "Scrypt"
          ],
          [
           "Scrypt"
          ],
          [
           "Scrypt"
          ],
          [
           "Multiple"
          ],
          [
           "Scrypt"
          ],
          [
           "SHA-256"
          ],
          [
           "Scrypt"
          ],
          [
           "Scrypt"
          ],
          [
           "Scrypt"
          ],
          [
           "Quark"
          ],
          [
           "Groestl"
          ],
          [
           "Scrypt"
          ],
          [
           "Scrypt"
          ],
          [
           "Scrypt"
          ],
          [
           "Scrypt"
          ],
          [
           "Scrypt"
          ],
          [
           "X11"
          ],
          [
           "Scrypt"
          ],
          [
           "Groestl"
          ],
          [
           "Multiple"
          ],
          [
           "SHA-256"
          ],
          [
           "Scrypt"
          ],
          [
           "Scrypt"
          ],
          [
           "Scrypt"
          ],
          [
           "Scrypt"
          ],
          [
           "PoS"
          ],
          [
           "Scrypt"
          ],
          [
           "Scrypt"
          ],
          [
           "NeoScrypt"
          ],
          [
           "Scrypt"
          ],
          [
           "Scrypt"
          ],
          [
           "Scrypt"
          ],
          [
           "Scrypt"
          ],
          [
           "X11"
          ],
          [
           "Scrypt"
          ],
          [
           "X11"
          ],
          [
           "SHA-256"
          ],
          [
           "Scrypt"
          ],
          [
           "Scrypt"
          ],
          [
           "Scrypt"
          ],
          [
           "SHA3"
          ],
          [
           "Scrypt"
          ],
          [
           "HybridScryptHash256"
          ],
          [
           "Scrypt"
          ],
          [
           "Scrypt"
          ],
          [
           "SHA-256"
          ],
          [
           "Scrypt"
          ],
          [
           "X13"
          ],
          [
           "Scrypt"
          ],
          [
           "SHA-256"
          ],
          [
           "Scrypt"
          ],
          [
           "X13"
          ],
          [
           "NeoScrypt"
          ],
          [
           "Scrypt"
          ],
          [
           "Scrypt"
          ],
          [
           "Scrypt"
          ],
          [
           "Scrypt"
          ],
          [
           "Scrypt"
          ],
          [
           "Scrypt"
          ],
          [
           "X11"
          ],
          [
           "X11"
          ],
          [
           "SHA-256"
          ],
          [
           "Multiple"
          ],
          [
           "SHA-256"
          ],
          [
           "PHI1612"
          ],
          [
           "X11"
          ],
          [
           "SHA-256"
          ],
          [
           "SHA-256"
          ],
          [
           "SHA-256"
          ],
          [
           "X11"
          ],
          [
           "Scrypt"
          ],
          [
           "Scrypt"
          ],
          [
           "Scrypt"
          ],
          [
           "Scrypt"
          ],
          [
           "Lyra2REv2"
          ],
          [
           "Scrypt"
          ],
          [
           "X11"
          ],
          [
           "Multiple"
          ],
          [
           "SHA-256"
          ],
          [
           "X13"
          ],
          [
           "Scrypt"
          ],
          [
           "CryptoNight"
          ],
          [
           "CryptoNight"
          ],
          [
           "Shabal256"
          ],
          [
           "Counterparty"
          ],
          [
           "Scrypt"
          ],
          [
           "SHA-256"
          ],
          [
           "Groestl"
          ],
          [
           "Scrypt"
          ],
          [
           "Scrypt"
          ],
          [
           "Scrypt"
          ],
          [
           "X13"
          ],
          [
           "Scrypt"
          ],
          [
           "Scrypt"
          ],
          [
           "Scrypt"
          ],
          [
           "Scrypt"
          ],
          [
           "X13"
          ],
          [
           "Scrypt"
          ],
          [
           "Stanford Folding"
          ],
          [
           "X11"
          ],
          [
           "Multiple"
          ],
          [
           "QuBit"
          ],
          [
           "Scrypt"
          ],
          [
           "Scrypt"
          ],
          [
           "Scrypt"
          ],
          [
           "M7 POW"
          ],
          [
           "Scrypt"
          ],
          [
           "SHA-256"
          ],
          [
           "Scrypt"
          ],
          [
           "X11"
          ],
          [
           "SHA3"
          ],
          [
           "X11"
          ],
          [
           "Lyra2RE"
          ],
          [
           "SHA-256"
          ],
          [
           "QUAIT"
          ],
          [
           "X11"
          ],
          [
           "X11"
          ],
          [
           "Scrypt"
          ],
          [
           "Scrypt"
          ],
          [
           "Scrypt"
          ],
          [
           "Ethash"
          ],
          [
           "X13"
          ],
          [
           "Blake2b"
          ],
          [
           "SHA-256"
          ],
          [
           "X15"
          ],
          [
           "X11"
          ],
          [
           "SHA-256"
          ],
          [
           "BLAKE256"
          ],
          [
           "Scrypt"
          ],
          [
           "1GB AES Pattern Search"
          ],
          [
           "SHA-256"
          ],
          [
           "X11"
          ],
          [
           "Scrypt"
          ],
          [
           "SHA-256"
          ],
          [
           "SHA-256"
          ],
          [
           "NIST5"
          ],
          [
           "Scrypt"
          ],
          [
           "Scrypt"
          ],
          [
           "X11"
          ],
          [
           "Dagger"
          ],
          [
           "Scrypt"
          ],
          [
           "X11GOST"
          ],
          [
           "X11"
          ],
          [
           "Scrypt"
          ],
          [
           "SHA-256"
          ],
          [
           "Scrypt"
          ],
          [
           "PoS"
          ],
          [
           "Scrypt"
          ],
          [
           "ScryptOG"
          ],
          [
           "X11"
          ],
          [
           "X11"
          ],
          [
           "SHA-256"
          ],
          [
           "SHA-256"
          ],
          [
           "NIST5"
          ],
          [
           "X11"
          ],
          [
           "Scrypt"
          ],
          [
           "POS 3.0"
          ],
          [
           "Scrypt"
          ],
          [
           "Scrypt"
          ],
          [
           "Scrypt"
          ],
          [
           "X13"
          ],
          [
           "X11"
          ],
          [
           "X11"
          ],
          [
           "Equihash"
          ],
          [
           "X11"
          ],
          [
           "Scrypt"
          ],
          [
           "CryptoNight"
          ],
          [
           "SHA-256"
          ],
          [
           "SHA-256"
          ],
          [
           "X11"
          ],
          [
           "Scrypt"
          ],
          [
           "Multiple"
          ],
          [
           "Scrypt"
          ],
          [
           "Scrypt"
          ],
          [
           "Scrypt"
          ],
          [
           "SHA-256"
          ],
          [
           "Scrypt"
          ],
          [
           "Scrypt"
          ],
          [
           "SHA-256D"
          ],
          [
           "PoS"
          ],
          [
           "Scrypt"
          ],
          [
           "X11"
          ],
          [
           "Lyra2Z"
          ],
          [
           "PoS"
          ],
          [
           "X13"
          ],
          [
           "X14"
          ],
          [
           "PoS"
          ],
          [
           "SHA-256D"
          ],
          [
           "Ethash"
          ],
          [
           "Equihash"
          ],
          [
           "DPoS"
          ],
          [
           "X11"
          ],
          [
           "Scrypt"
          ],
          [
           "X11"
          ],
          [
           "X13"
          ],
          [
           "X11"
          ],
          [
           "PoS"
          ],
          [
           "Scrypt"
          ],
          [
           "Scrypt"
          ],
          [
           "X11"
          ],
          [
           "PoS"
          ],
          [
           "X11"
          ],
          [
           "SHA-256"
          ],
          [
           "Scrypt"
          ],
          [
           "X11"
          ],
          [
           "Scrypt"
          ],
          [
           "Scrypt"
          ],
          [
           "X11"
          ],
          [
           "CryptoNight"
          ],
          [
           "Scrypt"
          ],
          [
           "Scrypt"
          ],
          [
           "Scrypt"
          ],
          [
           "Scrypt"
          ],
          [
           "Quark"
          ],
          [
           "QuBit"
          ],
          [
           "Scrypt"
          ],
          [
           "CryptoNight"
          ],
          [
           "Lyra2RE"
          ],
          [
           "Scrypt"
          ],
          [
           "SHA-256"
          ],
          [
           "X11"
          ],
          [
           "Scrypt"
          ],
          [
           "X11"
          ],
          [
           "Scrypt"
          ],
          [
           "CryptoNight-V7"
          ],
          [
           "Scrypt"
          ],
          [
           "Scrypt"
          ],
          [
           "Scrypt"
          ],
          [
           "X13"
          ],
          [
           "X11"
          ],
          [
           "Equihash"
          ],
          [
           "Scrypt"
          ],
          [
           "Scrypt"
          ],
          [
           "Lyra2RE"
          ],
          [
           "Scrypt"
          ],
          [
           "Dagger-Hashimoto"
          ],
          [
           "X11"
          ],
          [
           "Blake2S"
          ],
          [
           "X11"
          ],
          [
           "Scrypt"
          ],
          [
           "PoS"
          ],
          [
           "X11"
          ],
          [
           "NIST5"
          ],
          [
           "PoS"
          ],
          [
           "X11"
          ],
          [
           "Scrypt"
          ],
          [
           "Scrypt"
          ],
          [
           "Scrypt"
          ],
          [
           "SHA-256"
          ],
          [
           "X11"
          ],
          [
           "Scrypt"
          ],
          [
           "Scrypt"
          ],
          [
           "SHA-256"
          ],
          [
           "PoS"
          ],
          [
           "Scrypt"
          ],
          [
           "X15"
          ],
          [
           "SHA-256"
          ],
          [
           "Scrypt"
          ],
          [
           "POS 3.0"
          ],
          [
           "CryptoNight-V7"
          ],
          [
           "536"
          ],
          [
           "Argon2d"
          ],
          [
           "Blake2b"
          ],
          [
           "Cloverhash"
          ],
          [
           "CryptoNight"
          ],
          [
           "NIST5"
          ],
          [
           "X11"
          ],
          [
           "NIST5"
          ],
          [
           "Skein"
          ],
          [
           "Scrypt"
          ],
          [
           "X13"
          ],
          [
           "Scrypt"
          ],
          [
           "X11"
          ],
          [
           "X11"
          ],
          [
           "Scrypt"
          ],
          [
           "CryptoNight"
          ],
          [
           "X13"
          ],
          [
           "Time Travel"
          ],
          [
           "Scrypt"
          ],
          [
           "Keccak"
          ],
          [
           "SkunkHash v2 Raptor"
          ],
          [
           "X11"
          ],
          [
           "Skein"
          ],
          [
           "SHA-256"
          ],
          [
           "X11"
          ],
          [
           "Scrypt"
          ],
          [
           "VeChainThor Authority"
          ],
          [
           "Scrypt"
          ],
          [
           "PoS"
          ],
          [
           "Scrypt"
          ],
          [
           "Scrypt"
          ],
          [
           "Scrypt"
          ],
          [
           "Scrypt"
          ],
          [
           "Scrypt"
          ],
          [
           "Scrypt"
          ],
          [
           "Scrypt"
          ],
          [
           "CryptoNight"
          ],
          [
           "SHA-512"
          ],
          [
           "Ouroboros"
          ],
          [
           "X11"
          ],
          [
           "Equihash"
          ],
          [
           "NeoScrypt"
          ],
          [
           "X11"
          ],
          [
           "Scrypt"
          ],
          [
           "NeoScrypt"
          ],
          [
           "Lyra2REv2"
          ],
          [
           "Equihash"
          ],
          [
           "Scrypt"
          ],
          [
           "SHA-256"
          ],
          [
           "NIST5"
          ],
          [
           "PHI1612"
          ],
          [
           "Dagger"
          ],
          [
           "Scrypt"
          ],
          [
           "Quark"
          ],
          [
           "Scrypt"
          ],
          [
           "POS 2.0"
          ],
          [
           "Scrypt"
          ],
          [
           "SHA-256"
          ],
          [
           "X11"
          ],
          [
           "NeoScrypt"
          ],
          [
           "Ethash"
          ],
          [
           "NeoScrypt"
          ],
          [
           "Quark"
          ],
          [
           "X11"
          ],
          [
           "DPoS"
          ],
          [
           "NIST5"
          ],
          [
           "X13"
          ],
          [
           "Multiple"
          ],
          [
           "Scrypt"
          ],
          [
           "CryptoNight"
          ],
          [
           "CryptoNight"
          ],
          [
           "Ethash"
          ],
          [
           "NIST5"
          ],
          [
           "Scrypt"
          ],
          [
           "Quark"
          ],
          [
           "X11"
          ],
          [
           "CryptoNight-V7"
          ],
          [
           "Scrypt"
          ],
          [
           "Scrypt"
          ],
          [
           "Scrypt"
          ],
          [
           "X11"
          ],
          [
           "BLAKE256"
          ],
          [
           "X11"
          ],
          [
           "Scrypt"
          ],
          [
           "Scrypt"
          ],
          [
           "NeoScrypt"
          ],
          [
           "NeoScrypt"
          ],
          [
           "Quark"
          ],
          [
           "NeoScrypt"
          ],
          [
           "Scrypt"
          ],
          [
           "Scrypt"
          ],
          [
           "Scrypt"
          ],
          [
           "X11"
          ],
          [
           "Scrypt"
          ],
          [
           "X11"
          ],
          [
           "SHA-256"
          ],
          [
           "C11"
          ],
          [
           "POS 3.0"
          ],
          [
           "Ethash"
          ],
          [
           "Scrypt"
          ],
          [
           "Scrypt"
          ],
          [
           "CryptoNight"
          ],
          [
           "SkunkHash"
          ],
          [
           "Scrypt"
          ],
          [
           "CryptoNight"
          ],
          [
           "X11"
          ],
          [
           "Scrypt"
          ],
          [
           "SHA-256"
          ],
          [
           "Dagger"
          ],
          [
           "Lyra2REv2"
          ],
          [
           "X13"
          ],
          [
           "Proof-of-BibleHash"
          ],
          [
           "SHA-256 + Hive"
          ],
          [
           "Scrypt"
          ],
          [
           "Scrypt"
          ],
          [
           "Skein"
          ],
          [
           "X11"
          ],
          [
           "Skein"
          ],
          [
           "X11"
          ],
          [
           "C11"
          ],
          [
           "Proof-of-Authority"
          ],
          [
           "X11"
          ],
          [
           "XEVAN"
          ],
          [
           "Scrypt"
          ],
          [
           "VBFT"
          ],
          [
           "Ethash"
          ],
          [
           "CryptoNight"
          ],
          [
           "Scrypt"
          ],
          [
           "SHA-256"
          ],
          [
           "IMesh"
          ],
          [
           "PHI1612"
          ],
          [
           "Quark"
          ],
          [
           "NIST5"
          ],
          [
           "Scrypt"
          ],
          [
           "Scrypt"
          ],
          [
           "Equihash"
          ],
          [
           "Scrypt"
          ],
          [
           "Lyra2Z"
          ],
          [
           "Green Protocol"
          ],
          [
           "PoS"
          ],
          [
           "Scrypt"
          ],
          [
           "NeoScrypt"
          ],
          [
           "Semux BFT consensus"
          ],
          [
           "X11"
          ],
          [
           "Quark"
          ],
          [
           "PoS"
          ],
          [
           "CryptoNight"
          ],
          [
           "X16R"
          ],
          [
           "Scrypt"
          ],
          [
           "NIST5"
          ],
          [
           "Lyra2RE"
          ],
          [
           "XEVAN"
          ],
          [
           "Tribus"
          ],
          [
           "Scrypt"
          ],
          [
           "Lyra2Z"
          ],
          [
           "Scrypt"
          ],
          [
           "Scrypt"
          ],
          [
           "CryptoNight"
          ],
          [
           "X11"
          ],
          [
           "SHA-256D"
          ],
          [
           "CryptoNight Heavy"
          ],
          [
           "CryptoNight"
          ],
          [
           "Scrypt"
          ],
          [
           "Scrypt"
          ],
          [
           "X11"
          ],
          [
           "Scrypt"
          ],
          [
           "Jump Consistent Hash"
          ],
          [
           "SHA-256D"
          ],
          [
           "CryptoNight"
          ],
          [
           "Scrypt"
          ],
          [
           "X15"
          ],
          [
           "Scrypt"
          ],
          [
           "Quark"
          ],
          [
           "Scrypt"
          ],
          [
           "SHA-512"
          ],
          [
           "SHA-256"
          ],
          [
           "DPoS"
          ],
          [
           "X16R"
          ],
          [
           "HMQ1725"
          ],
          [
           "X11"
          ],
          [
           "Scrypt"
          ],
          [
           "X16R"
          ],
          [
           "Quark"
          ],
          [
           "Quark"
          ],
          [
           "Scrypt"
          ],
          [
           "Lyra2REv2"
          ],
          [
           "Quark"
          ],
          [
           "Scrypt"
          ],
          [
           "Scrypt"
          ],
          [
           "Scrypt"
          ],
          [
           "CryptoNight-V7"
          ],
          [
           "Cryptonight-GPU"
          ],
          [
           "XEVAN"
          ],
          [
           "CryptoNight Heavy"
          ],
          [
           "CryptoNight"
          ],
          [
           "X11"
          ],
          [
           "X11"
          ],
          [
           "X11"
          ],
          [
           "Scrypt"
          ],
          [
           "PoS"
          ],
          [
           "SHA-256"
          ],
          [
           "Keccak"
          ],
          [
           "X11"
          ],
          [
           "X11"
          ],
          [
           "Tribus"
          ],
          [
           "Scrypt"
          ],
          [
           "NeoScrypt"
          ],
          [
           "SHA-512"
          ],
          [
           "X16R"
          ],
          [
           "ECC 256K1"
          ],
          [
           "Equihash"
          ],
          [
           "XEVAN"
          ],
          [
           "HMQ1725"
          ],
          [
           "Lyra2Z"
          ],
          [
           "SHA-512"
          ],
          [
           "SHA-256"
          ],
          [
           "Quark"
          ],
          [
           "PHI1612"
          ],
          [
           "XEVAN"
          ],
          [
           "X11"
          ],
          [
           "CryptoNight"
          ],
          [
           "Quark"
          ],
          [
           "Blake"
          ],
          [
           "Blake"
          ],
          [
           "Blake"
          ],
          [
           "Blake"
          ],
          [
           "Equihash"
          ],
          [
           "Exosis"
          ],
          [
           "Scrypt"
          ],
          [
           "Scrypt"
          ],
          [
           "Equihash"
          ],
          [
           "Quark"
          ],
          [
           "Equihash"
          ],
          [
           "Quark"
          ],
          [
           "Scrypt"
          ],
          [
           "Lyra2REv2"
          ],
          [
           "QuBit"
          ],
          [
           "X11"
          ],
          [
           "Scrypt"
          ],
          [
           "XEVAN"
          ],
          [
           "SHA-256D"
          ],
          [
           "X11"
          ],
          [
           "SHA-256"
          ],
          [
           "X13"
          ],
          [
           "SHA-256"
          ],
          [
           "X11"
          ],
          [
           "DPoS"
          ],
          [
           "Ethash"
          ],
          [
           "Scrypt"
          ],
          [
           "Scrypt"
          ],
          [
           "X11"
          ],
          [
           "NeoScrypt"
          ],
          [
           "Scrypt"
          ],
          [
           "Blake"
          ],
          [
           "Scrypt"
          ],
          [
           "SHA-256"
          ],
          [
           "Scrypt"
          ],
          [
           "X11"
          ],
          [
           "Scrypt"
          ],
          [
           "Scrypt"
          ],
          [
           "SHA-256"
          ],
          [
           "X11"
          ],
          [
           "SHA-256"
          ],
          [
           "Scrypt"
          ],
          [
           "Scrypt"
          ],
          [
           "Scrypt"
          ],
          [
           "Groestl"
          ],
          [
           "X11"
          ],
          [
           "Scrypt"
          ],
          [
           "PoS"
          ],
          [
           "Scrypt"
          ],
          [
           "Scrypt"
          ],
          [
           "X11"
          ],
          [
           "SHA-256"
          ],
          [
           "DPoS"
          ],
          [
           "Scrypt"
          ],
          [
           "Scrypt"
          ],
          [
           "NeoScrypt"
          ],
          [
           "SHA3-256"
          ],
          [
           "Multiple"
          ],
          [
           "X13"
          ],
          [
           "Equihash+Scrypt"
          ],
          [
           "Lyra2Z"
          ],
          [
           "PHI2"
          ],
          [
           "DPoS"
          ],
          [
           "Ethash"
          ],
          [
           "DPoS"
          ],
          [
           "SHA-256"
          ],
          [
           "Lyra2Z"
          ],
          [
           "Leased POS"
          ],
          [
           "PoS"
          ],
          [
           "Scrypt"
          ],
          [
           "TRC10"
          ],
          [
           "Equihash"
          ],
          [
           "PoS"
          ],
          [
           "SHA-256"
          ],
          [
           "Scrypt"
          ],
          [
           "CryptoNight"
          ],
          [
           "Equihash"
          ],
          [
           "Scrypt"
          ],
          [
           "Scrypt"
          ]
         ],
         "hoverlabel": {
          "namelength": 0
         },
         "hovertemplate": "<b>%{hovertext}</b><br><br>PC3=%{x}<br>PC2=%{y}<br>PC1=%{z}<br>Algorithm=%{customdata[0]}",
         "hovertext": [
          "42 Coin",
          "404Coin",
          "EliteCoin",
          "Bitcoin",
          "Ethereum",
          "Litecoin",
          "Dash",
          "Monero",
          "Ethereum Classic",
          "ZCash",
          "Bitshares",
          "DigiByte",
          "BitcoinDark",
          "PayCoin",
          "ProsperCoin",
          "KoboCoin",
          "Spreadcoin",
          "Argentum",
          "Aurora Coin",
          "BlueCoin",
          "MyriadCoin",
          "MoonCoin",
          "ZetaCoin",
          "SexCoin",
          "Quatloo",
          "EnergyCoin",
          "QuarkCoin",
          "Riecoin",
          "Digitalcoin ",
          "BitBar",
          "Catcoin",
          "CryptoBullion",
          "CannaCoin",
          "CryptCoin",
          "CasinoCoin",
          "Diamond",
          "Verge",
          "DevCoin",
          "EarthCoin",
          "E-Gulden",
          "Einsteinium",
          "Emerald",
          "Exclusive Coin",
          "FlutterCoin",
          "Franko",
          "FeatherCoin",
          "GrandCoin",
          "GlobalCoin",
          "GoldCoin",
          "HoboNickels",
          "HyperStake",
          "Infinite Coin",
          "IOCoin",
          "IXcoin",
          "KrugerCoin",
          "LuckyCoin",
          "Litebar ",
          "MaxCoin",
          "MegaCoin",
          "MediterraneanCoin",
          "MintCoin",
          "MinCoin",
          "MazaCoin",
          "Nautilus Coin",
          "NavCoin",
          "NobleCoin",
          "Namecoin",
          "NyanCoin",
          "OpalCoin",
          "Orbitcoin",
          "PotCoin",
          "PhoenixCoin",
          "Reddcoin",
          "RonPaulCoin",
          "StableCoin",
          "SmartCoin",
          "SuperCoin",
          "SyncCoin",
          "SysCoin",
          "TeslaCoin",
          "TigerCoin",
          "TittieCoin",
          "TorCoin",
          "TerraCoin",
          "UnbreakableCoin",
          "Unobtanium",
          "UroCoin",
          "UnitaryStatus Dollar",
          "UltraCoin",
          "ViaCoin",
          "VeriCoin",
          "Vertcoin",
          "WorldCoin",
          "X11 Coin",
          "Crypti",
          "JouleCoin",
          "StealthCoin",
          "ZCC Coin",
          "ByteCoin",
          "DigitalNote ",
          "BurstCoin",
          "StorjCoin",
          "MonaCoin",
          "Neutron",
          "FairCoin",
          "Gulden",
          "RubyCoin",
          "PesetaCoin",
          "Kore",
          "Wild Beast Coin",
          "Dnotes",
          "Flo",
          "8BIT Coin",
          "Sativa Coin",
          "ArtByte",
          "Folding Coin",
          "Ucoin",
          "Unitus",
          "CypherPunkCoin",
          "OmniCron",
          "Vtorrent",
          "GreenCoin",
          "Cryptonite",
          "MasterCoin",
          "SoonCoin",
          "1Credit",
          "IslaCoin",
          "Nexus",
          "MarsCoin ",
          "Crypto",
          "Anarchists Prime",
          "Droidz",
          "BowsCoin",
          "Squall Coin",
          "Song Coin",
          "BitZeny",
          "Diggits",
          "Expanse",
          "Paycon",
          "Siacoin",
          "Emercoin",
          "EverGreenCoin",
          "MindCoin",
          "I0coin",
          "Decred",
          "Revolution VR",
          "HOdlcoin",
          "EDRCoin",
          "Hitcoin",
          "Gamecredits",
          "DubaiCoin",
          "CarpeDiemCoin",
          "PWR Coin",
          "BillaryCoin",
          "GPU Coin",
          "Adzcoin",
          "SoilCoin",
          "YoCoin",
          "SibCoin",
          "EuropeCoin",
          "ZeitCoin",
          "SwingCoin",
          "SafeExchangeCoin",
          "Nebuchadnezzar",
          "Francs",
          "Aiden",
          "BolivarCoin",
          "Ratecoin",
          "Revenu",
          "Clockcoin",
          "VIP Tokens",
          "BitSend",
          "Omni",
          "Let it Ride",
          "PutinCoin",
          "iBankCoin",
          "Frankywillcoin",
          "MudraCoin",
          "PizzaCoin",
          "Lutetium Coin",
          "Komodo",
          "GoldBlocks",
          "CarterCoin",
          "Karbo",
          "BitTokens",
          "ZayedCoin",
          "MustangCoin",
          "ZoneCoin",
          "Circuits of Value",
          "RootCoin",
          "DopeCoin",
          "BitCurrency",
          "DollarCoin",
          "Swiscoin",
          "Shilling",
          "BuzzCoin",
          "Opair",
          "PesoBit",
          "Halloween Coin",
          "ZCoin",
          "CoffeeCoin",
          "RoyalCoin",
          "GanjaCoin V2",
          "TeamUP",
          "LanaCoin",
          "Elementrem",
          "ZClassic",
          "ARK",
          "InsaneCoin",
          "KiloCoin",
          "ArtexCoin",
          "EmberCoin",
          "XenixCoin",
          "FreeCoin",
          "PLNCoin",
          "AquariusCoin",
          "Kurrent",
          "Creatio",
          "Eternity",
          "Eurocoin",
          "BitcoinFast",
          "Stakenet",
          "BitConnect Coin",
          "MoneyCoin",
          "Enigma",
          "Cannabis Industry Coin",
          "Russiacoin",
          "PandaCoin",
          "GameUnits",
          "GAKHcoin",
          "Allsafe",
          "LiteCreed",
          "OsmiumCoin",
          "Bikercoins",
          "HexxCoin",
          "Klingon Empire Darsek",
          "Internet of People",
          "KushCoin",
          "Printerium",
          "PacCoin",
          "Impeach",
          "Citadel",
          "Zilbercoin",
          "FirstCoin",
          "BeaverCoin",
          "FindCoin",
          "VaultCoin",
          "Zero",
          "OpenChat",
          "Canada eCoin",
          "Zoin",
          "RenosCoin",
          "DubaiCoin",
          "VirtacoinPlus",
          "TajCoin",
          "Impact",
          "EB3coin",
          "Atmos",
          "HappyCoin",
          "Coinonat",
          "MacronCoin",
          "Condensate",
          "Independent Money System",
          "ArgusCoin",
          "LomoCoin",
          "ProCurrency",
          "GoldReserve",
          "BenjiRolls",
          "GrowthCoin",
          "ILCoin",
          "Phreak",
          "Degas Coin",
          "HTML5 Coin",
          "Ultimate Secure Cash",
          "EquiTrader",
          "QTUM",
          "Quantum Resistant Ledger",
          "Espers",
          "Dynamic",
          "Nano",
          "ChanCoin",
          "Dinastycoin",
          "Denarius",
          "DigitalPrice",
          "Virta Unique Coin",
          "Bitcoin Planet",
          "Unify",
          "BritCoin",
          "SocialCoin",
          "ArcticCoin",
          "DAS",
          "Linda",
          "LeviarCoin",
          "DeepOnion",
          "Bitcore",
          "gCn Coin",
          "SmartCash",
          "Signatum",
          "Onix",
          "Cream",
          "Bitcoin Cash",
          "Monoeci",
          "Draftcoin",
          "Vechain",
          "Sojourn Coin",
          "Stakecoin",
          "NewYorkCoin",
          "FrazCoin",
          "Kronecoin",
          "AdCoin",
          "Linx",
          "CoinonatX",
          "Ethereum Dark",
          "Sumokoin",
          "Obsidian",
          "Cardano",
          "Regalcoin",
          "BitcoinZ",
          "TrezarCoin",
          "Elements",
          "TerraNovaCoin",
          "VIVO Coin",
          "Rupee",
          "Bitcoin Gold",
          "WomenCoin",
          "Theresa May Coin",
          "NamoCoin",
          "LUXCoin",
          "Pirl",
          "Xios",
          "Bitcloud 2.0",
          "eBoost",
          "KekCoin",
          "BlackholeCoin",
          "Infinity Economics",
          "Pura",
          "Innova",
          "Ellaism",
          "GoByte",
          "Alqo",
          "Magnet",
          "Lamden Tau",
          "Electra",
          "Bitcoin Diamond",
          "SHIELD",
          "Cash & Back Coin",
          "UltraNote",
          "BitCoal",
          "DaxxCoin",
          "Bulwark",
          "BoxyCoin",
          "Kalkulus",
          "AC3",
          "Lethean",
          "GermanCoin",
          "LiteCoin Ultra",
          "PopularCoin",
          "PhantomX",
          "Photon",
          "Sucre",
          "Accolade",
          "OmiseGO Classic",
          "SparksPay",
          "GoaCoin",
          "Digiwage",
          "GunCoin",
          "IrishCoin",
          "Trollcoin",
          "Litecoin Plus",
          "Monkey Project",
          "ECC",
          "Pioneer Coin",
          "UnitedBitcoin",
          "Interzone",
          "TokenPay",
          "1717 Masonic Commemorative Token",
          "Crypto Wisdom Coin",
          "My Big Coin",
          "TurtleCoin",
          "MUNcoin",
          "Unified Society USDEX",
          "Niobio Cash",
          "BitSoar Coin",
          "ShareChain",
          "Credence Coin",
          "Travelflex",
          "KREDS",
          "Tokyo Coin",
          "BiblePay",
          "LitecoinCash",
          "BitFlip",
          "LottoCoin",
          "BashCoin",
          "DigiMoney",
          "Lizus Payment",
          "Crypto Improvement Fund",
          "Stipend",
          "Poa Network",
          "Pushi",
          "Ellerium",
          "Velox",
          "Ontology",
          "Callisto Network",
          "BitTube",
          "Poseidon",
          "Manna",
          "Aidos Kuneen",
          "Seraph",
          "Cosmo",
          "Bitspace",
          "Briacoin",
          "Ignition",
          "Bitrolium",
          "MedicCoin",
          "Alpenschillling",
          "Bitcoin Green",
          "Deviant Coin",
          "Abjcoin",
          "Rapture",
          "Semux",
          "FuturoCoin",
          "Carebit",
          "Zealium",
          "Monero Classic",
          "Proton",
          "iDealCash",
          "Jumpcoin",
          "Infinex",
          "Bitcoin Incognito",
          "KEYCO",
          "HollyWoodCoin",
          "GINcoin",
          "Parlay",
          "Listerclassic Coin",
          "PlatinCoin",
          "BetKings",
          "Cognitio",
          "Loki",
          "Newton Coin",
          "Mercoin",
          "Swisscoin",
          "Reliance",
          "Xt3ch",
          "MassGrid",
          "TheVig",
          "PluraCoin",
          "EmaratCoin",
          "Dekado",
          "Lynx",
          "Poseidon Quark",
          "MYCE",
          "Arionum",
          "BitcoinWSpectrum",
          "Muse",
          "Motion",
          "PlusOneCoin",
          "Axe",
          "GambleCoin",
          "Trivechain",
          "Dystem",
          "Giant",
          "Peony Coin",
          "Absolute Coin",
          "Vitae",
          "HexCoin",
          "Deimos",
          "TPCash",
          "Webchain",
          "Ryo",
          "Urals Coin",
          "Qwertycoin",
          "Bitcoin Nova",
          "ARENON",
          "DACash",
          "EUNO",
          "MMOCoin",
          "Ketan",
          "Project Pai",
          "XDNA",
          "PAXEX",
          "Azart",
          "Averopay",
          "ThunderStake",
          "SimpleBank",
          "Kcash",
          "Xchange",
          "Acute Angle Cloud",
          "CrypticCoin",
          "Bettex coin",
          "Brazio",
          "Actinium",
          "TWIST",
          "Bitcoin SV",
          "DACH Coin",
          "Argoneum",
          "BitMoney",
          "Junson Ming Chan Coin",
          "FREDEnergy",
          "HerbCoin",
          "BlakeBitcoin",
          "Universal Molecule",
          "Lithium",
          "Electron",
          "PirateCash",
          "Exosis",
          "Block-Logic",
          "Oduwa",
          "Beam",
          "Galilel",
          "Bithereum",
          "Crypto Sports",
          "Credit",
          "Scribe Network",
          "SLICE",
          "Dash Platinum",
          "Nasdacoin",
          "Beetle Coin",
          "Titan Coin",
          "Award",
          "BLAST",
          "Bitcoin Rhodium",
          "GlobalToken",
          "Insane Coin",
          "ALAX",
          "Media Protocol Token",
          "LiteDoge",
          "SolarCoin",
          "TruckCoin",
          "UFO Coin",
          "OrangeCoin",
          "BlakeCoin",
          "BitstarCoin",
          "NeosCoin",
          "HyperCoin",
          "PinkCoin",
          "Crypto Escudo",
          "AudioCoin",
          "IncaKoin",
          "Piggy Coin",
          "Crown Coin",
          "Genstake",
          "SmileyCoin",
          "XiaoMiCoin",
          "Groestlcoin",
          "CapriCoin",
          " ClubCoin",
          "Radium",
          "Bata",
          "Pakcoin",
          "Creditbit ",
          "OKCash",
          "Lisk",
          "HiCoin",
          "WhiteCoin",
          "FriendshipCoin",
          "Fiii",
          "JoinCoin",
          "Triangles Coin",
          "Vollar",
          "TecraCoin",
          "Gexan",
          "EOS",
          "Reality Clash",
          "Oxycoin",
          "TigerCash",
          "LAPO",
          "Waves",
          "Particl",
          "ShardCoin",
          "BitTorrent",
          "ChainZilla",
          "Nxt",
          "ZEPHYR",
          "Gapcoin",
          "Beldex",
          "Horizen",
          "BitcoinPlus",
          "DivotyCoin"
         ],
         "legendgroup": "",
         "marker": {
          "color": "#636efa",
          "symbol": "circle"
         },
         "mode": "markers",
         "name": "",
         "scene": "scene",
         "showlegend": false,
         "type": "scatter3d",
         "x": [
          0.006486524367257834,
          -0.01337637042560278,
          -0.12381452495384565,
          -0.15241994345082568,
          -0.3224799117901403,
          -0.40801130304508354,
          0.2931376221609813,
          -0.18799234585999508,
          -0.4280096214136808,
          -0.34671517307868,
          0.21682170509545706,
          -0.32933769922699846,
          0.2484699784001739,
          0.2588989778125474,
          -0.2796631645635776,
          -0.3192194054110661,
          -0.020281326030304116,
          -0.38021926102040626,
          -0.01695749811859595,
          0.013456617501326514,
          -0.30044472653501203,
          -0.39788675534162876,
          -0.23254463316357238,
          -0.33412128617210185,
          -0.19920349931232645,
          0.01342774056305267,
          0.3894985659127038,
          -0.44779488495546765,
          -0.34892326464874834,
          -0.04402179023519162,
          -0.4265062077221555,
          -0.0072602119590133695,
          -0.46439438942624395,
          0.16934596850822717,
          1.0986013425664678,
          -0.21403821093773223,
          -0.4838418860490088,
          -0.1812692634753767,
          -0.3987755209784254,
          -0.42782407580375914,
          -0.47395907094411777,
          -0.4473421495962637,
          0.342397078272475,
          -0.08205421264142261,
          -0.4871487066311501,
          -0.5520927759925771,
          -0.3808903589667754,
          -0.3508065180031267,
          -0.48205471224998786,
          0.013411990350798361,
          0.2905716984688277,
          -0.36259678763044045,
          0.29364387072356685,
          -0.1525498813320277,
          -0.4640382435850696,
          -0.19228635777833644,
          -0.3290589803319462,
          0.4263503639996044,
          -0.2994451657916865,
          -0.3163188887144498,
          0.12011711084342488,
          -0.2898205117559264,
          0.27184484936507464,
          0.05062271711688297,
          0.06380155515270058,
          -0.37574876295525206,
          -0.15242062975635395,
          -0.39991056456318197,
          0.064148468223369,
          -0.21296955547662733,
          0.07305952465750619,
          0.0011509962821719707,
          0.016306035289955598,
          -0.28017153797646205,
          -0.3335542783916799,
          -0.2922708322333561,
          0.29011174406549756,
          0.41133382076997854,
          -0.2070012157663381,
          0.12622907808918796,
          -0.14481025403602918,
          0.09118106801545707,
          0.12209506374156082,
          -0.1716621473222105,
          -0.03700459402975964,
          -0.16102989185175248,
          -0.05405486066153183,
          -0.045735496749988794,
          0.04055210600113159,
          -0.667837687193314,
          -0.09151796974887423,
          -0.4366220815426198,
          -0.4640312607170805,
          0.3516032645715906,
          0.09876491820631125,
          -0.10158825505027408,
          0.06436465706751074,
          -0.05809393234140738,
          -0.48708672995808894,
          -0.49280186269782855,
          2.5423086194890354,
          0.6451585843906414,
          -0.3605956296025817,
          0.19359274819506592,
          -0.025802320339147207,
          -0.4309447163214892,
          0.11801570393757105,
          -0.5518159340399629,
          -0.005463279796919619,
          -0.374828718284116,
          0.22084681954991509,
          -0.328299548839619,
          0.013483731123238142,
          0.000719921146071781,
          -0.29847254121559647,
          -0.3561716484388329,
          0.3242564623934786,
          -0.24593876969147627,
          -0.05184215895197867,
          -0.500773631503199,
          0.047417221735455324,
          -0.42238679684715286,
          -0.5366416193822099,
          -0.35177279776979986,
          -0.15204642492519266,
          -0.380394023014234,
          0.1858101318576936,
          1.1824381252147094,
          0.004051429028912874,
          -0.5203536501237964,
          -0.07615549213785996,
          1.1816379509123962,
          -0.1078982471555674,
          0.20619928106834626,
          -0.43128022894364954,
          -0.3338370236356388,
          0.14444358450812525,
          -0.49017849581123146,
          0.1035866222946587,
          -0.21318703557955218,
          0.06940233795822501,
          -0.4467541580633181,
          0.015083374881906576,
          -0.1525087205679696,
          0.12951228495888747,
          -0.332396604871472,
          0.8514514738352371,
          0.24829655833169864,
          0.23910737530278026,
          -0.4081959613447172,
          0.1814797332016579,
          -0.14298335952672855,
          0.023580652396123353,
          -0.05930802638891249,
          0.08284317830428208,
          -0.23584809736342782,
          -0.2028370319042195,
          -0.44349450377074595,
          -0.41975198607102004,
          0.3005958598552775,
          0.10523454804344973,
          0.1441099230599322,
          1.022546871242241,
          0.37680550196496326,
          -0.1928017322521085,
          -0.5653101313972924,
          -0.12166775372903435,
          0.24312096070972058,
          0.10585407819277357,
          0.18895239147921816,
          -0.11141282491606513,
          0.2395943482545916,
          -0.4087869477550321,
          0.6612516771138673,
          -0.040709288130659715,
          -0.08790184158711198,
          0.04068105089633,
          0.13458286393101265,
          -0.12248854027875013,
          0.4892392981513637,
          -0.25207722760602064,
          0.22473860790135558,
          -0.12013682154662181,
          -0.36111317298941603,
          0.08762043472193573,
          -0.22813485149665114,
          0.14639214068035292,
          -0.03993514163432912,
          -0.43660510558358717,
          0.013344385680465008,
          -0.2606124991072882,
          0.11849182592873404,
          -0.18835725572173095,
          -0.6290128760502702,
          -0.26208360017543897,
          0.3076773040970537,
          0.475402595353101,
          0.013656329231908472,
          0.30224637441362373,
          -0.23298724375640456,
          0.39588554381906155,
          0.09863244762755244,
          0.24200175994966142,
          0.5487660142827444,
          0.43730936596928566,
          -0.6382050231977664,
          -0.3468792183912706,
          1.2710655917738705,
          0.14996773085357495,
          -0.42236913303549506,
          0.048944863147573923,
          -0.09992075897970269,
          0.31816149516503744,
          0.38134609114931906,
          0.028817760822902223,
          -0.05879890544565154,
          -0.088645114855464,
          0.3763238657305771,
          0.2143690011922607,
          0.17509796179865042,
          0.07181543509603903,
          -0.4668322756219061,
          -0.0014496965757190593,
          0.03670963052626214,
          0.07610354452812598,
          -0.35101491186401046,
          0.0837345543774285,
          0.17832973223073306,
          -0.16064627573357274,
          -0.06091016528648355,
          0.6393116814350147,
          0.3654237731302064,
          -0.3921772603750204,
          -0.36521596405465434,
          -0.5523506490079638,
          0.11666932884413861,
          0.08764562955630725,
          0.21121132874915863,
          0.04758712864243592,
          -0.039403317646959334,
          -0.024261192631126,
          -0.28555282123122916,
          0.1837821915160233,
          -0.21663157108883893,
          -0.4374611405905456,
          0.1566851147578285,
          -0.1259537798683542,
          -0.4365297437049354,
          -0.05843672914674091,
          -0.4013069138563789,
          -0.3573000058311393,
          0.11700653935869261,
          0.085224562182094,
          0.21248536235648047,
          1.8300296211700544,
          0.12816296259124874,
          -0.5330704147824907,
          0.4185854607855625,
          0.21277249587819466,
          -0.4194686759754903,
          0.3573065219148893,
          0.28895561680941223,
          -0.09574729477941961,
          -0.08524078602895553,
          -0.0582331575457586,
          0.47093184430201934,
          0.1877757173659617,
          -0.36372532125708534,
          0.06334594077557514,
          -0.0870863272372355,
          0.30692185811784506,
          -0.026784191530561424,
          -0.4678404445312479,
          0.32900763494461177,
          -0.2852843292434389,
          0.433318132446125,
          -0.22873847445714685,
          0.07638621044425048,
          -0.13031180873954423,
          -0.3381120368285199,
          -0.2534601532392147,
          -0.351720089931753,
          -0.04137360963749508,
          -0.027285531431353868,
          0.022281979984971008,
          0.24225333405382996,
          -0.44172827835572237,
          0.028800278868453492,
          -0.46458825351872723,
          -0.025643582179919418,
          -0.14084655696885795,
          -0.045665895777996485,
          -0.23558514387081253,
          0.035463981670676485,
          -0.21064681766366758,
          -0.3979461365521282,
          0.5431711868597959,
          1.601115443686872,
          -0.2136686972593326,
          0.2422065889759205,
          -0.15240178012370315,
          0.2942101572735214,
          0.08303096313392096,
          -10.7519457737768,
          -0.36467955585123496,
          0.5120632202779615,
          -0.2131262197842787,
          -0.19253676237760559,
          -0.4078569131712812,
          -0.19961252426259948,
          -0.1991877130220088,
          -0.18823171689042464,
          -0.006954638306310422,
          -0.5129510779477118,
          0.1594167199856808,
          1.0645789425466883,
          0.05652566686135884,
          -0.3764594219809399,
          -0.04665293057328609,
          -0.10923449927998033,
          0.004087395835856014,
          -0.43074698617469076,
          -0.03519276681706446,
          -0.34629721404102315,
          -0.013899920495879833,
          0.16794618437160933,
          -0.16916857412179018,
          0.06718666258470078,
          -0.21496360909968362,
          -0.03998684808701121,
          0.3762386903188762,
          -0.19938736680301783,
          0.34164557560096653,
          -0.0046116177805714635,
          0.3638043934900221,
          -0.2424794212285158,
          -0.30395837482350074,
          -0.5287479687843093,
          -0.6715930239083334,
          0.6823394439396131,
          0.25584411426088804,
          0.9196849090913635,
          -0.08722565180154328,
          -0.04185729029381204,
          -0.4582101457754679,
          -0.09274103734660238,
          -0.5412885705931326,
          -0.28426087869989314,
          -0.5178934941052733,
          -0.01733501375603509,
          -0.19925412603484619,
          0.5489002016017489,
          -0.2140444012751245,
          -0.2885274203708053,
          -0.04575113706130271,
          -0.2764389595469562,
          -0.47611530110213707,
          0.22533045744022973,
          -0.02550342104956277,
          -0.066734891514499,
          0.0532172227040725,
          -0.11121046559665793,
          -0.35521495460390096,
          -0.523072798041121,
          0.514591988960526,
          -0.19856606610009184,
          -0.38007840425384004,
          0.034886949731453745,
          -0.0586854314836824,
          0.23689273872535016,
          0.08911510875203338,
          -0.4950316741282274,
          -0.16762692478856683,
          -1.4369375710890397,
          0.339542237105342,
          -0.09745217167889965,
          -0.3516627718025511,
          -0.11907564039869897,
          -0.45380785364647735,
          1.3046996226004988,
          -0.016555581541408328,
          -0.5479469358656851,
          0.5416982837146652,
          -0.42162760688618117,
          0.0736182816903241,
          -0.14020217888190367,
          -0.41350875977519747,
          0.22255704090664594,
          28.934170775082375,
          -25.97220613504534,
          -0.22423623634049314,
          -0.46158629506767623,
          0.15613953979539077,
          0.1184664012682578,
          0.35017957053940546,
          0.048879726470954295,
          -1.787818727624473,
          23.706676285398228,
          0.11811040548197131,
          0.21137934456272106,
          0.16471295206467376,
          0.21898583331874275,
          -0.5967799787286348,
          -0.3693506649831577,
          -0.2799866220133875,
          -0.15843892898762446,
          -0.44811558181225314,
          -0.18285891604680055,
          0.4003965943948878,
          0.06178715583598663,
          -0.02511145679893592,
          -0.09639833215671312,
          -0.4171069760861495,
          0.2206107584379409,
          -0.18199499541048397,
          0.31210028347339863,
          0.4285635146183752,
          -0.02209523431792572,
          -0.3550965595828916,
          0.767247520249523,
          -0.027312302796702884,
          0.37586842952301414,
          0.40433937072946124,
          -0.5304893025714028,
          0.4484717897713371,
          0.021078457142708545,
          -0.27089485149295583,
          -0.49036738315173406,
          0.14976905159426995,
          0.6245735519356195,
          0.06634223461293805,
          -0.12425762517810654,
          0.08252903677809308,
          -0.04454662355204182,
          -0.4864150439125733,
          0.3602797509683808,
          0.42364577056848873,
          -0.9175279188870039,
          -0.5800818518072681,
          0.040496583626850886,
          -0.15468337024787682,
          0.40277753637719055,
          0.24052272783583756,
          -0.06701995645357484,
          0.29718793031407886,
          -0.36957073488256476,
          -0.16839936575950595,
          -0.16023037250264321,
          -0.2804280852061113,
          0.9785279986489751,
          -0.09425581493102915,
          -0.33623645186838774,
          0.3895385287133834,
          0.9552652327735778,
          0.3215205059667826,
          -0.18051420351509198,
          -0.10789256872620243,
          0.2376403092413712,
          0.694540443686299,
          0.4613912635697154,
          0.7768146031238803,
          0.09615520718317566,
          -0.05347423190216271,
          0.541535934833041,
          -0.47791411689368846,
          -0.2983367251457455,
          -0.05839496581769705,
          -0.2521462941170082,
          0.006129609982470462,
          -0.16273327260904932,
          -1.233699201228596,
          -0.36916052661165993,
          0.3556671262961052,
          -0.015167537795272712,
          0.22498282205252534,
          0.17041326137873922,
          0.2367927631230509,
          -0.03663074714692841,
          0.6224969165484074,
          0.3172284273627821,
          -0.12154081159585452,
          1.302454110894279,
          -0.04446746350268168,
          -0.11484126852802973,
          -0.08236636003140689,
          0.13354688777468526,
          -0.4531441253845211,
          -0.4695926093415918,
          0.3270687850267005,
          -0.12739629529324462,
          -0.34390613083677557,
          0.15349610250193835,
          -0.15253401774835323,
          0.9783495965222563,
          -0.35495711516631356,
          0.3412980913942587,
          0.29202647292851946,
          -0.5116944765912816,
          0.47215205956055,
          -0.6390662144244392,
          -1.1153154476732257,
          -1.0786781574358002,
          -1.1262788363466083,
          0.010499968843901813,
          -0.2835722195354411,
          -0.22697619201544256,
          -0.040236597862407755,
          -0.44917430252672313,
          0.6968740402474705,
          -0.4243496572709777,
          0.9199105104558556,
          -0.0480988210836397,
          -0.5018857782446275,
          -0.024333126877177397,
          0.6078871904286632,
          -0.16798116753269277,
          0.28587948780654876,
          0.6891164249428431,
          0.2456587079685114,
          -0.2522389468526769,
          -0.4506531231029616,
          -0.09155714919927617,
          0.15006565561020968,
          0.7446405786932706,
          -0.5170275102639778,
          -0.13277222873809127,
          -0.4203927073091078,
          0.185311252415299,
          -0.6084237441500396,
          -0.02032277041621619,
          -1.1260730571611166,
          -0.06357957203911305,
          0.19199615340495868,
          0.013517724641725435,
          0.28863567575759513,
          -0.2981945435846533,
          -0.12493062778126898,
          0.10354505869340848,
          0.11376096321284133,
          -0.17100565484042593,
          0.13891725959517606,
          -0.2845313519724613,
          0.028820268826271294,
          -0.3063422235252293,
          0.3154186887854927,
          -0.08901897685601858,
          0.43446491757318295,
          -0.33687481644163364,
          -0.46978733155477664,
          1.0616888666759925,
          0.10004109782241614,
          1.3008213139086908,
          0.13729333638656918,
          -0.005998910453329123,
          -0.22651309088083071,
          2.186553307939329,
          -0.4559249906759828,
          -0.052394999399247626,
          0.060952312846140486,
          -0.2684129942208511,
          0.03852166518793735,
          0.8169935728407428,
          -0.5695067456052154,
          0.8169171861891114,
          0.17387133565269064,
          0.09352806661863103,
          -0.19121864960335652,
          0.46428794974316767,
          0.13925908081994384,
          1.4649869228860246,
          -1.7798205464823074,
          0.11274412881130923,
          0.407484850888448,
          -0.09375662371343893,
          -0.5519488641533455,
          -0.3461047962258635,
          0.096643991761594,
          0.040710297976202695
         ],
         "y": [
          -0.11407821700354977,
          -0.10465144458044696,
          -0.530231007268337,
          0.030911398968476445,
          -0.12643231649816508,
          -0.07593618957964696,
          -0.16828820948311282,
          0.004138965102364035,
          -0.08966719104557958,
          0.132340882809091,
          -1.1003155996260539,
          -0.0507238659050768,
          -0.16053656275137568,
          -0.17145505456186483,
          0.0009106025674103218,
          -0.2588764833373885,
          -0.09706818107463619,
          -0.04838896947868647,
          -0.18323641156787235,
          -0.20183581792607616,
          -0.01591364483260808,
          -0.0957599995247225,
          -0.025310662894192846,
          -0.06273608725912519,
          -0.007219266692675482,
          -0.20262407256138654,
          -0.08561840677209193,
          -0.10277718958431457,
          -0.09987566014769321,
          -0.15432382624959445,
          -0.013196859069140848,
          -0.13991063473554394,
          -0.07770669614890455,
          -0.21605536846373966,
          -0.7371875391248331,
          -0.21082892793429814,
          -0.21862708797064273,
          0.0038703267072333434,
          -0.007454926041978306,
          -0.01312602341354652,
          0.04966331690578757,
          -0.05764304589977114,
          -0.439029982350679,
          -0.26991586705672393,
          -0.00847640658449248,
          0.01547636475254394,
          -0.05099345860124163,
          -0.018602689202360467,
          -0.04480370025386104,
          -0.1414263611628696,
          -0.25796802292808513,
          0.09913627578471824,
          -0.16897014384980205,
          0.030580002268566345,
          0.039337665197914394,
          -0.11952245288450167,
          0.021685307955648585,
          -0.0072221676496913995,
          -0.1006421524329219,
          0.001879009824108785,
          -0.261397105190833,
          -0.06382443328033316,
          -0.09240357768641537,
          -0.31880898034961574,
          -0.33416018837800177,
          0.009352435348205046,
          0.03109720542240198,
          0.043705908028003525,
          -0.33389361236414006,
          -0.14376305029762565,
          -0.16026661752176224,
          -0.22217082319737494,
          -0.17511920494503558,
          0.0013696359955358839,
          -0.06242228598468727,
          0.003106601830096757,
          -0.2590689896742848,
          -0.16214107958851515,
          0.028767755017011624,
          -0.17783256375446344,
          -0.05660231063750163,
          -0.44158384072740486,
          -0.1156871100946041,
          -0.07077562567888987,
          -0.08819200305398975,
          -0.04581435723018254,
          -0.10636649650009028,
          -0.12486106732151378,
          -0.08154357008359128,
          -0.06828208396236678,
          -0.29118662986668853,
          0.2260627650353457,
          0.03925034244576741,
          -0.16629442893806173,
          -0.2994006945528463,
          0.18519480393833962,
          -0.3341211175485372,
          -0.29136124481326114,
          0.0488115242533351,
          -0.027864911245503877,
          -1.1000475846820341,
          -0.12023978083280908,
          -0.03876917878063804,
          -0.02805712718040816,
          -0.22975204707210656,
          0.01399120559806334,
          -0.28141305491317414,
          -0.06306136902584729,
          -0.4301788238972028,
          -0.12176011099728154,
          -0.15897072330131837,
          -0.05422941066244088,
          -0.2024326117396924,
          -0.26941964805739466,
          -0.21621240220174845,
          -0.33910940515622195,
          -0.24988312084596043,
          -0.14671334690060883,
          -0.41774459597338975,
          -0.10223214462752235,
          -0.19366501199610955,
          -0.05148752630744248,
          -0.35737497285406694,
          0.03325991805306458,
          0.030985287332743958,
          -0.005638231077181115,
          -0.1799218640811712,
          0.058404505095670176,
          -0.022657422243822358,
          0.5017991052114383,
          -0.01933831231046511,
          0.9667116422357043,
          0.023110442130273155,
          -0.11168960857968757,
          -0.033420906303747076,
          -0.06299835701005886,
          -0.1601523879701533,
          -0.04150088913918083,
          -0.32304932909899636,
          0.305881642839786,
          -0.2616633054722173,
          -0.4579714912912049,
          -0.017465488657010482,
          0.03079364023084255,
          0.352011012213195,
          -0.09112502284357969,
          -1.049695075053439,
          -0.16089723878924425,
          -0.07227182372274583,
          -0.07539936154412194,
          -0.05007870874588625,
          -0.039251653416491214,
          -0.12994980951156007,
          -0.17456949270501085,
          -0.2554249318641564,
          -0.05328291493198458,
          0.039408190289019845,
          -0.029253229201339916,
          0.04364634997280437,
          -0.21732875955962472,
          -0.21560057366610458,
          -0.0908529829612749,
          -0.7684916858350317,
          -0.4297897752672415,
          -0.11936987428501453,
          -0.12563047660723797,
          -0.06287585323569918,
          -0.18688743108258424,
          -0.22022292050701625,
          -0.14117303775677156,
          -0.14928472868501763,
          -0.045383443993867865,
          0.022690675336245913,
          -0.3434632256636466,
          -0.07305412864953396,
          -0.14052342549494454,
          -0.08100213114307458,
          -0.373565706330991,
          -0.06298805839981449,
          -0.3067253383699463,
          0.18646530074962803,
          -0.16889728666260986,
          -0.2121694303367603,
          -0.04171404224581274,
          -0.04331567332509842,
          -0.0454555167251456,
          -0.19623717496117443,
          -0.07277945296025236,
          -0.09309370821296986,
          -0.20282541790143785,
          -0.08882048876590011,
          -0.28141472282468155,
          -0.1392711302841874,
          -0.9306602319230285,
          -0.07161954805138558,
          0.33770323402196956,
          -0.6728506666255104,
          -0.20292135987834778,
          -0.12157668600341134,
          -0.01920119826108444,
          -0.5766716733192094,
          -0.5712279225541115,
          -0.030544176436326773,
          -0.6122231373814614,
          0.3220131088184271,
          -0.10180741509017606,
          0.13190429048604824,
          1.2950800842138956,
          -0.12335244643742815,
          -0.056226613719012476,
          0.016757005285131663,
          -0.3454308674287037,
          -0.18323462685278832,
          -0.42773406023969496,
          -0.14209163014782922,
          -0.17452654291206532,
          -0.021426561968812093,
          -0.42991103441156375,
          -0.08053939291256451,
          -0.1638696868899577,
          -0.11936269685957702,
          1.3760247840197772,
          -0.09866486171710939,
          -0.1633940374706632,
          -0.10442559973302144,
          0.023032175983451586,
          -0.18465993922561766,
          -0.1956781658352051,
          -0.16929439930806375,
          -0.2540590603118641,
          -0.31151918574949083,
          -1.0044876108934575,
          -0.12227463727476287,
          -0.0631959292960159,
          0.560966486514335,
          -0.08032473227780011,
          -0.04339099445729964,
          -0.08622170611254874,
          -0.19390015087198476,
          -0.03166698809504381,
          -0.1450739580698511,
          0.2287454526688104,
          -0.2674484862164001,
          -0.4770306502155162,
          -0.09947226802846548,
          -0.6726087697059571,
          -0.19515607010688482,
          0.24746950000670545,
          -0.2907894142844645,
          0.01803112751497795,
          0.2963764217331601,
          -0.3159783865983676,
          0.08770993173392654,
          -0.058824234984337,
          0.5730793075128537,
          -0.2570723229630303,
          -0.052499261736887064,
          -0.5718813818992129,
          -0.05909180096081015,
          0.06210513460882352,
          -0.48167871638203524,
          -0.05812394978853794,
          -0.16848156998835054,
          -0.23474063205417414,
          -0.2914837506297513,
          -0.19201133442489696,
          -0.09813197890426659,
          -0.03233365336855815,
          -0.15203084969832803,
          -0.028953223943145194,
          -0.381734292427896,
          -0.17886707011442957,
          -0.3559204868285546,
          -0.39303899190064223,
          0.08377081652217308,
          -0.19251719264914782,
          0.0285224211398796,
          -0.167506834513271,
          -0.2944721106280603,
          0.8820007562195752,
          0.06833676653696635,
          0.02374020562635565,
          -0.07451371079841128,
          0.014856503934500206,
          -0.07869520015412285,
          0.12808596960374957,
          -0.14099368972305393,
          -0.27708935277752456,
          -0.054364013049922146,
          -0.006824903275098689,
          0.04277641327414908,
          -0.16875480674270926,
          -0.06929717627197365,
          -0.5406376014175658,
          0.09921807758011857,
          0.21378311170387906,
          0.7402879632083718,
          -0.7999283501754392,
          0.15751234571220438,
          0.12775851355521523,
          0.031133621312350816,
          -0.1640170516018816,
          -0.3261731994731351,
          -12.261185495784144,
          -0.090149427958567,
          -0.5982432699937853,
          0.005517431069311693,
          -0.11937081215923544,
          -0.07589422032837634,
          -0.007375942384930845,
          -0.007483802110038195,
          -0.07500386549988862,
          -0.012024923051049416,
          -0.12624617036647146,
          -1.0608990787843013,
          0.2447941390872941,
          -0.09319190864810017,
          0.09262546087418544,
          -0.16498728867832024,
          -0.08076656849050705,
          -0.14113867915478062,
          0.03906630931058737,
          0.14200669176284875,
          0.13243720482168544,
          -0.13685475377750841,
          -0.05104543816418204,
          -0.08563624173843991,
          -0.12925478474573102,
          0.13392363807178104,
          -0.0729603748299395,
          -0.1938655350899175,
          -0.007228987920566775,
          -0.06396232873948708,
          -0.12884101730068115,
          -0.253420600505226,
          -0.05548928304543599,
          0.2350271065163793,
          -0.06703715958479406,
          0.14107613124608248,
          -0.2931872380715028,
          -0.16218233073049954,
          0.7902548780640162,
          -0.016657536635173185,
          -0.29701474877145634,
          -0.16994162674920263,
          -0.1657103208597201,
          -0.03989512550656945,
          -0.0267005202579449,
          -0.054244290665260916,
          -0.08292250671940364,
          -0.007534280041889967,
          -0.30261413695568945,
          0.05768387397283445,
          0.2107707056681854,
          -0.17264624742646448,
          -0.09160241043817352,
          0.03849710524567958,
          -0.16942181139463452,
          0.9234371356333325,
          -0.0401387002871597,
          -0.19166451570085993,
          -0.09287234456527112,
          0.08141765979832616,
          0.023277172942261806,
          -0.25100896525772776,
          0.07476413945741917,
          -0.048537412578212785,
          -0.1434407457144539,
          -0.169276655778275,
          -0.12971455398811127,
          -0.23737041984688192,
          -0.046195314355491804,
          -0.03616550124270712,
          -0.14793691026617692,
          -0.2707009165629153,
          -0.32736592384322405,
          -0.0071867831531280315,
          -0.042649533005622346,
          0.14416256843032002,
          -0.8996143340583054,
          -0.18329796606073281,
          -0.04312263775141626,
          -0.2325752586616728,
          -0.04713905098934351,
          -0.12942017298672104,
          0.10371663283210854,
          0.4373151844193809,
          -0.5943043259655393,
          -3.8853665707983915,
          31.06325325373311,
          -0.04680798717997215,
          -0.007620948330065866,
          0.219257037668377,
          -0.13715011736527824,
          0.3173264974336829,
          0.016596867301402373,
          -0.4072198361813675,
          33.12157139299521,
          -0.13727360724501944,
          0.08360853799700166,
          -0.3147536170276387,
          -0.550607991000606,
          -0.2072399132728735,
          -0.1950529922791385,
          0.0011598416815206032,
          -0.06525747665515272,
          -0.06356088358503896,
          -0.1576189506461473,
          -0.14463984593410206,
          -0.1281737575313216,
          -0.21784639103261555,
          -0.12716387944418678,
          0.1123393604367767,
          -0.15920562969018012,
          0.008993381418751256,
          -0.06255031205505718,
          -0.5113953377711236,
          -0.14570863103395,
          0.08175870168277251,
          0.7622468944436818,
          0.014731128438065025,
          -0.193776923480798,
          -0.4283839901321808,
          -0.09542554204596937,
          0.472116963578184,
          -0.20307579931400946,
          0.06431268288269693,
          0.47664595096600687,
          0.18241500656223,
          -0.4447285828690482,
          -0.27376039419430226,
          0.01708004545775836,
          -0.22439046882230784,
          -0.2795739189281987,
          -0.044725775750421144,
          -0.1973250617258179,
          0.28338030176892054,
          0.16410212023900475,
          -0.047564670233729005,
          -0.08158063092905592,
          -0.15852184924849863,
          -0.3006203533933341,
          -0.28129100464715273,
          0.47667793163836014,
          0.1544878593055363,
          -0.19473629734916104,
          -0.14970331601592746,
          -0.3975372368205747,
          0.10182170258745113,
          -0.3391360823744024,
          -0.1369928589578004,
          -0.774669272392398,
          -0.31587868584996,
          0.4207783169508964,
          1.0003280204030653,
          -0.00044932909172141176,
          0.023317147534282448,
          -0.3690991607442826,
          0.827694638502143,
          -0.1821129386943957,
          -0.21653594796143363,
          -0.3053800984851109,
          0.45947427653794,
          -0.19051668400941404,
          -0.056927775101206675,
          -0.2174082246306767,
          -0.2915787541183582,
          0.20728403985779464,
          0.5869376721610183,
          0.09484494397664255,
          0.40699205122406057,
          -0.19487867204895037,
          -0.2453943710717549,
          -0.09529124734665843,
          -0.16906528025865875,
          -0.28137266306086633,
          -0.40163487993736274,
          -0.053181115219828545,
          0.8397136333695973,
          -0.13734390025154553,
          -0.06283666461759897,
          -0.5917366454506029,
          -0.17325564430103643,
          0.007590691949816519,
          -1.1789268706660891,
          0.46218326634655454,
          -1.7654500723530655,
          0.28651317662820913,
          -0.08365848866964734,
          -0.16244210634635978,
          -0.02350831833463921,
          -0.6233126020003915,
          0.030627617093295458,
          -0.3002602776218298,
          -0.07495348061809118,
          1.0556451637282163,
          -0.24301966604991243,
          -0.06399795710596375,
          -0.1959897936825382,
          0.07089292505813648,
          -0.04249538250274604,
          0.0006471473976084608,
          0.08513457228704617,
          -0.1259043682336897,
          0.20795341225350267,
          -0.06788544931576172,
          -0.07315939543736709,
          0.26893927693094133,
          -0.2814497487083361,
          0.2977657750453188,
          -0.40731711775759516,
          -0.22379346710397455,
          0.7005370170506616,
          -0.29601730274309535,
          -0.18497073466191957,
          -0.14995987873033081,
          0.10618716665090135,
          0.42148906274697095,
          -0.138499583962698,
          -0.019107492784661163,
          -0.2609261627362132,
          0.17429826170202198,
          -0.12345759339771294,
          0.5796670307984841,
          -0.04499838247585967,
          -0.08993477638498604,
          -0.09987329441318023,
          -0.1801182381281669,
          0.03201463984997166,
          -0.16330526020118694,
          0.0854706327009792,
          -0.09270748426567499,
          -0.12200190374494549,
          -0.20296610892470215,
          -0.0577504562076415,
          -0.2169538291389828,
          -0.16370436714007094,
          -0.10660259159316281,
          -0.2685880876115545,
          -0.07045461342138548,
          -0.2022826100469256,
          -0.07534347595174234,
          -0.24541235923709642,
          -0.13108061826444717,
          -0.08552231672733909,
          -0.12793392665218836,
          -0.5657623542177368,
          -0.052511042272414606,
          0.07853285480992128,
          -1.0387789967522536,
          -0.14875278479380813,
          1.2276478256164243,
          -0.3357489996839768,
          -0.11707463854389177,
          -0.05510062227446766,
          0.9612983539638021,
          -0.08185952125785634,
          -0.3572831584480776,
          -0.0827985026198046,
          -0.038804766263685425,
          0.11049604496395285,
          0.6684512810127686,
          -0.0600873320460188,
          0.6688328733206655,
          -0.33921782986053534,
          -0.06534950946832088,
          0.8702349013159235,
          -0.6065287595902888,
          -0.22259641821195872,
          3.9964647292740825,
          -0.7824741080413671,
          -0.7312625164826406,
          0.44503820187616416,
          -0.13692228797690667,
          -0.07583370449950205,
          0.13223570375771318,
          -0.21865959944119934,
          -0.08140744805640214
         ],
         "z": [
          -0.16199751594354622,
          -0.12280078258397872,
          0.7263877061368694,
          -0.2806156347119803,
          -0.09617644586025038,
          -0.2995298393160226,
          -0.0737646293782755,
          -0.054403737439220924,
          -0.36276244772235683,
          -0.3763689863570831,
          -0.4610081361767461,
          -0.06250794249756225,
          -0.07871635824954275,
          -0.33193843567460235,
          -0.29934203094997175,
          0.30373220801016243,
          -0.29946903969280086,
          -0.37620641457542214,
          -0.12715277340129597,
          0.04188779205726243,
          0.054732752253216006,
          -0.297810650429409,
          -0.2640825554478932,
          -0.2890071408345197,
          -0.20166034084583173,
          0.035188878635516604,
          -0.3710870393007558,
          -0.2546684170793437,
          -0.33553929577546615,
          -0.10008204245907537,
          -0.3527225701425705,
          -0.19260276863869236,
          -0.283110944561092,
          -0.253159528606252,
          0.2572729321266752,
          -0.04859187446027465,
          0.060556170500902444,
          0.008645542637082448,
          -0.050863493659652204,
          -0.3525300533161248,
          -0.3955275988593549,
          -0.28815619330641096,
          -0.26787995205228465,
          0.01550692055325264,
          -0.3423347965227812,
          -0.1997002682605315,
          -0.2991160787497439,
          -0.2946100952296769,
          -0.3426561833617756,
          -0.1519678748956263,
          -0.07567575378339424,
          1.4708852776151717,
          -0.07346795064681753,
          -0.2804181663843969,
          -0.3444319593568892,
          -0.32288342288509286,
          -0.3964675873952672,
          0.1924208897714585,
          -0.2652952490413203,
          -0.26359007170938253,
          0.16322117248187215,
          -0.20914929828436096,
          -0.04556487814905152,
          -0.3964323770214139,
          0.15734207795213623,
          -0.29518173644496126,
          -0.28061685353003474,
          -0.36623844013264967,
          0.15664871189826418,
          0.09723397168003647,
          -0.06489893277839492,
          -0.10151604902833378,
          0.4253228073595631,
          -0.2994783418446985,
          -0.29065194763347624,
          -0.361754417400019,
          -0.09748964866073669,
          -0.04895217472416959,
          -0.2826286720582815,
          -0.19216405686987456,
          -0.3583410608644646,
          -0.675275187693509,
          -0.06828114945022663,
          -0.24698018473503966,
          -0.37301802659562605,
          -0.24612873086604792,
          -0.06073686170923628,
          -0.02594204563854489,
          -0.08333675914495943,
          -0.2184914977359545,
          0.01813225462315922,
          -0.3242649274988462,
          -0.3450252549076558,
          -0.11462642439395485,
          -0.07412191433035231,
          -0.30768713481540977,
          0.1567941727313146,
          -0.12396888838282179,
          3.516114920484524,
          -0.06371505936214829,
          -1.1084523813609974,
          -0.321371146570665,
          -0.3763991769904863,
          -0.1859932572005656,
          0.07898988442170166,
          -0.33034223073265906,
          -0.12138432243457936,
          -0.3376143757819055,
          0.04907317409824512,
          -0.2824230494734318,
          -0.18295577722434703,
          -0.27372999816788474,
          0.033493377195002554,
          0.03151319483194693,
          -0.2330313256258152,
          -0.26402754729654965,
          -0.3374264538283309,
          -0.037252100155558535,
          -0.014382993990152472,
          -0.32308420806210053,
          -0.2053557424500029,
          -0.2271492591705826,
          -0.9837403672091577,
          -0.33921433517025557,
          -0.2807102642061255,
          0.25902282982989416,
          0.05675355497209301,
          0.8123070639738388,
          -0.2503750985967881,
          -0.390418426636993,
          -0.25863572361764703,
          0.12728744464945624,
          -0.2756069175419026,
          0.0444186071043106,
          -0.2971957930104656,
          -0.2897185030198705,
          -0.23765658586509364,
          -0.3511804151381642,
          -0.016173140064536566,
          0.40947770205589556,
          -0.10679670241733477,
          0.4570112010567093,
          -0.2725280660588026,
          -0.2804837828609633,
          -0.0071846599053017315,
          -0.3480257181083487,
          0.17045464227106746,
          -0.07853666827165716,
          0.1296954951979072,
          -0.2994712352613444,
          -0.2805245021989297,
          0.16577301897461572,
          0.287616788059432,
          -0.14800847188703797,
          -0.3675011339064601,
          -0.276434413582179,
          -0.5212674687334601,
          -0.312534037774032,
          -0.4768195404886687,
          -0.046866984339606586,
          0.32660095270423206,
          -0.12425992518867605,
          -0.43844290438071726,
          -0.5068014977652383,
          -0.323098935915964,
          -0.27277149576887105,
          -0.23625967648775517,
          -0.06659392090772373,
          -0.06903246775018596,
          -0.08810878466470519,
          0.06187127388950604,
          -0.112124337852171,
          -0.34253528346489825,
          -0.6847720988943955,
          0.11448481036077676,
          -0.12454600368901798,
          -0.0828464121455742,
          -0.18716565501269533,
          -0.23632285594712596,
          -0.3563594180828356,
          -0.3241818459262776,
          -0.11578605531873817,
          -0.058300330389069156,
          -0.07683200144657033,
          -0.1629627348791183,
          -0.2795169679610118,
          -0.06386579085281673,
          -0.18167655127350543,
          -0.11959683646357457,
          0.03369283884822892,
          -0.27145410245974905,
          -0.11917321807080365,
          -0.20850579110614695,
          -0.6288738103723283,
          -0.3641306357460141,
          0.4297610108228766,
          -0.6254834001073516,
          0.03396046068502657,
          -0.09897287161831869,
          -0.5302256866740322,
          -0.616419072171443,
          -0.22612952336814257,
          0.05557717399469342,
          -0.6205099517528482,
          0.08896445726823254,
          -0.2867338965135786,
          -0.3762164879235125,
          6.155207418704915,
          -0.22307180808269086,
          -0.286013218425528,
          -0.11347675032684895,
          1.9083549538241746,
          -0.007070131204179921,
          -0.44011267545098326,
          -0.13619460277285309,
          -0.14828811655367097,
          -0.26614813629151257,
          -0.506605167019125,
          -0.1849492617062544,
          -0.1868792092249012,
          -0.15625539877715552,
          -0.2927415419925246,
          -0.10480455546185674,
          -0.11695824961585836,
          -0.12111022449679172,
          -0.16690105736923858,
          -0.142870959124532,
          0.24876792562153077,
          -0.09841090498567667,
          -0.1060963618967448,
          -0.3306609157162803,
          -0.0027999952610651877,
          -0.23659098410247845,
          -0.12727345698743894,
          -0.41399390927414426,
          -0.029779585186313327,
          -0.16300829289974195,
          -0.10877062671359959,
          -0.2054810282057389,
          -0.28987578299841055,
          -0.14099845924468035,
          -0.23378845979326754,
          -0.39074283318289704,
          -0.11837514181571765,
          -0.33639286263285956,
          -0.160793230769697,
          -0.21985186356390818,
          -0.47653120635934776,
          -0.11252210632502771,
          -0.34740740803611364,
          -0.3697779658202453,
          -0.3780267958797412,
          -0.5072950043412333,
          -0.06047328516040519,
          0.10204031609548353,
          -0.07142173261313554,
          -0.2319219022738086,
          -0.6277326666439121,
          -0.060460422930120175,
          -0.09793147202946105,
          -0.4424645492290408,
          -0.005142766957369899,
          -0.07532800635721833,
          -0.15476737444505329,
          -0.1260424862842494,
          -0.3670054700946081,
          -0.11929445999893298,
          -0.32157515128437714,
          -0.04715325990950635,
          -0.2644220537028569,
          -0.5477578967517691,
          -0.1675525195339359,
          1.247918998544204,
          -0.31316721914245427,
          -0.20801527599534197,
          -0.37632693416660273,
          -0.25487125107956615,
          0.53015233864268,
          0.009453007242810691,
          -0.31695095066697676,
          -0.5224528202781902,
          0.14281550455432526,
          0.028079023975382335,
          -0.17783230151977103,
          -0.032845562408606484,
          0.026744909285268348,
          -0.32265357886607277,
          -0.12336199380868947,
          -0.2520526999789826,
          -0.3021736759373264,
          -0.28717518871783926,
          0.10598659085188271,
          -0.11356791198903306,
          0.062338687721504374,
          -0.3021400761765092,
          2.873027547835943,
          -0.5851866725525781,
          -0.25852106771205197,
          -0.25142808927577415,
          0.027560474312274246,
          -0.280613811151883,
          -0.03703892928099859,
          -0.37659407454112526,
          12.36378359406712,
          -0.25162469377205576,
          -0.6637101584612586,
          1.8275037166156853,
          -0.3228417508161011,
          -0.3000841458413043,
          -0.2012444016368632,
          -0.20140603991863373,
          -0.0997584087201267,
          -0.16086093947440386,
          -0.09937326124461206,
          -0.5197599485306471,
          0.26428044164789016,
          -0.08904733891786332,
          -0.2684070724091843,
          -0.08766370192788255,
          -0.20804685053733002,
          -0.126872385137078,
          -0.17377960565017125,
          -0.4306441141490137,
          -0.37613728610867514,
          0.6710258566090022,
          -0.06433913258891776,
          0.0655253141301274,
          -0.3375945425562686,
          -0.6701127996266445,
          -0.1817673027268798,
          -0.15563200052239767,
          -0.2006655364792579,
          -0.4401691850799111,
          -0.1186720097089664,
          -0.2158274499681108,
          -0.09948021687984121,
          -0.27030927198923865,
          -0.29726256248369315,
          -0.16236922533030015,
          -0.11329012723392981,
          -0.11930424998721235,
          4.2962321014616665,
          0.6850395263134115,
          -0.10772910375102576,
          -0.2058860866765322,
          -0.2316716270355051,
          0.2636377635713052,
          -0.18088067941937036,
          -0.29489854461999715,
          -0.21066136633371135,
          -0.20164462283521398,
          -0.36130283025531523,
          -0.28859876508014154,
          -0.19503005218976346,
          0.050544436502324944,
          0.06676465275112287,
          -0.27351663237619867,
          -0.11513419549604974,
          0.5592353980149418,
          -0.243752316151816,
          -0.13902499973052262,
          -0.17723916353412583,
          -0.2427313536673091,
          -0.2323588341780588,
          -0.3088672434752001,
          -0.0876756646623866,
          -0.37568952143360274,
          -0.1935002226062436,
          -0.15979946957472868,
          -0.31309108145663855,
          0.20217404282473045,
          -0.19532390117216106,
          -0.2915009702976928,
          -0.003252106694353342,
          -0.4354853107834741,
          -0.39250913520930425,
          -0.3689147900396391,
          -0.4991326056737125,
          0.8427010941526147,
          0.026436239881857077,
          -0.08848499167880315,
          -0.12431023923098052,
          -0.29169338536942135,
          -0.1547865099347417,
          -0.12368903671216828,
          -0.3573904585016873,
          -0.29254769503500927,
          -0.25141618618761014,
          -3.716386041156147,
          -4.329826784964938,
          -0.2603730198672182,
          -0.05436393035313736,
          0.020723109803157683,
          -0.11872673541106296,
          0.05521892130186268,
          -0.12180928010826447,
          0.34433134131694326,
          1.5193054935349684,
          -0.11869384544756335,
          -0.28557311600137986,
          -0.35300210389979086,
          -0.31758434172719946,
          -0.26749147551929603,
          -0.11021440712439094,
          -0.2992703784467398,
          -0.26642420248315146,
          -0.20654038022071075,
          -0.3001373983732268,
          -0.2566483665002343,
          -0.0197673258755715,
          -0.08759127052284078,
          -0.14438732730901851,
          -0.37167782886050493,
          -0.18148411453170973,
          -0.4248320088529962,
          -0.4752758293180415,
          -0.6029259638300319,
          -0.246459973091951,
          -0.24323611768069794,
          4.097571183713628,
          -0.17786754913516667,
          -0.15419618045580494,
          -0.5750418505364919,
          -0.07373162655868909,
          -0.35309868040501413,
          -0.12418302666746067,
          -0.17939865812972372,
          -0.4793180605259338,
          -0.27140795330548756,
          -0.2755123120748221,
          -0.3699804064655202,
          -0.4706664779085561,
          -0.401553092374854,
          -0.09618497885201184,
          -0.12997915064152218,
          -0.402857550595712,
          0.044125160924884,
          0.5869318190694959,
          0.730929628012698,
          -0.08373264684064585,
          0.15107895574658312,
          -0.3294422563509552,
          -0.45916409893215365,
          -0.44935437000041134,
          0.02153424467135647,
          -0.10372273460660444,
          -0.1823538091797501,
          0.09722834366001326,
          2.2214674742800904,
          -0.3710823251513854,
          -0.1722932001562815,
          -0.4505382707984849,
          -0.3750945527882096,
          1.6754369424827669,
          -0.2826717923148715,
          -0.07090215062181195,
          -0.27583991649183026,
          -0.3985384445432681,
          -0.03800630190785647,
          -0.3376166639172994,
          -0.05825020852763497,
          -0.44316102530802326,
          -0.10249792640001784,
          -0.23916793197554764,
          -0.3104858941869628,
          -0.23993859789058403,
          -0.1260562242461736,
          -0.24572973923022218,
          -1.5938396374523285,
          -0.4277830162408223,
          2.6374361656087957,
          -0.10466162061602652,
          -0.36688165488893526,
          -0.2333011168652849,
          -0.11579224660751378,
          -0.4478270881956387,
          -0.5345468396590101,
          -0.053419247049260474,
          -0.2013164743528142,
          -0.21584964927765335,
          -0.2365334050525128,
          -0.15774544641054508,
          -0.09300091026874131,
          -0.1256146744648308,
          -0.41012745318163685,
          -0.19045128494222485,
          -0.9022739141331376,
          -0.3728925540399296,
          -0.37172829523740214,
          0.2855567181388472,
          -0.4035088954474803,
          -0.4005141160622759,
          -0.28061511059256783,
          -0.3590908993922135,
          -0.5056526571572257,
          -0.8109061159982025,
          0.1318206817562515,
          -0.028236428098264175,
          -0.12905136610092785,
          -0.16991726062758652,
          0.03746434829838626,
          -0.03249134264852468,
          -0.010275419000764488,
          -0.3996747456052502,
          -0.34406930910888167,
          -0.27006310189524374,
          -0.18180190532621415,
          -0.44727727713180115,
          -0.05610718693758576,
          -0.45351217945140104,
          -0.3661393403148701,
          0.5349612818571754,
          -0.38073979223587745,
          -0.1320705501009166,
          -0.3651994515884594,
          -0.18239688294055095,
          -0.10478240351704697,
          -0.3227903806301806,
          -0.04390625018477175,
          -0.35700360411065435,
          -0.10897286769728924,
          -0.3347376611600614,
          -0.2228743654252526,
          4.210168906291862,
          -0.1683365657318259,
          0.18710139087070385,
          -0.3335001447408344,
          0.06030780791798546,
          -0.12523854946379354,
          -0.15519649518593115,
          -0.010459803380646903,
          -0.1408279757380037,
          -0.3180985308005853,
          0.033889113210264846,
          -0.0010888336542975129,
          -0.23328816613780612,
          -0.12080610173706037,
          0.2605073181997901,
          -0.09599172968315868,
          -0.24724914238162857,
          -0.17424514172360345,
          0.26273957472164633,
          -0.1408167322920648,
          -0.23965542124291092,
          -0.03578445451904465,
          -0.15647104346675128,
          -0.6381702738524143,
          -0.2620662236573409,
          -0.32584326913620504,
          0.07053593112098143,
          -0.14844093824569413,
          6.179538706196445,
          -0.16575865099110898,
          -0.20102979797163528,
          0.018288457067649727,
          -1.9203232099692178,
          -0.2189552138122686,
          0.03628486340853495,
          0.1567123339532552,
          -0.4532878675022275,
          -0.1538106247078805,
          4.369914942907765,
          -0.29895833110009046,
          4.371225812293917,
          -0.24919925857097003,
          -0.1580817901449866,
          -0.008182581584335729,
          -0.6518699920418102,
          -0.35608900838372526,
          43.971071837373735,
          -0.6643496141774841,
          -0.5233252407178708,
          3.0000135419045932,
          -0.17323742285518579,
          -0.10241145185442847,
          -0.3763204185660786,
          -0.347582541948223,
          -0.08396142784922225
         ]
        }
       ],
       "layout": {
        "autosize": true,
        "legend": {
         "tracegroupgap": 0,
         "x": 0,
         "y": 1
        },
        "margin": {
         "t": 60
        },
        "scene": {
         "aspectmode": "auto",
         "aspectratio": {
          "x": 1.1120726574450408,
          "y": 0.919181448415291,
          "z": 0.9782854325982648
         },
         "domain": {
          "x": [
           0,
           1
          ],
          "y": [
           0,
           1
          ]
         },
         "xaxis": {
          "title": {
           "text": "PC3"
          },
          "type": "linear"
         },
         "yaxis": {
          "title": {
           "text": "PC2"
          },
          "type": "linear"
         },
         "zaxis": {
          "title": {
           "text": "PC1"
          },
          "type": "linear"
         }
        },
        "template": {
         "data": {
          "bar": [
           {
            "error_x": {
             "color": "#2a3f5f"
            },
            "error_y": {
             "color": "#2a3f5f"
            },
            "marker": {
             "line": {
              "color": "#E5ECF6",
              "width": 0.5
             }
            },
            "type": "bar"
           }
          ],
          "barpolar": [
           {
            "marker": {
             "line": {
              "color": "#E5ECF6",
              "width": 0.5
             }
            },
            "type": "barpolar"
           }
          ],
          "carpet": [
           {
            "aaxis": {
             "endlinecolor": "#2a3f5f",
             "gridcolor": "white",
             "linecolor": "white",
             "minorgridcolor": "white",
             "startlinecolor": "#2a3f5f"
            },
            "baxis": {
             "endlinecolor": "#2a3f5f",
             "gridcolor": "white",
             "linecolor": "white",
             "minorgridcolor": "white",
             "startlinecolor": "#2a3f5f"
            },
            "type": "carpet"
           }
          ],
          "choropleth": [
           {
            "colorbar": {
             "outlinewidth": 0,
             "ticks": ""
            },
            "type": "choropleth"
           }
          ],
          "contour": [
           {
            "colorbar": {
             "outlinewidth": 0,
             "ticks": ""
            },
            "colorscale": [
             [
              0,
              "#0d0887"
             ],
             [
              0.1111111111111111,
              "#46039f"
             ],
             [
              0.2222222222222222,
              "#7201a8"
             ],
             [
              0.3333333333333333,
              "#9c179e"
             ],
             [
              0.4444444444444444,
              "#bd3786"
             ],
             [
              0.5555555555555556,
              "#d8576b"
             ],
             [
              0.6666666666666666,
              "#ed7953"
             ],
             [
              0.7777777777777778,
              "#fb9f3a"
             ],
             [
              0.8888888888888888,
              "#fdca26"
             ],
             [
              1,
              "#f0f921"
             ]
            ],
            "type": "contour"
           }
          ],
          "contourcarpet": [
           {
            "colorbar": {
             "outlinewidth": 0,
             "ticks": ""
            },
            "type": "contourcarpet"
           }
          ],
          "heatmap": [
           {
            "colorbar": {
             "outlinewidth": 0,
             "ticks": ""
            },
            "colorscale": [
             [
              0,
              "#0d0887"
             ],
             [
              0.1111111111111111,
              "#46039f"
             ],
             [
              0.2222222222222222,
              "#7201a8"
             ],
             [
              0.3333333333333333,
              "#9c179e"
             ],
             [
              0.4444444444444444,
              "#bd3786"
             ],
             [
              0.5555555555555556,
              "#d8576b"
             ],
             [
              0.6666666666666666,
              "#ed7953"
             ],
             [
              0.7777777777777778,
              "#fb9f3a"
             ],
             [
              0.8888888888888888,
              "#fdca26"
             ],
             [
              1,
              "#f0f921"
             ]
            ],
            "type": "heatmap"
           }
          ],
          "heatmapgl": [
           {
            "colorbar": {
             "outlinewidth": 0,
             "ticks": ""
            },
            "colorscale": [
             [
              0,
              "#0d0887"
             ],
             [
              0.1111111111111111,
              "#46039f"
             ],
             [
              0.2222222222222222,
              "#7201a8"
             ],
             [
              0.3333333333333333,
              "#9c179e"
             ],
             [
              0.4444444444444444,
              "#bd3786"
             ],
             [
              0.5555555555555556,
              "#d8576b"
             ],
             [
              0.6666666666666666,
              "#ed7953"
             ],
             [
              0.7777777777777778,
              "#fb9f3a"
             ],
             [
              0.8888888888888888,
              "#fdca26"
             ],
             [
              1,
              "#f0f921"
             ]
            ],
            "type": "heatmapgl"
           }
          ],
          "histogram": [
           {
            "marker": {
             "colorbar": {
              "outlinewidth": 0,
              "ticks": ""
             }
            },
            "type": "histogram"
           }
          ],
          "histogram2d": [
           {
            "colorbar": {
             "outlinewidth": 0,
             "ticks": ""
            },
            "colorscale": [
             [
              0,
              "#0d0887"
             ],
             [
              0.1111111111111111,
              "#46039f"
             ],
             [
              0.2222222222222222,
              "#7201a8"
             ],
             [
              0.3333333333333333,
              "#9c179e"
             ],
             [
              0.4444444444444444,
              "#bd3786"
             ],
             [
              0.5555555555555556,
              "#d8576b"
             ],
             [
              0.6666666666666666,
              "#ed7953"
             ],
             [
              0.7777777777777778,
              "#fb9f3a"
             ],
             [
              0.8888888888888888,
              "#fdca26"
             ],
             [
              1,
              "#f0f921"
             ]
            ],
            "type": "histogram2d"
           }
          ],
          "histogram2dcontour": [
           {
            "colorbar": {
             "outlinewidth": 0,
             "ticks": ""
            },
            "colorscale": [
             [
              0,
              "#0d0887"
             ],
             [
              0.1111111111111111,
              "#46039f"
             ],
             [
              0.2222222222222222,
              "#7201a8"
             ],
             [
              0.3333333333333333,
              "#9c179e"
             ],
             [
              0.4444444444444444,
              "#bd3786"
             ],
             [
              0.5555555555555556,
              "#d8576b"
             ],
             [
              0.6666666666666666,
              "#ed7953"
             ],
             [
              0.7777777777777778,
              "#fb9f3a"
             ],
             [
              0.8888888888888888,
              "#fdca26"
             ],
             [
              1,
              "#f0f921"
             ]
            ],
            "type": "histogram2dcontour"
           }
          ],
          "mesh3d": [
           {
            "colorbar": {
             "outlinewidth": 0,
             "ticks": ""
            },
            "type": "mesh3d"
           }
          ],
          "parcoords": [
           {
            "line": {
             "colorbar": {
              "outlinewidth": 0,
              "ticks": ""
             }
            },
            "type": "parcoords"
           }
          ],
          "pie": [
           {
            "automargin": true,
            "type": "pie"
           }
          ],
          "scatter": [
           {
            "marker": {
             "colorbar": {
              "outlinewidth": 0,
              "ticks": ""
             }
            },
            "type": "scatter"
           }
          ],
          "scatter3d": [
           {
            "line": {
             "colorbar": {
              "outlinewidth": 0,
              "ticks": ""
             }
            },
            "marker": {
             "colorbar": {
              "outlinewidth": 0,
              "ticks": ""
             }
            },
            "type": "scatter3d"
           }
          ],
          "scattercarpet": [
           {
            "marker": {
             "colorbar": {
              "outlinewidth": 0,
              "ticks": ""
             }
            },
            "type": "scattercarpet"
           }
          ],
          "scattergeo": [
           {
            "marker": {
             "colorbar": {
              "outlinewidth": 0,
              "ticks": ""
             }
            },
            "type": "scattergeo"
           }
          ],
          "scattergl": [
           {
            "marker": {
             "colorbar": {
              "outlinewidth": 0,
              "ticks": ""
             }
            },
            "type": "scattergl"
           }
          ],
          "scattermapbox": [
           {
            "marker": {
             "colorbar": {
              "outlinewidth": 0,
              "ticks": ""
             }
            },
            "type": "scattermapbox"
           }
          ],
          "scatterpolar": [
           {
            "marker": {
             "colorbar": {
              "outlinewidth": 0,
              "ticks": ""
             }
            },
            "type": "scatterpolar"
           }
          ],
          "scatterpolargl": [
           {
            "marker": {
             "colorbar": {
              "outlinewidth": 0,
              "ticks": ""
             }
            },
            "type": "scatterpolargl"
           }
          ],
          "scatterternary": [
           {
            "marker": {
             "colorbar": {
              "outlinewidth": 0,
              "ticks": ""
             }
            },
            "type": "scatterternary"
           }
          ],
          "surface": [
           {
            "colorbar": {
             "outlinewidth": 0,
             "ticks": ""
            },
            "colorscale": [
             [
              0,
              "#0d0887"
             ],
             [
              0.1111111111111111,
              "#46039f"
             ],
             [
              0.2222222222222222,
              "#7201a8"
             ],
             [
              0.3333333333333333,
              "#9c179e"
             ],
             [
              0.4444444444444444,
              "#bd3786"
             ],
             [
              0.5555555555555556,
              "#d8576b"
             ],
             [
              0.6666666666666666,
              "#ed7953"
             ],
             [
              0.7777777777777778,
              "#fb9f3a"
             ],
             [
              0.8888888888888888,
              "#fdca26"
             ],
             [
              1,
              "#f0f921"
             ]
            ],
            "type": "surface"
           }
          ],
          "table": [
           {
            "cells": {
             "fill": {
              "color": "#EBF0F8"
             },
             "line": {
              "color": "white"
             }
            },
            "header": {
             "fill": {
              "color": "#C8D4E3"
             },
             "line": {
              "color": "white"
             }
            },
            "type": "table"
           }
          ]
         },
         "layout": {
          "annotationdefaults": {
           "arrowcolor": "#2a3f5f",
           "arrowhead": 0,
           "arrowwidth": 1
          },
          "coloraxis": {
           "colorbar": {
            "outlinewidth": 0,
            "ticks": ""
           }
          },
          "colorscale": {
           "diverging": [
            [
             0,
             "#8e0152"
            ],
            [
             0.1,
             "#c51b7d"
            ],
            [
             0.2,
             "#de77ae"
            ],
            [
             0.3,
             "#f1b6da"
            ],
            [
             0.4,
             "#fde0ef"
            ],
            [
             0.5,
             "#f7f7f7"
            ],
            [
             0.6,
             "#e6f5d0"
            ],
            [
             0.7,
             "#b8e186"
            ],
            [
             0.8,
             "#7fbc41"
            ],
            [
             0.9,
             "#4d9221"
            ],
            [
             1,
             "#276419"
            ]
           ],
           "sequential": [
            [
             0,
             "#0d0887"
            ],
            [
             0.1111111111111111,
             "#46039f"
            ],
            [
             0.2222222222222222,
             "#7201a8"
            ],
            [
             0.3333333333333333,
             "#9c179e"
            ],
            [
             0.4444444444444444,
             "#bd3786"
            ],
            [
             0.5555555555555556,
             "#d8576b"
            ],
            [
             0.6666666666666666,
             "#ed7953"
            ],
            [
             0.7777777777777778,
             "#fb9f3a"
            ],
            [
             0.8888888888888888,
             "#fdca26"
            ],
            [
             1,
             "#f0f921"
            ]
           ],
           "sequentialminus": [
            [
             0,
             "#0d0887"
            ],
            [
             0.1111111111111111,
             "#46039f"
            ],
            [
             0.2222222222222222,
             "#7201a8"
            ],
            [
             0.3333333333333333,
             "#9c179e"
            ],
            [
             0.4444444444444444,
             "#bd3786"
            ],
            [
             0.5555555555555556,
             "#d8576b"
            ],
            [
             0.6666666666666666,
             "#ed7953"
            ],
            [
             0.7777777777777778,
             "#fb9f3a"
            ],
            [
             0.8888888888888888,
             "#fdca26"
            ],
            [
             1,
             "#f0f921"
            ]
           ]
          },
          "colorway": [
           "#636efa",
           "#EF553B",
           "#00cc96",
           "#ab63fa",
           "#FFA15A",
           "#19d3f3",
           "#FF6692",
           "#B6E880",
           "#FF97FF",
           "#FECB52"
          ],
          "font": {
           "color": "#2a3f5f"
          },
          "geo": {
           "bgcolor": "white",
           "lakecolor": "white",
           "landcolor": "#E5ECF6",
           "showlakes": true,
           "showland": true,
           "subunitcolor": "white"
          },
          "hoverlabel": {
           "align": "left"
          },
          "hovermode": "closest",
          "mapbox": {
           "style": "light"
          },
          "paper_bgcolor": "white",
          "plot_bgcolor": "#E5ECF6",
          "polar": {
           "angularaxis": {
            "gridcolor": "white",
            "linecolor": "white",
            "ticks": ""
           },
           "bgcolor": "#E5ECF6",
           "radialaxis": {
            "gridcolor": "white",
            "linecolor": "white",
            "ticks": ""
           }
          },
          "scene": {
           "xaxis": {
            "backgroundcolor": "#E5ECF6",
            "gridcolor": "white",
            "gridwidth": 2,
            "linecolor": "white",
            "showbackground": true,
            "ticks": "",
            "zerolinecolor": "white"
           },
           "yaxis": {
            "backgroundcolor": "#E5ECF6",
            "gridcolor": "white",
            "gridwidth": 2,
            "linecolor": "white",
            "showbackground": true,
            "ticks": "",
            "zerolinecolor": "white"
           },
           "zaxis": {
            "backgroundcolor": "#E5ECF6",
            "gridcolor": "white",
            "gridwidth": 2,
            "linecolor": "white",
            "showbackground": true,
            "ticks": "",
            "zerolinecolor": "white"
           }
          },
          "shapedefaults": {
           "line": {
            "color": "#2a3f5f"
           }
          },
          "ternary": {
           "aaxis": {
            "gridcolor": "white",
            "linecolor": "white",
            "ticks": ""
           },
           "baxis": {
            "gridcolor": "white",
            "linecolor": "white",
            "ticks": ""
           },
           "bgcolor": "#E5ECF6",
           "caxis": {
            "gridcolor": "white",
            "linecolor": "white",
            "ticks": ""
           }
          },
          "title": {
           "x": 0.05
          },
          "xaxis": {
           "automargin": true,
           "gridcolor": "white",
           "linecolor": "white",
           "ticks": "",
           "title": {
            "standoff": 15
           },
           "zerolinecolor": "white",
           "zerolinewidth": 2
          },
          "yaxis": {
           "automargin": true,
           "gridcolor": "white",
           "linecolor": "white",
           "ticks": "",
           "title": {
            "standoff": 15
           },
           "zerolinecolor": "white",
           "zerolinewidth": 2
          }
         }
        }
       }
      },
      "image/png": "[encoded data removed]",
      "text/html": [
       "<div>\n",
       "        \n",
       "        \n",
       "            <div id=\"c6acd75b-15f0-4fc3-9556-bc3c3303737e\" class=\"plotly-graph-div\" style=\"height:525px; width:800px;\"></div>\n",
       "            <script type=\"text/javascript\">\n",
       "                require([\"plotly\"], function(Plotly) {\n",
       "                    window.PLOTLYENV=window.PLOTLYENV || {};\n",
       "                    \n",
       "                if (document.getElementById(\"c6acd75b-15f0-4fc3-9556-bc3c3303737e\")) {\n",
       "                    Plotly.newPlot(\n",
       "                        'c6acd75b-15f0-4fc3-9556-bc3c3303737e',\n",
       "                        [{\"customdata\": [[\"Scrypt\"], [\"Scrypt\"], [\"X13\"], [\"SHA-256\"], [\"Ethash\"], [\"Scrypt\"], [\"X11\"], [\"CryptoNight-V7\"], [\"Ethash\"], [\"Equihash\"], [\"SHA-512\"], [\"Multiple\"], [\"SHA-256\"], [\"SHA-256\"], [\"Scrypt\"], [\"X15\"], [\"X11\"], [\"Scrypt\"], [\"Scrypt\"], [\"Scrypt\"], [\"Multiple\"], [\"Scrypt\"], [\"SHA-256\"], [\"Scrypt\"], [\"Scrypt\"], [\"Scrypt\"], [\"Quark\"], [\"Groestl\"], [\"Scrypt\"], [\"Scrypt\"], [\"Scrypt\"], [\"Scrypt\"], [\"Scrypt\"], [\"X11\"], [\"Scrypt\"], [\"Groestl\"], [\"Multiple\"], [\"SHA-256\"], [\"Scrypt\"], [\"Scrypt\"], [\"Scrypt\"], [\"Scrypt\"], [\"PoS\"], [\"Scrypt\"], [\"Scrypt\"], [\"NeoScrypt\"], [\"Scrypt\"], [\"Scrypt\"], [\"Scrypt\"], [\"Scrypt\"], [\"X11\"], [\"Scrypt\"], [\"X11\"], [\"SHA-256\"], [\"Scrypt\"], [\"Scrypt\"], [\"Scrypt\"], [\"SHA3\"], [\"Scrypt\"], [\"HybridScryptHash256\"], [\"Scrypt\"], [\"Scrypt\"], [\"SHA-256\"], [\"Scrypt\"], [\"X13\"], [\"Scrypt\"], [\"SHA-256\"], [\"Scrypt\"], [\"X13\"], [\"NeoScrypt\"], [\"Scrypt\"], [\"Scrypt\"], [\"Scrypt\"], [\"Scrypt\"], [\"Scrypt\"], [\"Scrypt\"], [\"X11\"], [\"X11\"], [\"SHA-256\"], [\"Multiple\"], [\"SHA-256\"], [\"PHI1612\"], [\"X11\"], [\"SHA-256\"], [\"SHA-256\"], [\"SHA-256\"], [\"X11\"], [\"Scrypt\"], [\"Scrypt\"], [\"Scrypt\"], [\"Scrypt\"], [\"Lyra2REv2\"], [\"Scrypt\"], [\"X11\"], [\"Multiple\"], [\"SHA-256\"], [\"X13\"], [\"Scrypt\"], [\"CryptoNight\"], [\"CryptoNight\"], [\"Shabal256\"], [\"Counterparty\"], [\"Scrypt\"], [\"SHA-256\"], [\"Groestl\"], [\"Scrypt\"], [\"Scrypt\"], [\"Scrypt\"], [\"X13\"], [\"Scrypt\"], [\"Scrypt\"], [\"Scrypt\"], [\"Scrypt\"], [\"X13\"], [\"Scrypt\"], [\"Stanford Folding\"], [\"X11\"], [\"Multiple\"], [\"QuBit\"], [\"Scrypt\"], [\"Scrypt\"], [\"Scrypt\"], [\"M7 POW\"], [\"Scrypt\"], [\"SHA-256\"], [\"Scrypt\"], [\"X11\"], [\"SHA3\"], [\"X11\"], [\"Lyra2RE\"], [\"SHA-256\"], [\"QUAIT\"], [\"X11\"], [\"X11\"], [\"Scrypt\"], [\"Scrypt\"], [\"Scrypt\"], [\"Ethash\"], [\"X13\"], [\"Blake2b\"], [\"SHA-256\"], [\"X15\"], [\"X11\"], [\"SHA-256\"], [\"BLAKE256\"], [\"Scrypt\"], [\"1GB AES Pattern Search\"], [\"SHA-256\"], [\"X11\"], [\"Scrypt\"], [\"SHA-256\"], [\"SHA-256\"], [\"NIST5\"], [\"Scrypt\"], [\"Scrypt\"], [\"X11\"], [\"Dagger\"], [\"Scrypt\"], [\"X11GOST\"], [\"X11\"], [\"Scrypt\"], [\"SHA-256\"], [\"Scrypt\"], [\"PoS\"], [\"Scrypt\"], [\"ScryptOG\"], [\"X11\"], [\"X11\"], [\"SHA-256\"], [\"SHA-256\"], [\"NIST5\"], [\"X11\"], [\"Scrypt\"], [\"POS 3.0\"], [\"Scrypt\"], [\"Scrypt\"], [\"Scrypt\"], [\"X13\"], [\"X11\"], [\"X11\"], [\"Equihash\"], [\"X11\"], [\"Scrypt\"], [\"CryptoNight\"], [\"SHA-256\"], [\"SHA-256\"], [\"X11\"], [\"Scrypt\"], [\"Multiple\"], [\"Scrypt\"], [\"Scrypt\"], [\"Scrypt\"], [\"SHA-256\"], [\"Scrypt\"], [\"Scrypt\"], [\"SHA-256D\"], [\"PoS\"], [\"Scrypt\"], [\"X11\"], [\"Lyra2Z\"], [\"PoS\"], [\"X13\"], [\"X14\"], [\"PoS\"], [\"SHA-256D\"], [\"Ethash\"], [\"Equihash\"], [\"DPoS\"], [\"X11\"], [\"Scrypt\"], [\"X11\"], [\"X13\"], [\"X11\"], [\"PoS\"], [\"Scrypt\"], [\"Scrypt\"], [\"X11\"], [\"PoS\"], [\"X11\"], [\"SHA-256\"], [\"Scrypt\"], [\"X11\"], [\"Scrypt\"], [\"Scrypt\"], [\"X11\"], [\"CryptoNight\"], [\"Scrypt\"], [\"Scrypt\"], [\"Scrypt\"], [\"Scrypt\"], [\"Quark\"], [\"QuBit\"], [\"Scrypt\"], [\"CryptoNight\"], [\"Lyra2RE\"], [\"Scrypt\"], [\"SHA-256\"], [\"X11\"], [\"Scrypt\"], [\"X11\"], [\"Scrypt\"], [\"CryptoNight-V7\"], [\"Scrypt\"], [\"Scrypt\"], [\"Scrypt\"], [\"X13\"], [\"X11\"], [\"Equihash\"], [\"Scrypt\"], [\"Scrypt\"], [\"Lyra2RE\"], [\"Scrypt\"], [\"Dagger-Hashimoto\"], [\"X11\"], [\"Blake2S\"], [\"X11\"], [\"Scrypt\"], [\"PoS\"], [\"X11\"], [\"NIST5\"], [\"PoS\"], [\"X11\"], [\"Scrypt\"], [\"Scrypt\"], [\"Scrypt\"], [\"SHA-256\"], [\"X11\"], [\"Scrypt\"], [\"Scrypt\"], [\"SHA-256\"], [\"PoS\"], [\"Scrypt\"], [\"X15\"], [\"SHA-256\"], [\"Scrypt\"], [\"POS 3.0\"], [\"CryptoNight-V7\"], [\"536\"], [\"Argon2d\"], [\"Blake2b\"], [\"Cloverhash\"], [\"CryptoNight\"], [\"NIST5\"], [\"X11\"], [\"NIST5\"], [\"Skein\"], [\"Scrypt\"], [\"X13\"], [\"Scrypt\"], [\"X11\"], [\"X11\"], [\"Scrypt\"], [\"CryptoNight\"], [\"X13\"], [\"Time Travel\"], [\"Scrypt\"], [\"Keccak\"], [\"SkunkHash v2 Raptor\"], [\"X11\"], [\"Skein\"], [\"SHA-256\"], [\"X11\"], [\"Scrypt\"], [\"VeChainThor Authority\"], [\"Scrypt\"], [\"PoS\"], [\"Scrypt\"], [\"Scrypt\"], [\"Scrypt\"], [\"Scrypt\"], [\"Scrypt\"], [\"Scrypt\"], [\"Scrypt\"], [\"CryptoNight\"], [\"SHA-512\"], [\"Ouroboros\"], [\"X11\"], [\"Equihash\"], [\"NeoScrypt\"], [\"X11\"], [\"Scrypt\"], [\"NeoScrypt\"], [\"Lyra2REv2\"], [\"Equihash\"], [\"Scrypt\"], [\"SHA-256\"], [\"NIST5\"], [\"PHI1612\"], [\"Dagger\"], [\"Scrypt\"], [\"Quark\"], [\"Scrypt\"], [\"POS 2.0\"], [\"Scrypt\"], [\"SHA-256\"], [\"X11\"], [\"NeoScrypt\"], [\"Ethash\"], [\"NeoScrypt\"], [\"Quark\"], [\"X11\"], [\"DPoS\"], [\"NIST5\"], [\"X13\"], [\"Multiple\"], [\"Scrypt\"], [\"CryptoNight\"], [\"CryptoNight\"], [\"Ethash\"], [\"NIST5\"], [\"Scrypt\"], [\"Quark\"], [\"X11\"], [\"CryptoNight-V7\"], [\"Scrypt\"], [\"Scrypt\"], [\"Scrypt\"], [\"X11\"], [\"BLAKE256\"], [\"X11\"], [\"Scrypt\"], [\"Scrypt\"], [\"NeoScrypt\"], [\"NeoScrypt\"], [\"Quark\"], [\"NeoScrypt\"], [\"Scrypt\"], [\"Scrypt\"], [\"Scrypt\"], [\"X11\"], [\"Scrypt\"], [\"X11\"], [\"SHA-256\"], [\"C11\"], [\"POS 3.0\"], [\"Ethash\"], [\"Scrypt\"], [\"Scrypt\"], [\"CryptoNight\"], [\"SkunkHash\"], [\"Scrypt\"], [\"CryptoNight\"], [\"X11\"], [\"Scrypt\"], [\"SHA-256\"], [\"Dagger\"], [\"Lyra2REv2\"], [\"X13\"], [\"Proof-of-BibleHash\"], [\"SHA-256 + Hive\"], [\"Scrypt\"], [\"Scrypt\"], [\"Skein\"], [\"X11\"], [\"Skein\"], [\"X11\"], [\"C11\"], [\"Proof-of-Authority\"], [\"X11\"], [\"XEVAN\"], [\"Scrypt\"], [\"VBFT\"], [\"Ethash\"], [\"CryptoNight\"], [\"Scrypt\"], [\"SHA-256\"], [\"IMesh\"], [\"PHI1612\"], [\"Quark\"], [\"NIST5\"], [\"Scrypt\"], [\"Scrypt\"], [\"Equihash\"], [\"Scrypt\"], [\"Lyra2Z\"], [\"Green Protocol\"], [\"PoS\"], [\"Scrypt\"], [\"NeoScrypt\"], [\"Semux BFT consensus\"], [\"X11\"], [\"Quark\"], [\"PoS\"], [\"CryptoNight\"], [\"X16R\"], [\"Scrypt\"], [\"NIST5\"], [\"Lyra2RE\"], [\"XEVAN\"], [\"Tribus\"], [\"Scrypt\"], [\"Lyra2Z\"], [\"Scrypt\"], [\"Scrypt\"], [\"CryptoNight\"], [\"X11\"], [\"SHA-256D\"], [\"CryptoNight Heavy\"], [\"CryptoNight\"], [\"Scrypt\"], [\"Scrypt\"], [\"X11\"], [\"Scrypt\"], [\"Jump Consistent Hash\"], [\"SHA-256D\"], [\"CryptoNight\"], [\"Scrypt\"], [\"X15\"], [\"Scrypt\"], [\"Quark\"], [\"Scrypt\"], [\"SHA-512\"], [\"SHA-256\"], [\"DPoS\"], [\"X16R\"], [\"HMQ1725\"], [\"X11\"], [\"Scrypt\"], [\"X16R\"], [\"Quark\"], [\"Quark\"], [\"Scrypt\"], [\"Lyra2REv2\"], [\"Quark\"], [\"Scrypt\"], [\"Scrypt\"], [\"Scrypt\"], [\"CryptoNight-V7\"], [\"Cryptonight-GPU\"], [\"XEVAN\"], [\"CryptoNight Heavy\"], [\"CryptoNight\"], [\"X11\"], [\"X11\"], [\"X11\"], [\"Scrypt\"], [\"PoS\"], [\"SHA-256\"], [\"Keccak\"], [\"X11\"], [\"X11\"], [\"Tribus\"], [\"Scrypt\"], [\"NeoScrypt\"], [\"SHA-512\"], [\"X16R\"], [\"ECC 256K1\"], [\"Equihash\"], [\"XEVAN\"], [\"HMQ1725\"], [\"Lyra2Z\"], [\"SHA-512\"], [\"SHA-256\"], [\"Quark\"], [\"PHI1612\"], [\"XEVAN\"], [\"X11\"], [\"CryptoNight\"], [\"Quark\"], [\"Blake\"], [\"Blake\"], [\"Blake\"], [\"Blake\"], [\"Equihash\"], [\"Exosis\"], [\"Scrypt\"], [\"Scrypt\"], [\"Equihash\"], [\"Quark\"], [\"Equihash\"], [\"Quark\"], [\"Scrypt\"], [\"Lyra2REv2\"], [\"QuBit\"], [\"X11\"], [\"Scrypt\"], [\"XEVAN\"], [\"SHA-256D\"], [\"X11\"], [\"SHA-256\"], [\"X13\"], [\"SHA-256\"], [\"X11\"], [\"DPoS\"], [\"Ethash\"], [\"Scrypt\"], [\"Scrypt\"], [\"X11\"], [\"NeoScrypt\"], [\"Scrypt\"], [\"Blake\"], [\"Scrypt\"], [\"SHA-256\"], [\"Scrypt\"], [\"X11\"], [\"Scrypt\"], [\"Scrypt\"], [\"SHA-256\"], [\"X11\"], [\"SHA-256\"], [\"Scrypt\"], [\"Scrypt\"], [\"Scrypt\"], [\"Groestl\"], [\"X11\"], [\"Scrypt\"], [\"PoS\"], [\"Scrypt\"], [\"Scrypt\"], [\"X11\"], [\"SHA-256\"], [\"DPoS\"], [\"Scrypt\"], [\"Scrypt\"], [\"NeoScrypt\"], [\"SHA3-256\"], [\"Multiple\"], [\"X13\"], [\"Equihash+Scrypt\"], [\"Lyra2Z\"], [\"PHI2\"], [\"DPoS\"], [\"Ethash\"], [\"DPoS\"], [\"SHA-256\"], [\"Lyra2Z\"], [\"Leased POS\"], [\"PoS\"], [\"Scrypt\"], [\"TRC10\"], [\"Equihash\"], [\"PoS\"], [\"SHA-256\"], [\"Scrypt\"], [\"CryptoNight\"], [\"Equihash\"], [\"Scrypt\"], [\"Scrypt\"]], \"hoverlabel\": {\"namelength\": 0}, \"hovertemplate\": \"<b>%{hovertext}</b><br><br>PC3=%{x}<br>PC2=%{y}<br>PC1=%{z}<br>Algorithm=%{customdata[0]}\", \"hovertext\": [\"42 Coin\", \"404Coin\", \"EliteCoin\", \"Bitcoin\", \"Ethereum\", \"Litecoin\", \"Dash\", \"Monero\", \"Ethereum Classic\", \"ZCash\", \"Bitshares\", \"DigiByte\", \"BitcoinDark\", \"PayCoin\", \"ProsperCoin\", \"KoboCoin\", \"Spreadcoin\", \"Argentum\", \"Aurora Coin\", \"BlueCoin\", \"MyriadCoin\", \"MoonCoin\", \"ZetaCoin\", \"SexCoin\", \"Quatloo\", \"EnergyCoin\", \"QuarkCoin\", \"Riecoin\", \"Digitalcoin \", \"BitBar\", \"Catcoin\", \"CryptoBullion\", \"CannaCoin\", \"CryptCoin\", \"CasinoCoin\", \"Diamond\", \"Verge\", \"DevCoin\", \"EarthCoin\", \"E-Gulden\", \"Einsteinium\", \"Emerald\", \"Exclusive Coin\", \"FlutterCoin\", \"Franko\", \"FeatherCoin\", \"GrandCoin\", \"GlobalCoin\", \"GoldCoin\", \"HoboNickels\", \"HyperStake\", \"Infinite Coin\", \"IOCoin\", \"IXcoin\", \"KrugerCoin\", \"LuckyCoin\", \"Litebar \", \"MaxCoin\", \"MegaCoin\", \"MediterraneanCoin\", \"MintCoin\", \"MinCoin\", \"MazaCoin\", \"Nautilus Coin\", \"NavCoin\", \"NobleCoin\", \"Namecoin\", \"NyanCoin\", \"OpalCoin\", \"Orbitcoin\", \"PotCoin\", \"PhoenixCoin\", \"Reddcoin\", \"RonPaulCoin\", \"StableCoin\", \"SmartCoin\", \"SuperCoin\", \"SyncCoin\", \"SysCoin\", \"TeslaCoin\", \"TigerCoin\", \"TittieCoin\", \"TorCoin\", \"TerraCoin\", \"UnbreakableCoin\", \"Unobtanium\", \"UroCoin\", \"UnitaryStatus Dollar\", \"UltraCoin\", \"ViaCoin\", \"VeriCoin\", \"Vertcoin\", \"WorldCoin\", \"X11 Coin\", \"Crypti\", \"JouleCoin\", \"StealthCoin\", \"ZCC Coin\", \"ByteCoin\", \"DigitalNote \", \"BurstCoin\", \"StorjCoin\", \"MonaCoin\", \"Neutron\", \"FairCoin\", \"Gulden\", \"RubyCoin\", \"PesetaCoin\", \"Kore\", \"Wild Beast Coin\", \"Dnotes\", \"Flo\", \"8BIT Coin\", \"Sativa Coin\", \"ArtByte\", \"Folding Coin\", \"Ucoin\", \"Unitus\", \"CypherPunkCoin\", \"OmniCron\", \"Vtorrent\", \"GreenCoin\", \"Cryptonite\", \"MasterCoin\", \"SoonCoin\", \"1Credit\", \"IslaCoin\", \"Nexus\", \"MarsCoin \", \"Crypto\", \"Anarchists Prime\", \"Droidz\", \"BowsCoin\", \"Squall Coin\", \"Song Coin\", \"BitZeny\", \"Diggits\", \"Expanse\", \"Paycon\", \"Siacoin\", \"Emercoin\", \"EverGreenCoin\", \"MindCoin\", \"I0coin\", \"Decred\", \"Revolution VR\", \"HOdlcoin\", \"EDRCoin\", \"Hitcoin\", \"Gamecredits\", \"DubaiCoin\", \"CarpeDiemCoin\", \"PWR Coin\", \"BillaryCoin\", \"GPU Coin\", \"Adzcoin\", \"SoilCoin\", \"YoCoin\", \"SibCoin\", \"EuropeCoin\", \"ZeitCoin\", \"SwingCoin\", \"SafeExchangeCoin\", \"Nebuchadnezzar\", \"Francs\", \"Aiden\", \"BolivarCoin\", \"Ratecoin\", \"Revenu\", \"Clockcoin\", \"VIP Tokens\", \"BitSend\", \"Omni\", \"Let it Ride\", \"PutinCoin\", \"iBankCoin\", \"Frankywillcoin\", \"MudraCoin\", \"PizzaCoin\", \"Lutetium Coin\", \"Komodo\", \"GoldBlocks\", \"CarterCoin\", \"Karbo\", \"BitTokens\", \"ZayedCoin\", \"MustangCoin\", \"ZoneCoin\", \"Circuits of Value\", \"RootCoin\", \"DopeCoin\", \"BitCurrency\", \"DollarCoin\", \"Swiscoin\", \"Shilling\", \"BuzzCoin\", \"Opair\", \"PesoBit\", \"Halloween Coin\", \"ZCoin\", \"CoffeeCoin\", \"RoyalCoin\", \"GanjaCoin V2\", \"TeamUP\", \"LanaCoin\", \"Elementrem\", \"ZClassic\", \"ARK\", \"InsaneCoin\", \"KiloCoin\", \"ArtexCoin\", \"EmberCoin\", \"XenixCoin\", \"FreeCoin\", \"PLNCoin\", \"AquariusCoin\", \"Kurrent\", \"Creatio\", \"Eternity\", \"Eurocoin\", \"BitcoinFast\", \"Stakenet\", \"BitConnect Coin\", \"MoneyCoin\", \"Enigma\", \"Cannabis Industry Coin\", \"Russiacoin\", \"PandaCoin\", \"GameUnits\", \"GAKHcoin\", \"Allsafe\", \"LiteCreed\", \"OsmiumCoin\", \"Bikercoins\", \"HexxCoin\", \"Klingon Empire Darsek\", \"Internet of People\", \"KushCoin\", \"Printerium\", \"PacCoin\", \"Impeach\", \"Citadel\", \"Zilbercoin\", \"FirstCoin\", \"BeaverCoin\", \"FindCoin\", \"VaultCoin\", \"Zero\", \"OpenChat\", \"Canada eCoin\", \"Zoin\", \"RenosCoin\", \"DubaiCoin\", \"VirtacoinPlus\", \"TajCoin\", \"Impact\", \"EB3coin\", \"Atmos\", \"HappyCoin\", \"Coinonat\", \"MacronCoin\", \"Condensate\", \"Independent Money System\", \"ArgusCoin\", \"LomoCoin\", \"ProCurrency\", \"GoldReserve\", \"BenjiRolls\", \"GrowthCoin\", \"ILCoin\", \"Phreak\", \"Degas Coin\", \"HTML5 Coin\", \"Ultimate Secure Cash\", \"EquiTrader\", \"QTUM\", \"Quantum Resistant Ledger\", \"Espers\", \"Dynamic\", \"Nano\", \"ChanCoin\", \"Dinastycoin\", \"Denarius\", \"DigitalPrice\", \"Virta Unique Coin\", \"Bitcoin Planet\", \"Unify\", \"BritCoin\", \"SocialCoin\", \"ArcticCoin\", \"DAS\", \"Linda\", \"LeviarCoin\", \"DeepOnion\", \"Bitcore\", \"gCn Coin\", \"SmartCash\", \"Signatum\", \"Onix\", \"Cream\", \"Bitcoin Cash\", \"Monoeci\", \"Draftcoin\", \"Vechain\", \"Sojourn Coin\", \"Stakecoin\", \"NewYorkCoin\", \"FrazCoin\", \"Kronecoin\", \"AdCoin\", \"Linx\", \"CoinonatX\", \"Ethereum Dark\", \"Sumokoin\", \"Obsidian\", \"Cardano\", \"Regalcoin\", \"BitcoinZ\", \"TrezarCoin\", \"Elements\", \"TerraNovaCoin\", \"VIVO Coin\", \"Rupee\", \"Bitcoin Gold\", \"WomenCoin\", \"Theresa May Coin\", \"NamoCoin\", \"LUXCoin\", \"Pirl\", \"Xios\", \"Bitcloud 2.0\", \"eBoost\", \"KekCoin\", \"BlackholeCoin\", \"Infinity Economics\", \"Pura\", \"Innova\", \"Ellaism\", \"GoByte\", \"Alqo\", \"Magnet\", \"Lamden Tau\", \"Electra\", \"Bitcoin Diamond\", \"SHIELD\", \"Cash & Back Coin\", \"UltraNote\", \"BitCoal\", \"DaxxCoin\", \"Bulwark\", \"BoxyCoin\", \"Kalkulus\", \"AC3\", \"Lethean\", \"GermanCoin\", \"LiteCoin Ultra\", \"PopularCoin\", \"PhantomX\", \"Photon\", \"Sucre\", \"Accolade\", \"OmiseGO Classic\", \"SparksPay\", \"GoaCoin\", \"Digiwage\", \"GunCoin\", \"IrishCoin\", \"Trollcoin\", \"Litecoin Plus\", \"Monkey Project\", \"ECC\", \"Pioneer Coin\", \"UnitedBitcoin\", \"Interzone\", \"TokenPay\", \"1717 Masonic Commemorative Token\", \"Crypto Wisdom Coin\", \"My Big Coin\", \"TurtleCoin\", \"MUNcoin\", \"Unified Society USDEX\", \"Niobio Cash\", \"BitSoar Coin\", \"ShareChain\", \"Credence Coin\", \"Travelflex\", \"KREDS\", \"Tokyo Coin\", \"BiblePay\", \"LitecoinCash\", \"BitFlip\", \"LottoCoin\", \"BashCoin\", \"DigiMoney\", \"Lizus Payment\", \"Crypto Improvement Fund\", \"Stipend\", \"Poa Network\", \"Pushi\", \"Ellerium\", \"Velox\", \"Ontology\", \"Callisto Network\", \"BitTube\", \"Poseidon\", \"Manna\", \"Aidos Kuneen\", \"Seraph\", \"Cosmo\", \"Bitspace\", \"Briacoin\", \"Ignition\", \"Bitrolium\", \"MedicCoin\", \"Alpenschillling\", \"Bitcoin Green\", \"Deviant Coin\", \"Abjcoin\", \"Rapture\", \"Semux\", \"FuturoCoin\", \"Carebit\", \"Zealium\", \"Monero Classic\", \"Proton\", \"iDealCash\", \"Jumpcoin\", \"Infinex\", \"Bitcoin Incognito\", \"KEYCO\", \"HollyWoodCoin\", \"GINcoin\", \"Parlay\", \"Listerclassic Coin\", \"PlatinCoin\", \"BetKings\", \"Cognitio\", \"Loki\", \"Newton Coin\", \"Mercoin\", \"Swisscoin\", \"Reliance\", \"Xt3ch\", \"MassGrid\", \"TheVig\", \"PluraCoin\", \"EmaratCoin\", \"Dekado\", \"Lynx\", \"Poseidon Quark\", \"MYCE\", \"Arionum\", \"BitcoinWSpectrum\", \"Muse\", \"Motion\", \"PlusOneCoin\", \"Axe\", \"GambleCoin\", \"Trivechain\", \"Dystem\", \"Giant\", \"Peony Coin\", \"Absolute Coin\", \"Vitae\", \"HexCoin\", \"Deimos\", \"TPCash\", \"Webchain\", \"Ryo\", \"Urals Coin\", \"Qwertycoin\", \"Bitcoin Nova\", \"ARENON\", \"DACash\", \"EUNO\", \"MMOCoin\", \"Ketan\", \"Project Pai\", \"XDNA\", \"PAXEX\", \"Azart\", \"Averopay\", \"ThunderStake\", \"SimpleBank\", \"Kcash\", \"Xchange\", \"Acute Angle Cloud\", \"CrypticCoin\", \"Bettex coin\", \"Brazio\", \"Actinium\", \"TWIST\", \"Bitcoin SV\", \"DACH Coin\", \"Argoneum\", \"BitMoney\", \"Junson Ming Chan Coin\", \"FREDEnergy\", \"HerbCoin\", \"BlakeBitcoin\", \"Universal Molecule\", \"Lithium\", \"Electron\", \"PirateCash\", \"Exosis\", \"Block-Logic\", \"Oduwa\", \"Beam\", \"Galilel\", \"Bithereum\", \"Crypto Sports\", \"Credit\", \"Scribe Network\", \"SLICE\", \"Dash Platinum\", \"Nasdacoin\", \"Beetle Coin\", \"Titan Coin\", \"Award\", \"BLAST\", \"Bitcoin Rhodium\", \"GlobalToken\", \"Insane Coin\", \"ALAX\", \"Media Protocol Token\", \"LiteDoge\", \"SolarCoin\", \"TruckCoin\", \"UFO Coin\", \"OrangeCoin\", \"BlakeCoin\", \"BitstarCoin\", \"NeosCoin\", \"HyperCoin\", \"PinkCoin\", \"Crypto Escudo\", \"AudioCoin\", \"IncaKoin\", \"Piggy Coin\", \"Crown Coin\", \"Genstake\", \"SmileyCoin\", \"XiaoMiCoin\", \"Groestlcoin\", \"CapriCoin\", \" ClubCoin\", \"Radium\", \"Bata\", \"Pakcoin\", \"Creditbit \", \"OKCash\", \"Lisk\", \"HiCoin\", \"WhiteCoin\", \"FriendshipCoin\", \"Fiii\", \"JoinCoin\", \"Triangles Coin\", \"Vollar\", \"TecraCoin\", \"Gexan\", \"EOS\", \"Reality Clash\", \"Oxycoin\", \"TigerCash\", \"LAPO\", \"Waves\", \"Particl\", \"ShardCoin\", \"BitTorrent\", \"ChainZilla\", \"Nxt\", \"ZEPHYR\", \"Gapcoin\", \"Beldex\", \"Horizen\", \"BitcoinPlus\", \"DivotyCoin\"], \"legendgroup\": \"\", \"marker\": {\"color\": \"#636efa\", \"symbol\": \"circle\"}, \"mode\": \"markers\", \"name\": \"\", \"scene\": \"scene\", \"showlegend\": false, \"type\": \"scatter3d\", \"x\": [0.006486524367257834, -0.01337637042560278, -0.12381452495384565, -0.15241994345082568, -0.3224799117901403, -0.40801130304508354, 0.2931376221609813, -0.18799234585999508, -0.4280096214136808, -0.34671517307868, 0.21682170509545706, -0.32933769922699846, 0.2484699784001739, 0.2588989778125474, -0.2796631645635776, -0.3192194054110661, -0.020281326030304116, -0.38021926102040626, -0.01695749811859595, 0.013456617501326514, -0.30044472653501203, -0.39788675534162876, -0.23254463316357238, -0.33412128617210185, -0.19920349931232645, 0.01342774056305267, 0.3894985659127038, -0.44779488495546765, -0.34892326464874834, -0.04402179023519162, -0.4265062077221555, -0.0072602119590133695, -0.46439438942624395, 0.16934596850822717, 1.0986013425664678, -0.21403821093773223, -0.4838418860490088, -0.1812692634753767, -0.3987755209784254, -0.42782407580375914, -0.47395907094411777, -0.4473421495962637, 0.342397078272475, -0.08205421264142261, -0.4871487066311501, -0.5520927759925771, -0.3808903589667754, -0.3508065180031267, -0.48205471224998786, 0.013411990350798361, 0.2905716984688277, -0.36259678763044045, 0.29364387072356685, -0.1525498813320277, -0.4640382435850696, -0.19228635777833644, -0.3290589803319462, 0.4263503639996044, -0.2994451657916865, -0.3163188887144498, 0.12011711084342488, -0.2898205117559264, 0.27184484936507464, 0.05062271711688297, 0.06380155515270058, -0.37574876295525206, -0.15242062975635395, -0.39991056456318197, 0.064148468223369, -0.21296955547662733, 0.07305952465750619, 0.0011509962821719707, 0.016306035289955598, -0.28017153797646205, -0.3335542783916799, -0.2922708322333561, 0.29011174406549756, 0.41133382076997854, -0.2070012157663381, 0.12622907808918796, -0.14481025403602918, 0.09118106801545707, 0.12209506374156082, -0.1716621473222105, -0.03700459402975964, -0.16102989185175248, -0.05405486066153183, -0.045735496749988794, 0.04055210600113159, -0.667837687193314, -0.09151796974887423, -0.4366220815426198, -0.4640312607170805, 0.3516032645715906, 0.09876491820631125, -0.10158825505027408, 0.06436465706751074, -0.05809393234140738, -0.48708672995808894, -0.49280186269782855, 2.5423086194890354, 0.6451585843906414, -0.3605956296025817, 0.19359274819506592, -0.025802320339147207, -0.4309447163214892, 0.11801570393757105, -0.5518159340399629, -0.005463279796919619, -0.374828718284116, 0.22084681954991509, -0.328299548839619, 0.013483731123238142, 0.000719921146071781, -0.29847254121559647, -0.3561716484388329, 0.3242564623934786, -0.24593876969147627, -0.05184215895197867, -0.500773631503199, 0.047417221735455324, -0.42238679684715286, -0.5366416193822099, -0.35177279776979986, -0.15204642492519266, -0.380394023014234, 0.1858101318576936, 1.1824381252147094, 0.004051429028912874, -0.5203536501237964, -0.07615549213785996, 1.1816379509123962, -0.1078982471555674, 0.20619928106834626, -0.43128022894364954, -0.3338370236356388, 0.14444358450812525, -0.49017849581123146, 0.1035866222946587, -0.21318703557955218, 0.06940233795822501, -0.4467541580633181, 0.015083374881906576, -0.1525087205679696, 0.12951228495888747, -0.332396604871472, 0.8514514738352371, 0.24829655833169864, 0.23910737530278026, -0.4081959613447172, 0.1814797332016579, -0.14298335952672855, 0.023580652396123353, -0.05930802638891249, 0.08284317830428208, -0.23584809736342782, -0.2028370319042195, -0.44349450377074595, -0.41975198607102004, 0.3005958598552775, 0.10523454804344973, 0.1441099230599322, 1.022546871242241, 0.37680550196496326, -0.1928017322521085, -0.5653101313972924, -0.12166775372903435, 0.24312096070972058, 0.10585407819277357, 0.18895239147921816, -0.11141282491606513, 0.2395943482545916, -0.4087869477550321, 0.6612516771138673, -0.040709288130659715, -0.08790184158711198, 0.04068105089633, 0.13458286393101265, -0.12248854027875013, 0.4892392981513637, -0.25207722760602064, 0.22473860790135558, -0.12013682154662181, -0.36111317298941603, 0.08762043472193573, -0.22813485149665114, 0.14639214068035292, -0.03993514163432912, -0.43660510558358717, 0.013344385680465008, -0.2606124991072882, 0.11849182592873404, -0.18835725572173095, -0.6290128760502702, -0.26208360017543897, 0.3076773040970537, 0.475402595353101, 0.013656329231908472, 0.30224637441362373, -0.23298724375640456, 0.39588554381906155, 0.09863244762755244, 0.24200175994966142, 0.5487660142827444, 0.43730936596928566, -0.6382050231977664, -0.3468792183912706, 1.2710655917738705, 0.14996773085357495, -0.42236913303549506, 0.048944863147573923, -0.09992075897970269, 0.31816149516503744, 0.38134609114931906, 0.028817760822902223, -0.05879890544565154, -0.088645114855464, 0.3763238657305771, 0.2143690011922607, 0.17509796179865042, 0.07181543509603903, -0.4668322756219061, -0.0014496965757190593, 0.03670963052626214, 0.07610354452812598, -0.35101491186401046, 0.0837345543774285, 0.17832973223073306, -0.16064627573357274, -0.06091016528648355, 0.6393116814350147, 0.3654237731302064, -0.3921772603750204, -0.36521596405465434, -0.5523506490079638, 0.11666932884413861, 0.08764562955630725, 0.21121132874915863, 0.04758712864243592, -0.039403317646959334, -0.024261192631126, -0.28555282123122916, 0.1837821915160233, -0.21663157108883893, -0.4374611405905456, 0.1566851147578285, -0.1259537798683542, -0.4365297437049354, -0.05843672914674091, -0.4013069138563789, -0.3573000058311393, 0.11700653935869261, 0.085224562182094, 0.21248536235648047, 1.8300296211700544, 0.12816296259124874, -0.5330704147824907, 0.4185854607855625, 0.21277249587819466, -0.4194686759754903, 0.3573065219148893, 0.28895561680941223, -0.09574729477941961, -0.08524078602895553, -0.0582331575457586, 0.47093184430201934, 0.1877757173659617, -0.36372532125708534, 0.06334594077557514, -0.0870863272372355, 0.30692185811784506, -0.026784191530561424, -0.4678404445312479, 0.32900763494461177, -0.2852843292434389, 0.433318132446125, -0.22873847445714685, 0.07638621044425048, -0.13031180873954423, -0.3381120368285199, -0.2534601532392147, -0.351720089931753, -0.04137360963749508, -0.027285531431353868, 0.022281979984971008, 0.24225333405382996, -0.44172827835572237, 0.028800278868453492, -0.46458825351872723, -0.025643582179919418, -0.14084655696885795, -0.045665895777996485, -0.23558514387081253, 0.035463981670676485, -0.21064681766366758, -0.3979461365521282, 0.5431711868597959, 1.601115443686872, -0.2136686972593326, 0.2422065889759205, -0.15240178012370315, 0.2942101572735214, 0.08303096313392096, -10.7519457737768, -0.36467955585123496, 0.5120632202779615, -0.2131262197842787, -0.19253676237760559, -0.4078569131712812, -0.19961252426259948, -0.1991877130220088, -0.18823171689042464, -0.006954638306310422, -0.5129510779477118, 0.1594167199856808, 1.0645789425466883, 0.05652566686135884, -0.3764594219809399, -0.04665293057328609, -0.10923449927998033, 0.004087395835856014, -0.43074698617469076, -0.03519276681706446, -0.34629721404102315, -0.013899920495879833, 0.16794618437160933, -0.16916857412179018, 0.06718666258470078, -0.21496360909968362, -0.03998684808701121, 0.3762386903188762, -0.19938736680301783, 0.34164557560096653, -0.0046116177805714635, 0.3638043934900221, -0.2424794212285158, -0.30395837482350074, -0.5287479687843093, -0.6715930239083334, 0.6823394439396131, 0.25584411426088804, 0.9196849090913635, -0.08722565180154328, -0.04185729029381204, -0.4582101457754679, -0.09274103734660238, -0.5412885705931326, -0.28426087869989314, -0.5178934941052733, -0.01733501375603509, -0.19925412603484619, 0.5489002016017489, -0.2140444012751245, -0.2885274203708053, -0.04575113706130271, -0.2764389595469562, -0.47611530110213707, 0.22533045744022973, -0.02550342104956277, -0.066734891514499, 0.0532172227040725, -0.11121046559665793, -0.35521495460390096, -0.523072798041121, 0.514591988960526, -0.19856606610009184, -0.38007840425384004, 0.034886949731453745, -0.0586854314836824, 0.23689273872535016, 0.08911510875203338, -0.4950316741282274, -0.16762692478856683, -1.4369375710890397, 0.339542237105342, -0.09745217167889965, -0.3516627718025511, -0.11907564039869897, -0.45380785364647735, 1.3046996226004988, -0.016555581541408328, -0.5479469358656851, 0.5416982837146652, -0.42162760688618117, 0.0736182816903241, -0.14020217888190367, -0.41350875977519747, 0.22255704090664594, 28.934170775082375, -25.97220613504534, -0.22423623634049314, -0.46158629506767623, 0.15613953979539077, 0.1184664012682578, 0.35017957053940546, 0.048879726470954295, -1.787818727624473, 23.706676285398228, 0.11811040548197131, 0.21137934456272106, 0.16471295206467376, 0.21898583331874275, -0.5967799787286348, -0.3693506649831577, -0.2799866220133875, -0.15843892898762446, -0.44811558181225314, -0.18285891604680055, 0.4003965943948878, 0.06178715583598663, -0.02511145679893592, -0.09639833215671312, -0.4171069760861495, 0.2206107584379409, -0.18199499541048397, 0.31210028347339863, 0.4285635146183752, -0.02209523431792572, -0.3550965595828916, 0.767247520249523, -0.027312302796702884, 0.37586842952301414, 0.40433937072946124, -0.5304893025714028, 0.4484717897713371, 0.021078457142708545, -0.27089485149295583, -0.49036738315173406, 0.14976905159426995, 0.6245735519356195, 0.06634223461293805, -0.12425762517810654, 0.08252903677809308, -0.04454662355204182, -0.4864150439125733, 0.3602797509683808, 0.42364577056848873, -0.9175279188870039, -0.5800818518072681, 0.040496583626850886, -0.15468337024787682, 0.40277753637719055, 0.24052272783583756, -0.06701995645357484, 0.29718793031407886, -0.36957073488256476, -0.16839936575950595, -0.16023037250264321, -0.2804280852061113, 0.9785279986489751, -0.09425581493102915, -0.33623645186838774, 0.3895385287133834, 0.9552652327735778, 0.3215205059667826, -0.18051420351509198, -0.10789256872620243, 0.2376403092413712, 0.694540443686299, 0.4613912635697154, 0.7768146031238803, 0.09615520718317566, -0.05347423190216271, 0.541535934833041, -0.47791411689368846, -0.2983367251457455, -0.05839496581769705, -0.2521462941170082, 0.006129609982470462, -0.16273327260904932, -1.233699201228596, -0.36916052661165993, 0.3556671262961052, -0.015167537795272712, 0.22498282205252534, 0.17041326137873922, 0.2367927631230509, -0.03663074714692841, 0.6224969165484074, 0.3172284273627821, -0.12154081159585452, 1.302454110894279, -0.04446746350268168, -0.11484126852802973, -0.08236636003140689, 0.13354688777468526, -0.4531441253845211, -0.4695926093415918, 0.3270687850267005, -0.12739629529324462, -0.34390613083677557, 0.15349610250193835, -0.15253401774835323, 0.9783495965222563, -0.35495711516631356, 0.3412980913942587, 0.29202647292851946, -0.5116944765912816, 0.47215205956055, -0.6390662144244392, -1.1153154476732257, -1.0786781574358002, -1.1262788363466083, 0.010499968843901813, -0.2835722195354411, -0.22697619201544256, -0.040236597862407755, -0.44917430252672313, 0.6968740402474705, -0.4243496572709777, 0.9199105104558556, -0.0480988210836397, -0.5018857782446275, -0.024333126877177397, 0.6078871904286632, -0.16798116753269277, 0.28587948780654876, 0.6891164249428431, 0.2456587079685114, -0.2522389468526769, -0.4506531231029616, -0.09155714919927617, 0.15006565561020968, 0.7446405786932706, -0.5170275102639778, -0.13277222873809127, -0.4203927073091078, 0.185311252415299, -0.6084237441500396, -0.02032277041621619, -1.1260730571611166, -0.06357957203911305, 0.19199615340495868, 0.013517724641725435, 0.28863567575759513, -0.2981945435846533, -0.12493062778126898, 0.10354505869340848, 0.11376096321284133, -0.17100565484042593, 0.13891725959517606, -0.2845313519724613, 0.028820268826271294, -0.3063422235252293, 0.3154186887854927, -0.08901897685601858, 0.43446491757318295, -0.33687481644163364, -0.46978733155477664, 1.0616888666759925, 0.10004109782241614, 1.3008213139086908, 0.13729333638656918, -0.005998910453329123, -0.22651309088083071, 2.186553307939329, -0.4559249906759828, -0.052394999399247626, 0.060952312846140486, -0.2684129942208511, 0.03852166518793735, 0.8169935728407428, -0.5695067456052154, 0.8169171861891114, 0.17387133565269064, 0.09352806661863103, -0.19121864960335652, 0.46428794974316767, 0.13925908081994384, 1.4649869228860246, -1.7798205464823074, 0.11274412881130923, 0.407484850888448, -0.09375662371343893, -0.5519488641533455, -0.3461047962258635, 0.096643991761594, 0.040710297976202695], \"y\": [-0.11407821700354977, -0.10465144458044696, -0.530231007268337, 0.030911398968476445, -0.12643231649816508, -0.07593618957964696, -0.16828820948311282, 0.004138965102364035, -0.08966719104557958, 0.132340882809091, -1.1003155996260539, -0.0507238659050768, -0.16053656275137568, -0.17145505456186483, 0.0009106025674103218, -0.2588764833373885, -0.09706818107463619, -0.04838896947868647, -0.18323641156787235, -0.20183581792607616, -0.01591364483260808, -0.0957599995247225, -0.025310662894192846, -0.06273608725912519, -0.007219266692675482, -0.20262407256138654, -0.08561840677209193, -0.10277718958431457, -0.09987566014769321, -0.15432382624959445, -0.013196859069140848, -0.13991063473554394, -0.07770669614890455, -0.21605536846373966, -0.7371875391248331, -0.21082892793429814, -0.21862708797064273, 0.0038703267072333434, -0.007454926041978306, -0.01312602341354652, 0.04966331690578757, -0.05764304589977114, -0.439029982350679, -0.26991586705672393, -0.00847640658449248, 0.01547636475254394, -0.05099345860124163, -0.018602689202360467, -0.04480370025386104, -0.1414263611628696, -0.25796802292808513, 0.09913627578471824, -0.16897014384980205, 0.030580002268566345, 0.039337665197914394, -0.11952245288450167, 0.021685307955648585, -0.0072221676496913995, -0.1006421524329219, 0.001879009824108785, -0.261397105190833, -0.06382443328033316, -0.09240357768641537, -0.31880898034961574, -0.33416018837800177, 0.009352435348205046, 0.03109720542240198, 0.043705908028003525, -0.33389361236414006, -0.14376305029762565, -0.16026661752176224, -0.22217082319737494, -0.17511920494503558, 0.0013696359955358839, -0.06242228598468727, 0.003106601830096757, -0.2590689896742848, -0.16214107958851515, 0.028767755017011624, -0.17783256375446344, -0.05660231063750163, -0.44158384072740486, -0.1156871100946041, -0.07077562567888987, -0.08819200305398975, -0.04581435723018254, -0.10636649650009028, -0.12486106732151378, -0.08154357008359128, -0.06828208396236678, -0.29118662986668853, 0.2260627650353457, 0.03925034244576741, -0.16629442893806173, -0.2994006945528463, 0.18519480393833962, -0.3341211175485372, -0.29136124481326114, 0.0488115242533351, -0.027864911245503877, -1.1000475846820341, -0.12023978083280908, -0.03876917878063804, -0.02805712718040816, -0.22975204707210656, 0.01399120559806334, -0.28141305491317414, -0.06306136902584729, -0.4301788238972028, -0.12176011099728154, -0.15897072330131837, -0.05422941066244088, -0.2024326117396924, -0.26941964805739466, -0.21621240220174845, -0.33910940515622195, -0.24988312084596043, -0.14671334690060883, -0.41774459597338975, -0.10223214462752235, -0.19366501199610955, -0.05148752630744248, -0.35737497285406694, 0.03325991805306458, 0.030985287332743958, -0.005638231077181115, -0.1799218640811712, 0.058404505095670176, -0.022657422243822358, 0.5017991052114383, -0.01933831231046511, 0.9667116422357043, 0.023110442130273155, -0.11168960857968757, -0.033420906303747076, -0.06299835701005886, -0.1601523879701533, -0.04150088913918083, -0.32304932909899636, 0.305881642839786, -0.2616633054722173, -0.4579714912912049, -0.017465488657010482, 0.03079364023084255, 0.352011012213195, -0.09112502284357969, -1.049695075053439, -0.16089723878924425, -0.07227182372274583, -0.07539936154412194, -0.05007870874588625, -0.039251653416491214, -0.12994980951156007, -0.17456949270501085, -0.2554249318641564, -0.05328291493198458, 0.039408190289019845, -0.029253229201339916, 0.04364634997280437, -0.21732875955962472, -0.21560057366610458, -0.0908529829612749, -0.7684916858350317, -0.4297897752672415, -0.11936987428501453, -0.12563047660723797, -0.06287585323569918, -0.18688743108258424, -0.22022292050701625, -0.14117303775677156, -0.14928472868501763, -0.045383443993867865, 0.022690675336245913, -0.3434632256636466, -0.07305412864953396, -0.14052342549494454, -0.08100213114307458, -0.373565706330991, -0.06298805839981449, -0.3067253383699463, 0.18646530074962803, -0.16889728666260986, -0.2121694303367603, -0.04171404224581274, -0.04331567332509842, -0.0454555167251456, -0.19623717496117443, -0.07277945296025236, -0.09309370821296986, -0.20282541790143785, -0.08882048876590011, -0.28141472282468155, -0.1392711302841874, -0.9306602319230285, -0.07161954805138558, 0.33770323402196956, -0.6728506666255104, -0.20292135987834778, -0.12157668600341134, -0.01920119826108444, -0.5766716733192094, -0.5712279225541115, -0.030544176436326773, -0.6122231373814614, 0.3220131088184271, -0.10180741509017606, 0.13190429048604824, 1.2950800842138956, -0.12335244643742815, -0.056226613719012476, 0.016757005285131663, -0.3454308674287037, -0.18323462685278832, -0.42773406023969496, -0.14209163014782922, -0.17452654291206532, -0.021426561968812093, -0.42991103441156375, -0.08053939291256451, -0.1638696868899577, -0.11936269685957702, 1.3760247840197772, -0.09866486171710939, -0.1633940374706632, -0.10442559973302144, 0.023032175983451586, -0.18465993922561766, -0.1956781658352051, -0.16929439930806375, -0.2540590603118641, -0.31151918574949083, -1.0044876108934575, -0.12227463727476287, -0.0631959292960159, 0.560966486514335, -0.08032473227780011, -0.04339099445729964, -0.08622170611254874, -0.19390015087198476, -0.03166698809504381, -0.1450739580698511, 0.2287454526688104, -0.2674484862164001, -0.4770306502155162, -0.09947226802846548, -0.6726087697059571, -0.19515607010688482, 0.24746950000670545, -0.2907894142844645, 0.01803112751497795, 0.2963764217331601, -0.3159783865983676, 0.08770993173392654, -0.058824234984337, 0.5730793075128537, -0.2570723229630303, -0.052499261736887064, -0.5718813818992129, -0.05909180096081015, 0.06210513460882352, -0.48167871638203524, -0.05812394978853794, -0.16848156998835054, -0.23474063205417414, -0.2914837506297513, -0.19201133442489696, -0.09813197890426659, -0.03233365336855815, -0.15203084969832803, -0.028953223943145194, -0.381734292427896, -0.17886707011442957, -0.3559204868285546, -0.39303899190064223, 0.08377081652217308, -0.19251719264914782, 0.0285224211398796, -0.167506834513271, -0.2944721106280603, 0.8820007562195752, 0.06833676653696635, 0.02374020562635565, -0.07451371079841128, 0.014856503934500206, -0.07869520015412285, 0.12808596960374957, -0.14099368972305393, -0.27708935277752456, -0.054364013049922146, -0.006824903275098689, 0.04277641327414908, -0.16875480674270926, -0.06929717627197365, -0.5406376014175658, 0.09921807758011857, 0.21378311170387906, 0.7402879632083718, -0.7999283501754392, 0.15751234571220438, 0.12775851355521523, 0.031133621312350816, -0.1640170516018816, -0.3261731994731351, -12.261185495784144, -0.090149427958567, -0.5982432699937853, 0.005517431069311693, -0.11937081215923544, -0.07589422032837634, -0.007375942384930845, -0.007483802110038195, -0.07500386549988862, -0.012024923051049416, -0.12624617036647146, -1.0608990787843013, 0.2447941390872941, -0.09319190864810017, 0.09262546087418544, -0.16498728867832024, -0.08076656849050705, -0.14113867915478062, 0.03906630931058737, 0.14200669176284875, 0.13243720482168544, -0.13685475377750841, -0.05104543816418204, -0.08563624173843991, -0.12925478474573102, 0.13392363807178104, -0.0729603748299395, -0.1938655350899175, -0.007228987920566775, -0.06396232873948708, -0.12884101730068115, -0.253420600505226, -0.05548928304543599, 0.2350271065163793, -0.06703715958479406, 0.14107613124608248, -0.2931872380715028, -0.16218233073049954, 0.7902548780640162, -0.016657536635173185, -0.29701474877145634, -0.16994162674920263, -0.1657103208597201, -0.03989512550656945, -0.0267005202579449, -0.054244290665260916, -0.08292250671940364, -0.007534280041889967, -0.30261413695568945, 0.05768387397283445, 0.2107707056681854, -0.17264624742646448, -0.09160241043817352, 0.03849710524567958, -0.16942181139463452, 0.9234371356333325, -0.0401387002871597, -0.19166451570085993, -0.09287234456527112, 0.08141765979832616, 0.023277172942261806, -0.25100896525772776, 0.07476413945741917, -0.048537412578212785, -0.1434407457144539, -0.169276655778275, -0.12971455398811127, -0.23737041984688192, -0.046195314355491804, -0.03616550124270712, -0.14793691026617692, -0.2707009165629153, -0.32736592384322405, -0.0071867831531280315, -0.042649533005622346, 0.14416256843032002, -0.8996143340583054, -0.18329796606073281, -0.04312263775141626, -0.2325752586616728, -0.04713905098934351, -0.12942017298672104, 0.10371663283210854, 0.4373151844193809, -0.5943043259655393, -3.8853665707983915, 31.06325325373311, -0.04680798717997215, -0.007620948330065866, 0.219257037668377, -0.13715011736527824, 0.3173264974336829, 0.016596867301402373, -0.4072198361813675, 33.12157139299521, -0.13727360724501944, 0.08360853799700166, -0.3147536170276387, -0.550607991000606, -0.2072399132728735, -0.1950529922791385, 0.0011598416815206032, -0.06525747665515272, -0.06356088358503896, -0.1576189506461473, -0.14463984593410206, -0.1281737575313216, -0.21784639103261555, -0.12716387944418678, 0.1123393604367767, -0.15920562969018012, 0.008993381418751256, -0.06255031205505718, -0.5113953377711236, -0.14570863103395, 0.08175870168277251, 0.7622468944436818, 0.014731128438065025, -0.193776923480798, -0.4283839901321808, -0.09542554204596937, 0.472116963578184, -0.20307579931400946, 0.06431268288269693, 0.47664595096600687, 0.18241500656223, -0.4447285828690482, -0.27376039419430226, 0.01708004545775836, -0.22439046882230784, -0.2795739189281987, -0.044725775750421144, -0.1973250617258179, 0.28338030176892054, 0.16410212023900475, -0.047564670233729005, -0.08158063092905592, -0.15852184924849863, -0.3006203533933341, -0.28129100464715273, 0.47667793163836014, 0.1544878593055363, -0.19473629734916104, -0.14970331601592746, -0.3975372368205747, 0.10182170258745113, -0.3391360823744024, -0.1369928589578004, -0.774669272392398, -0.31587868584996, 0.4207783169508964, 1.0003280204030653, -0.00044932909172141176, 0.023317147534282448, -0.3690991607442826, 0.827694638502143, -0.1821129386943957, -0.21653594796143363, -0.3053800984851109, 0.45947427653794, -0.19051668400941404, -0.056927775101206675, -0.2174082246306767, -0.2915787541183582, 0.20728403985779464, 0.5869376721610183, 0.09484494397664255, 0.40699205122406057, -0.19487867204895037, -0.2453943710717549, -0.09529124734665843, -0.16906528025865875, -0.28137266306086633, -0.40163487993736274, -0.053181115219828545, 0.8397136333695973, -0.13734390025154553, -0.06283666461759897, -0.5917366454506029, -0.17325564430103643, 0.007590691949816519, -1.1789268706660891, 0.46218326634655454, -1.7654500723530655, 0.28651317662820913, -0.08365848866964734, -0.16244210634635978, -0.02350831833463921, -0.6233126020003915, 0.030627617093295458, -0.3002602776218298, -0.07495348061809118, 1.0556451637282163, -0.24301966604991243, -0.06399795710596375, -0.1959897936825382, 0.07089292505813648, -0.04249538250274604, 0.0006471473976084608, 0.08513457228704617, -0.1259043682336897, 0.20795341225350267, -0.06788544931576172, -0.07315939543736709, 0.26893927693094133, -0.2814497487083361, 0.2977657750453188, -0.40731711775759516, -0.22379346710397455, 0.7005370170506616, -0.29601730274309535, -0.18497073466191957, -0.14995987873033081, 0.10618716665090135, 0.42148906274697095, -0.138499583962698, -0.019107492784661163, -0.2609261627362132, 0.17429826170202198, -0.12345759339771294, 0.5796670307984841, -0.04499838247585967, -0.08993477638498604, -0.09987329441318023, -0.1801182381281669, 0.03201463984997166, -0.16330526020118694, 0.0854706327009792, -0.09270748426567499, -0.12200190374494549, -0.20296610892470215, -0.0577504562076415, -0.2169538291389828, -0.16370436714007094, -0.10660259159316281, -0.2685880876115545, -0.07045461342138548, -0.2022826100469256, -0.07534347595174234, -0.24541235923709642, -0.13108061826444717, -0.08552231672733909, -0.12793392665218836, -0.5657623542177368, -0.052511042272414606, 0.07853285480992128, -1.0387789967522536, -0.14875278479380813, 1.2276478256164243, -0.3357489996839768, -0.11707463854389177, -0.05510062227446766, 0.9612983539638021, -0.08185952125785634, -0.3572831584480776, -0.0827985026198046, -0.038804766263685425, 0.11049604496395285, 0.6684512810127686, -0.0600873320460188, 0.6688328733206655, -0.33921782986053534, -0.06534950946832088, 0.8702349013159235, -0.6065287595902888, -0.22259641821195872, 3.9964647292740825, -0.7824741080413671, -0.7312625164826406, 0.44503820187616416, -0.13692228797690667, -0.07583370449950205, 0.13223570375771318, -0.21865959944119934, -0.08140744805640214], \"z\": [-0.16199751594354622, -0.12280078258397872, 0.7263877061368694, -0.2806156347119803, -0.09617644586025038, -0.2995298393160226, -0.0737646293782755, -0.054403737439220924, -0.36276244772235683, -0.3763689863570831, -0.4610081361767461, -0.06250794249756225, -0.07871635824954275, -0.33193843567460235, -0.29934203094997175, 0.30373220801016243, -0.29946903969280086, -0.37620641457542214, -0.12715277340129597, 0.04188779205726243, 0.054732752253216006, -0.297810650429409, -0.2640825554478932, -0.2890071408345197, -0.20166034084583173, 0.035188878635516604, -0.3710870393007558, -0.2546684170793437, -0.33553929577546615, -0.10008204245907537, -0.3527225701425705, -0.19260276863869236, -0.283110944561092, -0.253159528606252, 0.2572729321266752, -0.04859187446027465, 0.060556170500902444, 0.008645542637082448, -0.050863493659652204, -0.3525300533161248, -0.3955275988593549, -0.28815619330641096, -0.26787995205228465, 0.01550692055325264, -0.3423347965227812, -0.1997002682605315, -0.2991160787497439, -0.2946100952296769, -0.3426561833617756, -0.1519678748956263, -0.07567575378339424, 1.4708852776151717, -0.07346795064681753, -0.2804181663843969, -0.3444319593568892, -0.32288342288509286, -0.3964675873952672, 0.1924208897714585, -0.2652952490413203, -0.26359007170938253, 0.16322117248187215, -0.20914929828436096, -0.04556487814905152, -0.3964323770214139, 0.15734207795213623, -0.29518173644496126, -0.28061685353003474, -0.36623844013264967, 0.15664871189826418, 0.09723397168003647, -0.06489893277839492, -0.10151604902833378, 0.4253228073595631, -0.2994783418446985, -0.29065194763347624, -0.361754417400019, -0.09748964866073669, -0.04895217472416959, -0.2826286720582815, -0.19216405686987456, -0.3583410608644646, -0.675275187693509, -0.06828114945022663, -0.24698018473503966, -0.37301802659562605, -0.24612873086604792, -0.06073686170923628, -0.02594204563854489, -0.08333675914495943, -0.2184914977359545, 0.01813225462315922, -0.3242649274988462, -0.3450252549076558, -0.11462642439395485, -0.07412191433035231, -0.30768713481540977, 0.1567941727313146, -0.12396888838282179, 3.516114920484524, -0.06371505936214829, -1.1084523813609974, -0.321371146570665, -0.3763991769904863, -0.1859932572005656, 0.07898988442170166, -0.33034223073265906, -0.12138432243457936, -0.3376143757819055, 0.04907317409824512, -0.2824230494734318, -0.18295577722434703, -0.27372999816788474, 0.033493377195002554, 0.03151319483194693, -0.2330313256258152, -0.26402754729654965, -0.3374264538283309, -0.037252100155558535, -0.014382993990152472, -0.32308420806210053, -0.2053557424500029, -0.2271492591705826, -0.9837403672091577, -0.33921433517025557, -0.2807102642061255, 0.25902282982989416, 0.05675355497209301, 0.8123070639738388, -0.2503750985967881, -0.390418426636993, -0.25863572361764703, 0.12728744464945624, -0.2756069175419026, 0.0444186071043106, -0.2971957930104656, -0.2897185030198705, -0.23765658586509364, -0.3511804151381642, -0.016173140064536566, 0.40947770205589556, -0.10679670241733477, 0.4570112010567093, -0.2725280660588026, -0.2804837828609633, -0.0071846599053017315, -0.3480257181083487, 0.17045464227106746, -0.07853666827165716, 0.1296954951979072, -0.2994712352613444, -0.2805245021989297, 0.16577301897461572, 0.287616788059432, -0.14800847188703797, -0.3675011339064601, -0.276434413582179, -0.5212674687334601, -0.312534037774032, -0.4768195404886687, -0.046866984339606586, 0.32660095270423206, -0.12425992518867605, -0.43844290438071726, -0.5068014977652383, -0.323098935915964, -0.27277149576887105, -0.23625967648775517, -0.06659392090772373, -0.06903246775018596, -0.08810878466470519, 0.06187127388950604, -0.112124337852171, -0.34253528346489825, -0.6847720988943955, 0.11448481036077676, -0.12454600368901798, -0.0828464121455742, -0.18716565501269533, -0.23632285594712596, -0.3563594180828356, -0.3241818459262776, -0.11578605531873817, -0.058300330389069156, -0.07683200144657033, -0.1629627348791183, -0.2795169679610118, -0.06386579085281673, -0.18167655127350543, -0.11959683646357457, 0.03369283884822892, -0.27145410245974905, -0.11917321807080365, -0.20850579110614695, -0.6288738103723283, -0.3641306357460141, 0.4297610108228766, -0.6254834001073516, 0.03396046068502657, -0.09897287161831869, -0.5302256866740322, -0.616419072171443, -0.22612952336814257, 0.05557717399469342, -0.6205099517528482, 0.08896445726823254, -0.2867338965135786, -0.3762164879235125, 6.155207418704915, -0.22307180808269086, -0.286013218425528, -0.11347675032684895, 1.9083549538241746, -0.007070131204179921, -0.44011267545098326, -0.13619460277285309, -0.14828811655367097, -0.26614813629151257, -0.506605167019125, -0.1849492617062544, -0.1868792092249012, -0.15625539877715552, -0.2927415419925246, -0.10480455546185674, -0.11695824961585836, -0.12111022449679172, -0.16690105736923858, -0.142870959124532, 0.24876792562153077, -0.09841090498567667, -0.1060963618967448, -0.3306609157162803, -0.0027999952610651877, -0.23659098410247845, -0.12727345698743894, -0.41399390927414426, -0.029779585186313327, -0.16300829289974195, -0.10877062671359959, -0.2054810282057389, -0.28987578299841055, -0.14099845924468035, -0.23378845979326754, -0.39074283318289704, -0.11837514181571765, -0.33639286263285956, -0.160793230769697, -0.21985186356390818, -0.47653120635934776, -0.11252210632502771, -0.34740740803611364, -0.3697779658202453, -0.3780267958797412, -0.5072950043412333, -0.06047328516040519, 0.10204031609548353, -0.07142173261313554, -0.2319219022738086, -0.6277326666439121, -0.060460422930120175, -0.09793147202946105, -0.4424645492290408, -0.005142766957369899, -0.07532800635721833, -0.15476737444505329, -0.1260424862842494, -0.3670054700946081, -0.11929445999893298, -0.32157515128437714, -0.04715325990950635, -0.2644220537028569, -0.5477578967517691, -0.1675525195339359, 1.247918998544204, -0.31316721914245427, -0.20801527599534197, -0.37632693416660273, -0.25487125107956615, 0.53015233864268, 0.009453007242810691, -0.31695095066697676, -0.5224528202781902, 0.14281550455432526, 0.028079023975382335, -0.17783230151977103, -0.032845562408606484, 0.026744909285268348, -0.32265357886607277, -0.12336199380868947, -0.2520526999789826, -0.3021736759373264, -0.28717518871783926, 0.10598659085188271, -0.11356791198903306, 0.062338687721504374, -0.3021400761765092, 2.873027547835943, -0.5851866725525781, -0.25852106771205197, -0.25142808927577415, 0.027560474312274246, -0.280613811151883, -0.03703892928099859, -0.37659407454112526, 12.36378359406712, -0.25162469377205576, -0.6637101584612586, 1.8275037166156853, -0.3228417508161011, -0.3000841458413043, -0.2012444016368632, -0.20140603991863373, -0.0997584087201267, -0.16086093947440386, -0.09937326124461206, -0.5197599485306471, 0.26428044164789016, -0.08904733891786332, -0.2684070724091843, -0.08766370192788255, -0.20804685053733002, -0.126872385137078, -0.17377960565017125, -0.4306441141490137, -0.37613728610867514, 0.6710258566090022, -0.06433913258891776, 0.0655253141301274, -0.3375945425562686, -0.6701127996266445, -0.1817673027268798, -0.15563200052239767, -0.2006655364792579, -0.4401691850799111, -0.1186720097089664, -0.2158274499681108, -0.09948021687984121, -0.27030927198923865, -0.29726256248369315, -0.16236922533030015, -0.11329012723392981, -0.11930424998721235, 4.2962321014616665, 0.6850395263134115, -0.10772910375102576, -0.2058860866765322, -0.2316716270355051, 0.2636377635713052, -0.18088067941937036, -0.29489854461999715, -0.21066136633371135, -0.20164462283521398, -0.36130283025531523, -0.28859876508014154, -0.19503005218976346, 0.050544436502324944, 0.06676465275112287, -0.27351663237619867, -0.11513419549604974, 0.5592353980149418, -0.243752316151816, -0.13902499973052262, -0.17723916353412583, -0.2427313536673091, -0.2323588341780588, -0.3088672434752001, -0.0876756646623866, -0.37568952143360274, -0.1935002226062436, -0.15979946957472868, -0.31309108145663855, 0.20217404282473045, -0.19532390117216106, -0.2915009702976928, -0.003252106694353342, -0.4354853107834741, -0.39250913520930425, -0.3689147900396391, -0.4991326056737125, 0.8427010941526147, 0.026436239881857077, -0.08848499167880315, -0.12431023923098052, -0.29169338536942135, -0.1547865099347417, -0.12368903671216828, -0.3573904585016873, -0.29254769503500927, -0.25141618618761014, -3.716386041156147, -4.329826784964938, -0.2603730198672182, -0.05436393035313736, 0.020723109803157683, -0.11872673541106296, 0.05521892130186268, -0.12180928010826447, 0.34433134131694326, 1.5193054935349684, -0.11869384544756335, -0.28557311600137986, -0.35300210389979086, -0.31758434172719946, -0.26749147551929603, -0.11021440712439094, -0.2992703784467398, -0.26642420248315146, -0.20654038022071075, -0.3001373983732268, -0.2566483665002343, -0.0197673258755715, -0.08759127052284078, -0.14438732730901851, -0.37167782886050493, -0.18148411453170973, -0.4248320088529962, -0.4752758293180415, -0.6029259638300319, -0.246459973091951, -0.24323611768069794, 4.097571183713628, -0.17786754913516667, -0.15419618045580494, -0.5750418505364919, -0.07373162655868909, -0.35309868040501413, -0.12418302666746067, -0.17939865812972372, -0.4793180605259338, -0.27140795330548756, -0.2755123120748221, -0.3699804064655202, -0.4706664779085561, -0.401553092374854, -0.09618497885201184, -0.12997915064152218, -0.402857550595712, 0.044125160924884, 0.5869318190694959, 0.730929628012698, -0.08373264684064585, 0.15107895574658312, -0.3294422563509552, -0.45916409893215365, -0.44935437000041134, 0.02153424467135647, -0.10372273460660444, -0.1823538091797501, 0.09722834366001326, 2.2214674742800904, -0.3710823251513854, -0.1722932001562815, -0.4505382707984849, -0.3750945527882096, 1.6754369424827669, -0.2826717923148715, -0.07090215062181195, -0.27583991649183026, -0.3985384445432681, -0.03800630190785647, -0.3376166639172994, -0.05825020852763497, -0.44316102530802326, -0.10249792640001784, -0.23916793197554764, -0.3104858941869628, -0.23993859789058403, -0.1260562242461736, -0.24572973923022218, -1.5938396374523285, -0.4277830162408223, 2.6374361656087957, -0.10466162061602652, -0.36688165488893526, -0.2333011168652849, -0.11579224660751378, -0.4478270881956387, -0.5345468396590101, -0.053419247049260474, -0.2013164743528142, -0.21584964927765335, -0.2365334050525128, -0.15774544641054508, -0.09300091026874131, -0.1256146744648308, -0.41012745318163685, -0.19045128494222485, -0.9022739141331376, -0.3728925540399296, -0.37172829523740214, 0.2855567181388472, -0.4035088954474803, -0.4005141160622759, -0.28061511059256783, -0.3590908993922135, -0.5056526571572257, -0.8109061159982025, 0.1318206817562515, -0.028236428098264175, -0.12905136610092785, -0.16991726062758652, 0.03746434829838626, -0.03249134264852468, -0.010275419000764488, -0.3996747456052502, -0.34406930910888167, -0.27006310189524374, -0.18180190532621415, -0.44727727713180115, -0.05610718693758576, -0.45351217945140104, -0.3661393403148701, 0.5349612818571754, -0.38073979223587745, -0.1320705501009166, -0.3651994515884594, -0.18239688294055095, -0.10478240351704697, -0.3227903806301806, -0.04390625018477175, -0.35700360411065435, -0.10897286769728924, -0.3347376611600614, -0.2228743654252526, 4.210168906291862, -0.1683365657318259, 0.18710139087070385, -0.3335001447408344, 0.06030780791798546, -0.12523854946379354, -0.15519649518593115, -0.010459803380646903, -0.1408279757380037, -0.3180985308005853, 0.033889113210264846, -0.0010888336542975129, -0.23328816613780612, -0.12080610173706037, 0.2605073181997901, -0.09599172968315868, -0.24724914238162857, -0.17424514172360345, 0.26273957472164633, -0.1408167322920648, -0.23965542124291092, -0.03578445451904465, -0.15647104346675128, -0.6381702738524143, -0.2620662236573409, -0.32584326913620504, 0.07053593112098143, -0.14844093824569413, 6.179538706196445, -0.16575865099110898, -0.20102979797163528, 0.018288457067649727, -1.9203232099692178, -0.2189552138122686, 0.03628486340853495, 0.1567123339532552, -0.4532878675022275, -0.1538106247078805, 4.369914942907765, -0.29895833110009046, 4.371225812293917, -0.24919925857097003, -0.1580817901449866, -0.008182581584335729, -0.6518699920418102, -0.35608900838372526, 43.971071837373735, -0.6643496141774841, -0.5233252407178708, 3.0000135419045932, -0.17323742285518579, -0.10241145185442847, -0.3763204185660786, -0.347582541948223, -0.08396142784922225]}],\n",
       "                        {\"legend\": {\"tracegroupgap\": 0, \"x\": 0, \"y\": 1}, \"margin\": {\"t\": 60}, \"scene\": {\"domain\": {\"x\": [0.0, 1.0], \"y\": [0.0, 1.0]}, \"xaxis\": {\"title\": {\"text\": \"PC3\"}}, \"yaxis\": {\"title\": {\"text\": \"PC2\"}}, \"zaxis\": {\"title\": {\"text\": \"PC1\"}}}, \"template\": {\"data\": {\"bar\": [{\"error_x\": {\"color\": \"#2a3f5f\"}, \"error_y\": {\"color\": \"#2a3f5f\"}, \"marker\": {\"line\": {\"color\": \"#E5ECF6\", \"width\": 0.5}}, \"type\": \"bar\"}], \"barpolar\": [{\"marker\": {\"line\": {\"color\": \"#E5ECF6\", \"width\": 0.5}}, \"type\": \"barpolar\"}], \"carpet\": [{\"aaxis\": {\"endlinecolor\": \"#2a3f5f\", \"gridcolor\": \"white\", \"linecolor\": \"white\", \"minorgridcolor\": \"white\", \"startlinecolor\": \"#2a3f5f\"}, \"baxis\": {\"endlinecolor\": \"#2a3f5f\", \"gridcolor\": \"white\", \"linecolor\": \"white\", \"minorgridcolor\": \"white\", \"startlinecolor\": \"#2a3f5f\"}, \"type\": \"carpet\"}], \"choropleth\": [{\"colorbar\": {\"outlinewidth\": 0, \"ticks\": \"\"}, \"type\": \"choropleth\"}], \"contour\": [{\"colorbar\": {\"outlinewidth\": 0, \"ticks\": \"\"}, \"colorscale\": [[0.0, \"#0d0887\"], [0.1111111111111111, \"#46039f\"], [0.2222222222222222, \"#7201a8\"], [0.3333333333333333, \"#9c179e\"], [0.4444444444444444, \"#bd3786\"], [0.5555555555555556, \"#d8576b\"], [0.6666666666666666, \"#ed7953\"], [0.7777777777777778, \"#fb9f3a\"], [0.8888888888888888, \"#fdca26\"], [1.0, \"#f0f921\"]], \"type\": \"contour\"}], \"contourcarpet\": [{\"colorbar\": {\"outlinewidth\": 0, \"ticks\": \"\"}, \"type\": \"contourcarpet\"}], \"heatmap\": [{\"colorbar\": {\"outlinewidth\": 0, \"ticks\": \"\"}, \"colorscale\": [[0.0, \"#0d0887\"], [0.1111111111111111, \"#46039f\"], [0.2222222222222222, \"#7201a8\"], [0.3333333333333333, \"#9c179e\"], [0.4444444444444444, \"#bd3786\"], [0.5555555555555556, \"#d8576b\"], [0.6666666666666666, \"#ed7953\"], [0.7777777777777778, \"#fb9f3a\"], [0.8888888888888888, \"#fdca26\"], [1.0, \"#f0f921\"]], \"type\": \"heatmap\"}], \"heatmapgl\": [{\"colorbar\": {\"outlinewidth\": 0, \"ticks\": \"\"}, \"colorscale\": [[0.0, \"#0d0887\"], [0.1111111111111111, \"#46039f\"], [0.2222222222222222, \"#7201a8\"], [0.3333333333333333, \"#9c179e\"], [0.4444444444444444, \"#bd3786\"], [0.5555555555555556, \"#d8576b\"], [0.6666666666666666, \"#ed7953\"], [0.7777777777777778, \"#fb9f3a\"], [0.8888888888888888, \"#fdca26\"], [1.0, \"#f0f921\"]], \"type\": \"heatmapgl\"}], \"histogram\": [{\"marker\": {\"colorbar\": {\"outlinewidth\": 0, \"ticks\": \"\"}}, \"type\": \"histogram\"}], \"histogram2d\": [{\"colorbar\": {\"outlinewidth\": 0, \"ticks\": \"\"}, \"colorscale\": [[0.0, \"#0d0887\"], [0.1111111111111111, \"#46039f\"], [0.2222222222222222, \"#7201a8\"], [0.3333333333333333, \"#9c179e\"], [0.4444444444444444, \"#bd3786\"], [0.5555555555555556, \"#d8576b\"], [0.6666666666666666, \"#ed7953\"], [0.7777777777777778, \"#fb9f3a\"], [0.8888888888888888, \"#fdca26\"], [1.0, \"#f0f921\"]], \"type\": \"histogram2d\"}], \"histogram2dcontour\": [{\"colorbar\": {\"outlinewidth\": 0, \"ticks\": \"\"}, \"colorscale\": [[0.0, \"#0d0887\"], [0.1111111111111111, \"#46039f\"], [0.2222222222222222, \"#7201a8\"], [0.3333333333333333, \"#9c179e\"], [0.4444444444444444, \"#bd3786\"], [0.5555555555555556, \"#d8576b\"], [0.6666666666666666, \"#ed7953\"], [0.7777777777777778, \"#fb9f3a\"], [0.8888888888888888, \"#fdca26\"], [1.0, \"#f0f921\"]], \"type\": \"histogram2dcontour\"}], \"mesh3d\": [{\"colorbar\": {\"outlinewidth\": 0, \"ticks\": \"\"}, \"type\": \"mesh3d\"}], \"parcoords\": [{\"line\": {\"colorbar\": {\"outlinewidth\": 0, \"ticks\": \"\"}}, \"type\": \"parcoords\"}], \"pie\": [{\"automargin\": true, \"type\": \"pie\"}], \"scatter\": [{\"marker\": {\"colorbar\": {\"outlinewidth\": 0, \"ticks\": \"\"}}, \"type\": \"scatter\"}], \"scatter3d\": [{\"line\": {\"colorbar\": {\"outlinewidth\": 0, \"ticks\": \"\"}}, \"marker\": {\"colorbar\": {\"outlinewidth\": 0, \"ticks\": \"\"}}, \"type\": \"scatter3d\"}], \"scattercarpet\": [{\"marker\": {\"colorbar\": {\"outlinewidth\": 0, \"ticks\": \"\"}}, \"type\": \"scattercarpet\"}], \"scattergeo\": [{\"marker\": {\"colorbar\": {\"outlinewidth\": 0, \"ticks\": \"\"}}, \"type\": \"scattergeo\"}], \"scattergl\": [{\"marker\": {\"colorbar\": {\"outlinewidth\": 0, \"ticks\": \"\"}}, \"type\": \"scattergl\"}], \"scattermapbox\": [{\"marker\": {\"colorbar\": {\"outlinewidth\": 0, \"ticks\": \"\"}}, \"type\": \"scattermapbox\"}], \"scatterpolar\": [{\"marker\": {\"colorbar\": {\"outlinewidth\": 0, \"ticks\": \"\"}}, \"type\": \"scatterpolar\"}], \"scatterpolargl\": [{\"marker\": {\"colorbar\": {\"outlinewidth\": 0, \"ticks\": \"\"}}, \"type\": \"scatterpolargl\"}], \"scatterternary\": [{\"marker\": {\"colorbar\": {\"outlinewidth\": 0, \"ticks\": \"\"}}, \"type\": \"scatterternary\"}], \"surface\": [{\"colorbar\": {\"outlinewidth\": 0, \"ticks\": \"\"}, \"colorscale\": [[0.0, \"#0d0887\"], [0.1111111111111111, \"#46039f\"], [0.2222222222222222, \"#7201a8\"], [0.3333333333333333, \"#9c179e\"], [0.4444444444444444, \"#bd3786\"], [0.5555555555555556, \"#d8576b\"], [0.6666666666666666, \"#ed7953\"], [0.7777777777777778, \"#fb9f3a\"], [0.8888888888888888, \"#fdca26\"], [1.0, \"#f0f921\"]], \"type\": \"surface\"}], \"table\": [{\"cells\": {\"fill\": {\"color\": \"#EBF0F8\"}, \"line\": {\"color\": \"white\"}}, \"header\": {\"fill\": {\"color\": \"#C8D4E3\"}, \"line\": {\"color\": \"white\"}}, \"type\": \"table\"}]}, \"layout\": {\"annotationdefaults\": {\"arrowcolor\": \"#2a3f5f\", \"arrowhead\": 0, \"arrowwidth\": 1}, \"coloraxis\": {\"colorbar\": {\"outlinewidth\": 0, \"ticks\": \"\"}}, \"colorscale\": {\"diverging\": [[0, \"#8e0152\"], [0.1, \"#c51b7d\"], [0.2, \"#de77ae\"], [0.3, \"#f1b6da\"], [0.4, \"#fde0ef\"], [0.5, \"#f7f7f7\"], [0.6, \"#e6f5d0\"], [0.7, \"#b8e186\"], [0.8, \"#7fbc41\"], [0.9, \"#4d9221\"], [1, \"#276419\"]], \"sequential\": [[0.0, \"#0d0887\"], [0.1111111111111111, \"#46039f\"], [0.2222222222222222, \"#7201a8\"], [0.3333333333333333, \"#9c179e\"], [0.4444444444444444, \"#bd3786\"], [0.5555555555555556, \"#d8576b\"], [0.6666666666666666, \"#ed7953\"], [0.7777777777777778, \"#fb9f3a\"], [0.8888888888888888, \"#fdca26\"], [1.0, \"#f0f921\"]], \"sequentialminus\": [[0.0, \"#0d0887\"], [0.1111111111111111, \"#46039f\"], [0.2222222222222222, \"#7201a8\"], [0.3333333333333333, \"#9c179e\"], [0.4444444444444444, \"#bd3786\"], [0.5555555555555556, \"#d8576b\"], [0.6666666666666666, \"#ed7953\"], [0.7777777777777778, \"#fb9f3a\"], [0.8888888888888888, \"#fdca26\"], [1.0, \"#f0f921\"]]}, \"colorway\": [\"#636efa\", \"#EF553B\", \"#00cc96\", \"#ab63fa\", \"#FFA15A\", \"#19d3f3\", \"#FF6692\", \"#B6E880\", \"#FF97FF\", \"#FECB52\"], \"font\": {\"color\": \"#2a3f5f\"}, \"geo\": {\"bgcolor\": \"white\", \"lakecolor\": \"white\", \"landcolor\": \"#E5ECF6\", \"showlakes\": true, \"showland\": true, \"subunitcolor\": \"white\"}, \"hoverlabel\": {\"align\": \"left\"}, \"hovermode\": \"closest\", \"mapbox\": {\"style\": \"light\"}, \"paper_bgcolor\": \"white\", \"plot_bgcolor\": \"#E5ECF6\", \"polar\": {\"angularaxis\": {\"gridcolor\": \"white\", \"linecolor\": \"white\", \"ticks\": \"\"}, \"bgcolor\": \"#E5ECF6\", \"radialaxis\": {\"gridcolor\": \"white\", \"linecolor\": \"white\", \"ticks\": \"\"}}, \"scene\": {\"xaxis\": {\"backgroundcolor\": \"#E5ECF6\", \"gridcolor\": \"white\", \"gridwidth\": 2, \"linecolor\": \"white\", \"showbackground\": true, \"ticks\": \"\", \"zerolinecolor\": \"white\"}, \"yaxis\": {\"backgroundcolor\": \"#E5ECF6\", \"gridcolor\": \"white\", \"gridwidth\": 2, \"linecolor\": \"white\", \"showbackground\": true, \"ticks\": \"\", \"zerolinecolor\": \"white\"}, \"zaxis\": {\"backgroundcolor\": \"#E5ECF6\", \"gridcolor\": \"white\", \"gridwidth\": 2, \"linecolor\": \"white\", \"showbackground\": true, \"ticks\": \"\", \"zerolinecolor\": \"white\"}}, \"shapedefaults\": {\"line\": {\"color\": \"#2a3f5f\"}}, \"ternary\": {\"aaxis\": {\"gridcolor\": \"white\", \"linecolor\": \"white\", \"ticks\": \"\"}, \"baxis\": {\"gridcolor\": \"white\", \"linecolor\": \"white\", \"ticks\": \"\"}, \"bgcolor\": \"#E5ECF6\", \"caxis\": {\"gridcolor\": \"white\", \"linecolor\": \"white\", \"ticks\": \"\"}}, \"title\": {\"x\": 0.05}, \"xaxis\": {\"automargin\": true, \"gridcolor\": \"white\", \"linecolor\": \"white\", \"ticks\": \"\", \"title\": {\"standoff\": 15}, \"zerolinecolor\": \"white\", \"zerolinewidth\": 2}, \"yaxis\": {\"automargin\": true, \"gridcolor\": \"white\", \"linecolor\": \"white\", \"ticks\": \"\", \"title\": {\"standoff\": 15}, \"zerolinecolor\": \"white\", \"zerolinewidth\": 2}}}, \"width\": 800},\n",
       "                        {\"responsive\": true}\n",
       "                    ).then(function(){\n",
       "                            \n",
       "var gd = document.getElementById('c6acd75b-15f0-4fc3-9556-bc3c3303737e');\n",
       "var x = new MutationObserver(function (mutations, observer) {{\n",
       "        var display = window.getComputedStyle(gd).display;\n",
       "        if (!display || display === 'none') {{\n",
       "            console.log([gd, 'removed!']);\n",
       "            Plotly.purge(gd);\n",
       "            observer.disconnect();\n",
       "        }}\n",
       "}});\n",
       "\n",
       "// Listen for the removal of the full notebook cells\n",
       "var notebookContainer = gd.closest('#notebook-container');\n",
       "if (notebookContainer) {{\n",
       "    x.observe(notebookContainer, {childList: true});\n",
       "}}\n",
       "\n",
       "// Listen for the clearing of the current output cell\n",
       "var outputEl = gd.closest('.output');\n",
       "if (outputEl) {{\n",
       "    x.observe(outputEl, {childList: true});\n",
       "}}\n",
       "\n",
       "                        })\n",
       "                };\n",
       "                });\n",
       "            </script>\n",
       "        </div>"
      ]
     },
     "metadata": {},
     "output_type": "display_data"
    }
   ],
   "source": [
    "# Creating a 3D-Scatter with the PCA data and the clusters\n",
    "fig = px.scatter_3d(\n",
    "    cluster_df,\n",
    "    x=\"PC3\",\n",
    "    y=\"PC2\",\n",
    "    z=\"PC1\",\n",
    "    hover_name = \"CoinName\",\n",
    "    hover_data = [\"Algorithm\"],\n",
    "    width=800,\n",
    ")\n",
    "fig.update_layout(legend=dict(x=0, y=1))\n",
    "fig.show()\n"
   ]
  },
  {
   "cell_type": "markdown",
   "metadata": {},
   "source": [
    "#### Table of Tradable Cryptocurrencies"
   ]
  },
  {
   "cell_type": "code",
   "execution_count": 442,
   "metadata": {},
   "outputs": [
    {
     "data": {
      "application/vnd.holoviews_exec.v0+json": "",
      "text/html": [
       "<div id='3181' style='display: table; margin: 0 auto;'>\n",
       "\n",
       "\n",
       "\n",
       "\n",
       "\n",
       "  <div class=\"bk-root\" id=\"fe531223-653d-433a-917d-a96be4825bbd\" data-root-id=\"3181\"></div>\n",
       "</div>\n",
       "<script type=\"application/javascript\">(function(root) {\n",
       "  function embed_document(root) {\n",
       "    \n",
       "  var docs_json = {\"4e687ad6-52a3-415c-bd71-bf1edc431cae\":{\"roots\":{\"references\":[{\"attributes\":{\"columns\":[{\"id\":\"3153\",\"type\":\"TableColumn\"},{\"id\":\"3158\",\"type\":\"TableColumn\"},{\"id\":\"3163\",\"type\":\"TableColumn\"},{\"id\":\"3168\",\"type\":\"TableColumn\"},{\"id\":\"3173\",\"type\":\"TableColumn\"},{\"id\":\"3178\",\"type\":\"TableColumn\"}],\"height\":300,\"reorderable\":false,\"source\":{\"id\":\"3149\",\"type\":\"ColumnDataSource\"},\"view\":{\"id\":\"3182\",\"type\":\"CDSView\"},\"width\":800},\"id\":\"3181\",\"type\":\"DataTable\"},{\"attributes\":{},\"id\":\"3161\",\"type\":\"StringFormatter\"},{\"attributes\":{},\"id\":\"3151\",\"type\":\"StringFormatter\"},{\"attributes\":{\"callback\":null,\"data\":{\"Algorithm\":[\"Scrypt\",\"Scrypt\",\"X13\",\"SHA-256\",\"Ethash\",\"Scrypt\",\"X11\",\"CryptoNight-V7\",\"Ethash\",\"Equihash\",\"SHA-512\",\"Multiple\",\"SHA-256\",\"SHA-256\",\"Scrypt\",\"X15\",\"X11\",\"Scrypt\",\"Scrypt\",\"Scrypt\",\"Multiple\",\"Scrypt\",\"SHA-256\",\"Scrypt\",\"Scrypt\",\"Scrypt\",\"Quark\",\"Groestl\",\"Scrypt\",\"Scrypt\",\"Scrypt\",\"Scrypt\",\"Scrypt\",\"X11\",\"Scrypt\",\"Groestl\",\"Multiple\",\"SHA-256\",\"Scrypt\",\"Scrypt\",\"Scrypt\",\"Scrypt\",\"PoS\",\"Scrypt\",\"Scrypt\",\"NeoScrypt\",\"Scrypt\",\"Scrypt\",\"Scrypt\",\"Scrypt\",\"X11\",\"Scrypt\",\"X11\",\"SHA-256\",\"Scrypt\",\"Scrypt\",\"Scrypt\",\"SHA3\",\"Scrypt\",\"HybridScryptHash256\",\"Scrypt\",\"Scrypt\",\"SHA-256\",\"Scrypt\",\"X13\",\"Scrypt\",\"SHA-256\",\"Scrypt\",\"X13\",\"NeoScrypt\",\"Scrypt\",\"Scrypt\",\"Scrypt\",\"Scrypt\",\"Scrypt\",\"Scrypt\",\"X11\",\"X11\",\"SHA-256\",\"Multiple\",\"SHA-256\",\"PHI1612\",\"X11\",\"SHA-256\",\"SHA-256\",\"SHA-256\",\"X11\",\"Scrypt\",\"Scrypt\",\"Scrypt\",\"Scrypt\",\"Lyra2REv2\",\"Scrypt\",\"X11\",\"Multiple\",\"SHA-256\",\"X13\",\"Scrypt\",\"CryptoNight\",\"CryptoNight\",\"Shabal256\",\"Counterparty\",\"Scrypt\",\"SHA-256\",\"Groestl\",\"Scrypt\",\"Scrypt\",\"Scrypt\",\"X13\",\"Scrypt\",\"Scrypt\",\"Scrypt\",\"Scrypt\",\"X13\",\"Scrypt\",\"Stanford Folding\",\"X11\",\"Multiple\",\"QuBit\",\"Scrypt\",\"Scrypt\",\"Scrypt\",\"M7 POW\",\"Scrypt\",\"SHA-256\",\"Scrypt\",\"X11\",\"SHA3\",\"X11\",\"Lyra2RE\",\"SHA-256\",\"QUAIT\",\"X11\",\"X11\",\"Scrypt\",\"Scrypt\",\"Scrypt\",\"Ethash\",\"X13\",\"Blake2b\",\"SHA-256\",\"X15\",\"X11\",\"SHA-256\",\"BLAKE256\",\"Scrypt\",\"1GB AES Pattern Search\",\"SHA-256\",\"X11\",\"Scrypt\",\"SHA-256\",\"SHA-256\",\"NIST5\",\"Scrypt\",\"Scrypt\",\"X11\",\"Dagger\",\"Scrypt\",\"X11GOST\",\"X11\",\"Scrypt\",\"SHA-256\",\"Scrypt\",\"PoS\",\"Scrypt\",\"ScryptOG\",\"X11\",\"X11\",\"SHA-256\",\"SHA-256\",\"NIST5\",\"X11\",\"Scrypt\",\"POS 3.0\",\"Scrypt\",\"Scrypt\",\"Scrypt\",\"X13\",\"X11\",\"X11\",\"Equihash\",\"X11\",\"Scrypt\",\"CryptoNight\",\"SHA-256\",\"SHA-256\",\"X11\",\"Scrypt\",\"Multiple\",\"Scrypt\",\"Scrypt\",\"Scrypt\",\"SHA-256\",\"Scrypt\",\"Scrypt\",\"SHA-256D\",\"PoS\",\"Scrypt\",\"X11\",\"Lyra2Z\",\"PoS\",\"X13\",\"X14\",\"PoS\",\"SHA-256D\",\"Ethash\",\"Equihash\",\"DPoS\",\"X11\",\"Scrypt\",\"X11\",\"X13\",\"X11\",\"PoS\",\"Scrypt\",\"Scrypt\",\"X11\",\"PoS\",\"X11\",\"SHA-256\",\"Scrypt\",\"X11\",\"Scrypt\",\"Scrypt\",\"X11\",\"CryptoNight\",\"Scrypt\",\"Scrypt\",\"Scrypt\",\"Scrypt\",\"Quark\",\"QuBit\",\"Scrypt\",\"CryptoNight\",\"Lyra2RE\",\"Scrypt\",\"SHA-256\",\"X11\",\"Scrypt\",\"X11\",\"Scrypt\",\"CryptoNight-V7\",\"Scrypt\",\"Scrypt\",\"Scrypt\",\"X13\",\"X11\",\"Equihash\",\"Scrypt\",\"Scrypt\",\"Lyra2RE\",\"Scrypt\",\"Dagger-Hashimoto\",\"X11\",\"Blake2S\",\"X11\",\"Scrypt\",\"PoS\",\"X11\",\"NIST5\",\"PoS\",\"X11\",\"Scrypt\",\"Scrypt\",\"Scrypt\",\"SHA-256\",\"X11\",\"Scrypt\",\"Scrypt\",\"SHA-256\",\"PoS\",\"Scrypt\",\"X15\",\"SHA-256\",\"Scrypt\",\"POS 3.0\",\"CryptoNight-V7\",\"536\",\"Argon2d\",\"Blake2b\",\"Cloverhash\",\"CryptoNight\",\"NIST5\",\"X11\",\"NIST5\",\"Skein\",\"Scrypt\",\"X13\",\"Scrypt\",\"X11\",\"X11\",\"Scrypt\",\"CryptoNight\",\"X13\",\"Time Travel\",\"Scrypt\",\"Keccak\",\"SkunkHash v2 Raptor\",\"X11\",\"Skein\",\"SHA-256\",\"X11\",\"Scrypt\",\"VeChainThor Authority\",\"Scrypt\",\"PoS\",\"Scrypt\",\"Scrypt\",\"Scrypt\",\"Scrypt\",\"Scrypt\",\"Scrypt\",\"Scrypt\",\"CryptoNight\",\"SHA-512\",\"Ouroboros\",\"X11\",\"Equihash\",\"NeoScrypt\",\"X11\",\"Scrypt\",\"NeoScrypt\",\"Lyra2REv2\",\"Equihash\",\"Scrypt\",\"SHA-256\",\"NIST5\",\"PHI1612\",\"Dagger\",\"Scrypt\",\"Quark\",\"Scrypt\",\"POS 2.0\",\"Scrypt\",\"SHA-256\",\"X11\",\"NeoScrypt\",\"Ethash\",\"NeoScrypt\",\"Quark\",\"X11\",\"DPoS\",\"NIST5\",\"X13\",\"Multiple\",\"Scrypt\",\"CryptoNight\",\"CryptoNight\",\"Ethash\",\"NIST5\",\"Scrypt\",\"Quark\",\"X11\",\"CryptoNight-V7\",\"Scrypt\",\"Scrypt\",\"Scrypt\",\"X11\",\"BLAKE256\",\"X11\",\"Scrypt\",\"Scrypt\",\"NeoScrypt\",\"NeoScrypt\",\"Quark\",\"NeoScrypt\",\"Scrypt\",\"Scrypt\",\"Scrypt\",\"X11\",\"Scrypt\",\"X11\",\"SHA-256\",\"C11\",\"POS 3.0\",\"Ethash\",\"Scrypt\",\"Scrypt\",\"CryptoNight\",\"SkunkHash\",\"Scrypt\",\"CryptoNight\",\"X11\",\"Scrypt\",\"SHA-256\",\"Dagger\",\"Lyra2REv2\",\"X13\",\"Proof-of-BibleHash\",\"SHA-256 + Hive\",\"Scrypt\",\"Scrypt\",\"Skein\",\"X11\",\"Skein\",\"X11\",\"C11\",\"Proof-of-Authority\",\"X11\",\"XEVAN\",\"Scrypt\",\"VBFT\",\"Ethash\",\"CryptoNight\",\"Scrypt\",\"SHA-256\",\"IMesh\",\"PHI1612\",\"Quark\",\"NIST5\",\"Scrypt\",\"Scrypt\",\"Equihash\",\"Scrypt\",\"Lyra2Z\",\"Green Protocol\",\"PoS\",\"Scrypt\",\"NeoScrypt\",\"Semux BFT consensus\",\"X11\",\"Quark\",\"PoS\",\"CryptoNight\",\"X16R\",\"Scrypt\",\"NIST5\",\"Lyra2RE\",\"XEVAN\",\"Tribus\",\"Scrypt\",\"Lyra2Z\",\"Scrypt\",\"Scrypt\",\"CryptoNight\",\"X11\",\"SHA-256D\",\"CryptoNight Heavy\",\"CryptoNight\",\"Scrypt\",\"Scrypt\",\"X11\",\"Scrypt\",\"Jump Consistent Hash\",\"SHA-256D\",\"CryptoNight\",\"Scrypt\",\"X15\",\"Scrypt\",\"Quark\",\"Scrypt\",\"SHA-512\",\"SHA-256\",\"DPoS\",\"X16R\",\"HMQ1725\",\"X11\",\"Scrypt\",\"X16R\",\"Quark\",\"Quark\",\"Scrypt\",\"Lyra2REv2\",\"Quark\",\"Scrypt\",\"Scrypt\",\"Scrypt\",\"CryptoNight-V7\",\"Cryptonight-GPU\",\"XEVAN\",\"CryptoNight Heavy\",\"CryptoNight\",\"X11\",\"X11\",\"X11\",\"Scrypt\",\"PoS\",\"SHA-256\",\"Keccak\",\"X11\",\"X11\",\"Tribus\",\"Scrypt\",\"NeoScrypt\",\"SHA-512\",\"X16R\",\"ECC 256K1\",\"Equihash\",\"XEVAN\",\"HMQ1725\",\"Lyra2Z\",\"SHA-512\",\"SHA-256\",\"Quark\",\"PHI1612\",\"XEVAN\",\"X11\",\"CryptoNight\",\"Quark\",\"Blake\",\"Blake\",\"Blake\",\"Blake\",\"Equihash\",\"Exosis\",\"Scrypt\",\"Scrypt\",\"Equihash\",\"Quark\",\"Equihash\",\"Quark\",\"Scrypt\",\"Lyra2REv2\",\"QuBit\",\"X11\",\"Scrypt\",\"XEVAN\",\"SHA-256D\",\"X11\",\"SHA-256\",\"X13\",\"SHA-256\",\"X11\",\"DPoS\",\"Ethash\",\"Scrypt\",\"Scrypt\",\"X11\",\"NeoScrypt\",\"Scrypt\",\"Blake\",\"Scrypt\",\"SHA-256\",\"Scrypt\",\"X11\",\"Scrypt\",\"Scrypt\",\"SHA-256\",\"X11\",\"SHA-256\",\"Scrypt\",\"Scrypt\",\"Scrypt\",\"Groestl\",\"X11\",\"Scrypt\",\"PoS\",\"Scrypt\",\"Scrypt\",\"X11\",\"SHA-256\",\"DPoS\",\"Scrypt\",\"Scrypt\",\"NeoScrypt\",\"SHA3-256\",\"Multiple\",\"X13\",\"Equihash+Scrypt\",\"Lyra2Z\",\"PHI2\",\"DPoS\",\"Ethash\",\"DPoS\",\"SHA-256\",\"Lyra2Z\",\"Leased POS\",\"PoS\",\"Scrypt\",\"TRC10\",\"Equihash\",\"PoS\",\"SHA-256\",\"Scrypt\",\"CryptoNight\",\"Equihash\",\"Scrypt\",\"Scrypt\"],\"CoinName\":[\"42 Coin\",\"404Coin\",\"EliteCoin\",\"Bitcoin\",\"Ethereum\",\"Litecoin\",\"Dash\",\"Monero\",\"Ethereum Classic\",\"ZCash\",\"Bitshares\",\"DigiByte\",\"BitcoinDark\",\"PayCoin\",\"ProsperCoin\",\"KoboCoin\",\"Spreadcoin\",\"Argentum\",\"Aurora Coin\",\"BlueCoin\",\"MyriadCoin\",\"MoonCoin\",\"ZetaCoin\",\"SexCoin\",\"Quatloo\",\"EnergyCoin\",\"QuarkCoin\",\"Riecoin\",\"Digitalcoin \",\"BitBar\",\"Catcoin\",\"CryptoBullion\",\"CannaCoin\",\"CryptCoin\",\"CasinoCoin\",\"Diamond\",\"Verge\",\"DevCoin\",\"EarthCoin\",\"E-Gulden\",\"Einsteinium\",\"Emerald\",\"Exclusive Coin\",\"FlutterCoin\",\"Franko\",\"FeatherCoin\",\"GrandCoin\",\"GlobalCoin\",\"GoldCoin\",\"HoboNickels\",\"HyperStake\",\"Infinite Coin\",\"IOCoin\",\"IXcoin\",\"KrugerCoin\",\"LuckyCoin\",\"Litebar \",\"MaxCoin\",\"MegaCoin\",\"MediterraneanCoin\",\"MintCoin\",\"MinCoin\",\"MazaCoin\",\"Nautilus Coin\",\"NavCoin\",\"NobleCoin\",\"Namecoin\",\"NyanCoin\",\"OpalCoin\",\"Orbitcoin\",\"PotCoin\",\"PhoenixCoin\",\"Reddcoin\",\"RonPaulCoin\",\"StableCoin\",\"SmartCoin\",\"SuperCoin\",\"SyncCoin\",\"SysCoin\",\"TeslaCoin\",\"TigerCoin\",\"TittieCoin\",\"TorCoin\",\"TerraCoin\",\"UnbreakableCoin\",\"Unobtanium\",\"UroCoin\",\"UnitaryStatus Dollar\",\"UltraCoin\",\"ViaCoin\",\"VeriCoin\",\"Vertcoin\",\"WorldCoin\",\"X11 Coin\",\"Crypti\",\"JouleCoin\",\"StealthCoin\",\"ZCC Coin\",\"ByteCoin\",\"DigitalNote \",\"BurstCoin\",\"StorjCoin\",\"MonaCoin\",\"Neutron\",\"FairCoin\",\"Gulden\",\"RubyCoin\",\"PesetaCoin\",\"Kore\",\"Wild Beast Coin\",\"Dnotes\",\"Flo\",\"8BIT Coin\",\"Sativa Coin\",\"ArtByte\",\"Folding Coin\",\"Ucoin\",\"Unitus\",\"CypherPunkCoin\",\"OmniCron\",\"Vtorrent\",\"GreenCoin\",\"Cryptonite\",\"MasterCoin\",\"SoonCoin\",\"1Credit\",\"IslaCoin\",\"Nexus\",\"MarsCoin \",\"Crypto\",\"Anarchists Prime\",\"Droidz\",\"BowsCoin\",\"Squall Coin\",\"Song Coin\",\"BitZeny\",\"Diggits\",\"Expanse\",\"Paycon\",\"Siacoin\",\"Emercoin\",\"EverGreenCoin\",\"MindCoin\",\"I0coin\",\"Decred\",\"Revolution VR\",\"HOdlcoin\",\"EDRCoin\",\"Hitcoin\",\"Gamecredits\",\"DubaiCoin\",\"CarpeDiemCoin\",\"PWR Coin\",\"BillaryCoin\",\"GPU Coin\",\"Adzcoin\",\"SoilCoin\",\"YoCoin\",\"SibCoin\",\"EuropeCoin\",\"ZeitCoin\",\"SwingCoin\",\"SafeExchangeCoin\",\"Nebuchadnezzar\",\"Francs\",\"Aiden\",\"BolivarCoin\",\"Ratecoin\",\"Revenu\",\"Clockcoin\",\"VIP Tokens\",\"BitSend\",\"Omni\",\"Let it Ride\",\"PutinCoin\",\"iBankCoin\",\"Frankywillcoin\",\"MudraCoin\",\"PizzaCoin\",\"Lutetium Coin\",\"Komodo\",\"GoldBlocks\",\"CarterCoin\",\"Karbo\",\"BitTokens\",\"ZayedCoin\",\"MustangCoin\",\"ZoneCoin\",\"Circuits of Value\",\"RootCoin\",\"DopeCoin\",\"BitCurrency\",\"DollarCoin\",\"Swiscoin\",\"Shilling\",\"BuzzCoin\",\"Opair\",\"PesoBit\",\"Halloween Coin\",\"ZCoin\",\"CoffeeCoin\",\"RoyalCoin\",\"GanjaCoin V2\",\"TeamUP\",\"LanaCoin\",\"Elementrem\",\"ZClassic\",\"ARK\",\"InsaneCoin\",\"KiloCoin\",\"ArtexCoin\",\"EmberCoin\",\"XenixCoin\",\"FreeCoin\",\"PLNCoin\",\"AquariusCoin\",\"Kurrent\",\"Creatio\",\"Eternity\",\"Eurocoin\",\"BitcoinFast\",\"Stakenet\",\"BitConnect Coin\",\"MoneyCoin\",\"Enigma\",\"Cannabis Industry Coin\",\"Russiacoin\",\"PandaCoin\",\"GameUnits\",\"GAKHcoin\",\"Allsafe\",\"LiteCreed\",\"OsmiumCoin\",\"Bikercoins\",\"HexxCoin\",\"Klingon Empire Darsek\",\"Internet of People\",\"KushCoin\",\"Printerium\",\"PacCoin\",\"Impeach\",\"Citadel\",\"Zilbercoin\",\"FirstCoin\",\"BeaverCoin\",\"FindCoin\",\"VaultCoin\",\"Zero\",\"OpenChat\",\"Canada eCoin\",\"Zoin\",\"RenosCoin\",\"DubaiCoin\",\"VirtacoinPlus\",\"TajCoin\",\"Impact\",\"EB3coin\",\"Atmos\",\"HappyCoin\",\"Coinonat\",\"MacronCoin\",\"Condensate\",\"Independent Money System\",\"ArgusCoin\",\"LomoCoin\",\"ProCurrency\",\"GoldReserve\",\"BenjiRolls\",\"GrowthCoin\",\"ILCoin\",\"Phreak\",\"Degas Coin\",\"HTML5 Coin\",\"Ultimate Secure Cash\",\"EquiTrader\",\"QTUM\",\"Quantum Resistant Ledger\",\"Espers\",\"Dynamic\",\"Nano\",\"ChanCoin\",\"Dinastycoin\",\"Denarius\",\"DigitalPrice\",\"Virta Unique Coin\",\"Bitcoin Planet\",\"Unify\",\"BritCoin\",\"SocialCoin\",\"ArcticCoin\",\"DAS\",\"Linda\",\"LeviarCoin\",\"DeepOnion\",\"Bitcore\",\"gCn Coin\",\"SmartCash\",\"Signatum\",\"Onix\",\"Cream\",\"Bitcoin Cash\",\"Monoeci\",\"Draftcoin\",\"Vechain\",\"Sojourn Coin\",\"Stakecoin\",\"NewYorkCoin\",\"FrazCoin\",\"Kronecoin\",\"AdCoin\",\"Linx\",\"CoinonatX\",\"Ethereum Dark\",\"Sumokoin\",\"Obsidian\",\"Cardano\",\"Regalcoin\",\"BitcoinZ\",\"TrezarCoin\",\"Elements\",\"TerraNovaCoin\",\"VIVO Coin\",\"Rupee\",\"Bitcoin Gold\",\"WomenCoin\",\"Theresa May Coin\",\"NamoCoin\",\"LUXCoin\",\"Pirl\",\"Xios\",\"Bitcloud 2.0\",\"eBoost\",\"KekCoin\",\"BlackholeCoin\",\"Infinity Economics\",\"Pura\",\"Innova\",\"Ellaism\",\"GoByte\",\"Alqo\",\"Magnet\",\"Lamden Tau\",\"Electra\",\"Bitcoin Diamond\",\"SHIELD\",\"Cash & Back Coin\",\"UltraNote\",\"BitCoal\",\"DaxxCoin\",\"Bulwark\",\"BoxyCoin\",\"Kalkulus\",\"AC3\",\"Lethean\",\"GermanCoin\",\"LiteCoin Ultra\",\"PopularCoin\",\"PhantomX\",\"Photon\",\"Sucre\",\"Accolade\",\"OmiseGO Classic\",\"SparksPay\",\"GoaCoin\",\"Digiwage\",\"GunCoin\",\"IrishCoin\",\"Trollcoin\",\"Litecoin Plus\",\"Monkey Project\",\"ECC\",\"Pioneer Coin\",\"UnitedBitcoin\",\"Interzone\",\"TokenPay\",\"1717 Masonic Commemorative Token\",\"Crypto Wisdom Coin\",\"My Big Coin\",\"TurtleCoin\",\"MUNcoin\",\"Unified Society USDEX\",\"Niobio Cash\",\"BitSoar Coin\",\"ShareChain\",\"Credence Coin\",\"Travelflex\",\"KREDS\",\"Tokyo Coin\",\"BiblePay\",\"LitecoinCash\",\"BitFlip\",\"LottoCoin\",\"BashCoin\",\"DigiMoney\",\"Lizus Payment\",\"Crypto Improvement Fund\",\"Stipend\",\"Poa Network\",\"Pushi\",\"Ellerium\",\"Velox\",\"Ontology\",\"Callisto Network\",\"BitTube\",\"Poseidon\",\"Manna\",\"Aidos Kuneen\",\"Seraph\",\"Cosmo\",\"Bitspace\",\"Briacoin\",\"Ignition\",\"Bitrolium\",\"MedicCoin\",\"Alpenschillling\",\"Bitcoin Green\",\"Deviant Coin\",\"Abjcoin\",\"Rapture\",\"Semux\",\"FuturoCoin\",\"Carebit\",\"Zealium\",\"Monero Classic\",\"Proton\",\"iDealCash\",\"Jumpcoin\",\"Infinex\",\"Bitcoin Incognito\",\"KEYCO\",\"HollyWoodCoin\",\"GINcoin\",\"Parlay\",\"Listerclassic Coin\",\"PlatinCoin\",\"BetKings\",\"Cognitio\",\"Loki\",\"Newton Coin\",\"Mercoin\",\"Swisscoin\",\"Reliance\",\"Xt3ch\",\"MassGrid\",\"TheVig\",\"PluraCoin\",\"EmaratCoin\",\"Dekado\",\"Lynx\",\"Poseidon Quark\",\"MYCE\",\"Arionum\",\"BitcoinWSpectrum\",\"Muse\",\"Motion\",\"PlusOneCoin\",\"Axe\",\"GambleCoin\",\"Trivechain\",\"Dystem\",\"Giant\",\"Peony Coin\",\"Absolute Coin\",\"Vitae\",\"HexCoin\",\"Deimos\",\"TPCash\",\"Webchain\",\"Ryo\",\"Urals Coin\",\"Qwertycoin\",\"Bitcoin Nova\",\"ARENON\",\"DACash\",\"EUNO\",\"MMOCoin\",\"Ketan\",\"Project Pai\",\"XDNA\",\"PAXEX\",\"Azart\",\"Averopay\",\"ThunderStake\",\"SimpleBank\",\"Kcash\",\"Xchange\",\"Acute Angle Cloud\",\"CrypticCoin\",\"Bettex coin\",\"Brazio\",\"Actinium\",\"TWIST\",\"Bitcoin SV\",\"DACH Coin\",\"Argoneum\",\"BitMoney\",\"Junson Ming Chan Coin\",\"FREDEnergy\",\"HerbCoin\",\"BlakeBitcoin\",\"Universal Molecule\",\"Lithium\",\"Electron\",\"PirateCash\",\"Exosis\",\"Block-Logic\",\"Oduwa\",\"Beam\",\"Galilel\",\"Bithereum\",\"Crypto Sports\",\"Credit\",\"Scribe Network\",\"SLICE\",\"Dash Platinum\",\"Nasdacoin\",\"Beetle Coin\",\"Titan Coin\",\"Award\",\"BLAST\",\"Bitcoin Rhodium\",\"GlobalToken\",\"Insane Coin\",\"ALAX\",\"Media Protocol Token\",\"LiteDoge\",\"SolarCoin\",\"TruckCoin\",\"UFO Coin\",\"OrangeCoin\",\"BlakeCoin\",\"BitstarCoin\",\"NeosCoin\",\"HyperCoin\",\"PinkCoin\",\"Crypto Escudo\",\"AudioCoin\",\"IncaKoin\",\"Piggy Coin\",\"Crown Coin\",\"Genstake\",\"SmileyCoin\",\"XiaoMiCoin\",\"Groestlcoin\",\"CapriCoin\",\" ClubCoin\",\"Radium\",\"Bata\",\"Pakcoin\",\"Creditbit \",\"OKCash\",\"Lisk\",\"HiCoin\",\"WhiteCoin\",\"FriendshipCoin\",\"Fiii\",\"JoinCoin\",\"Triangles Coin\",\"Vollar\",\"TecraCoin\",\"Gexan\",\"EOS\",\"Reality Clash\",\"Oxycoin\",\"TigerCash\",\"LAPO\",\"Waves\",\"Particl\",\"ShardCoin\",\"BitTorrent\",\"ChainZilla\",\"Nxt\",\"ZEPHYR\",\"Gapcoin\",\"Beldex\",\"Horizen\",\"BitcoinPlus\",\"DivotyCoin\"],\"ProofType\":[\"PoW/PoS\",\"PoW/PoS\",\"PoW/PoS\",\"PoW\",\"PoW\",\"PoW\",\"PoW/PoS\",\"PoW\",\"PoW\",\"PoW\",\"PoS\",\"PoW\",\"PoW/PoS\",\"PoS\",\"PoW\",\"PoW/PoS\",\"PoW\",\"PoW\",\"PoW/PoS\",\"PoW/PoS\",\"PoW\",\"PoW\",\"PoW\",\"PoW\",\"PoW\",\"PoW/PoS\",\"PoW\",\"PoW\",\"PoW\",\"PoW/PoS\",\"PoW\",\"PoW/PoS\",\"PoW\",\"PoW\",\"PoC\",\"PoW/PoS\",\"PoW\",\"PoW\",\"PoW\",\"PoW\",\"PoW\",\"PoW\",\"PoS\",\"PoS/PoW/PoT\",\"PoW\",\"PoW\",\"PoW\",\"PoW\",\"PoW\",\"PoW/PoS\",\"PoS\",\"PoW\",\"PoW/PoS\",\"PoW\",\"PoW\",\"PoW\",\"PoW\",\"PoW/PoS\",\"PoW\",\"PoW\",\"PoS\",\"PoW\",\"PoW/PoS\",\"PoS\",\"PoW/PoS\",\"PoW\",\"PoW\",\"PoW\",\"PoW/PoS\",\"PoW/PoS\",\"PoW/PoS\",\"PoW/PoS\",\"PoW/PoS\",\"PoW\",\"PoW\",\"PoW\",\"PoS\",\"PoW/PoS\",\"PoW\",\"PoS\",\"PoW\",\"PoS\",\"PoW/PoS\",\"PoW\",\"PoW\",\"PoW\",\"PoW\",\"PoW/PoS\",\"PoW/PoS\",\"PoW\",\"PoST\",\"PoW\",\"PoW\",\"PoW/PoS\",\"PoS\",\"PoW\",\"PoW/PoS\",\"PoW/PoS\",\"PoW\",\"PoW\",\"PoC\",\"PoS\",\"PoW\",\"PoW/PoS\",\"PoW/PoS\",\"PoW\",\"PoS\",\"PoW\",\"PoW/PoS\",\"PoW\",\"PoS\",\"PoW\",\"PoW/PoS\",\"PoW/PoS\",\"PoW\",\"PoW\",\"PoS\",\"PoW\",\"PoW\",\"PoW\",\"PoW/PoS\",\"PoW\",\"PoW\",\"PoW\",\"PoW\",\"PoW\",\"PoW/PoS\",\"PoW/nPoS\",\"PoW\",\"PoW\",\"PoW\",\"PoW/PoS\",\"PoW\",\"PoS/PoW\",\"PoW\",\"PoW\",\"PoS\",\"PoW\",\"PoW/PoS\",\"PoW\",\"PoW/PoS\",\"PoW/PoS\",\"PoW\",\"PoW\",\"PoW/PoS\",\"PoW\",\"PoW\",\"PoW/PoS\",\"PoW/PoS\",\"PoW\",\"PoW/PoS\",\"PoW\",\"PoW/PoS\",\"PoW/PoS\",\"PoS\",\"PoW\",\"PoW\",\"PoW\",\"PoW\",\"PoW/PoS\",\"PoS\",\"PoW/PoS\",\"PoC\",\"PoS\",\"PoW\",\"PoW\",\"PoW\",\"PoW/PoS\",\"PoW/PoS\",\"PoW/PoS\",\"PoW/PoS\",\"PoW/PoS\",\"PoW\",\"PoS\",\"PoW/PoS\",\"PoW/PoS\",\"PoW/PoS\",\"PoS\",\"PoW\",\"PoS\",\"dPoW/PoW\",\"PoW/PoS\",\"PoW/PoS\",\"PoW\",\"PoW/PoS\",\"PoW\",\"PoW/PoS\",\"PoW/PoS\",\"PoW\",\"PoW/PoS\",\"PoW\",\"PoS\",\"PoW\",\"PoW/PoW\",\"PoW\",\"PoW/PoS\",\"PoS\",\"PoW/PoS\",\"PoW/PoS\",\"PoW\",\"PoS\",\"PoS\",\"PoW/PoS\",\"PoS\",\"PoW/PoS\",\"PoW\",\"PoW\",\"DPoS\",\"PoW/PoS\",\"PoW\",\"PoW\",\"PoW/PoS\",\"PoW/PoS\",\"PoS\",\"PoW/PoS\",\"PoW/PoS\",\"PoW\",\"PoS\",\"PoW/PoS\",\"PoW/PoS\",\"PoW/PoS\",\"TPoS\",\"PoW/PoS\",\"PoW/PoS\",\"PoW/PoS\",\"PoW\",\"PoW/PoS\",\"PoS\",\"PoW/PoS\",\"PoW/PoS\",\"PoS\",\"PoW/PoS\",\"PoW\",\"PoW\",\"PoW\",\"PoW/PoS\",\"PoW/PoS\",\"PoW/PoS\",\"PoW/PoS\",\"PoW\",\"PoW/PoS\",\"PoW\",\"PoS\",\"PoW/PoS \",\"PoW\",\"PoS\",\"PoW\",\"PoW\",\"PoW/PoS\",\"PoW\",\"PoW\",\"PoS\",\"PoW\",\"PoW/PoS\",\"PoW/PoS\",\"PoW/PoS\",\"PoW\",\"PoS\",\"PoW/PoS\",\"PoW\",\"PoS\",\"PoW/PoS\",\"PoW/PoS\",\"PoW/PoS\",\"PoW/PoS\",\"PoS\",\"PoW/PoS\",\"PoW\",\"PoS\",\"PoW\",\"PoS\",\"PoW/PoS\",\"PoW/PoS\",\"PoS\",\"PoW\",\"PoS\",\"PoW\",\"PoW/PoS\",\"PoW\",\"PoW\",\"PoW\",\"PoW\",\"PoW/PoS\",\"PoW\",\"PoW/PoS\",\"PoW/PoS\",\"PoW\",\"PoW/PoS\",\"PoW\",\"PoW\",\"PoW\",\"PoW/PoS\",\"PoW\",\"PoW/PoS\",\"PoW\",\"PoW\",\"PoW\",\"PoS\",\"PoW\",\"PoW/PoS\",\"PoW\",\"PoW/PoS\",\"PoS\",\"Proof of Authority\",\"PoW\",\"PoS\",\"PoW\",\"PoW\",\"PoW\",\"PoW\",\"PoW\",\"PoW/PoS\",\"PoW/PoS\",\"PoW\",\"PoS\",\"PoS\",\"PoW/PoS\",\"PoW\",\"PoW/PoS\",\"PoW\",\"PoW/PoS\",\"PoW\",\"PoS\",\"PoW\",\"PoW/PoS\",\"PoW/PoS\",\"PoW/PoS\",\"PoW/PoS\",\"PoW\",\"PoW/PoS\",\"PoW/PoS\",\"PoW\",\"PoS\",\"PoW/PoS\",\"PoS\",\"PoW\",\"PoW\",\"PoW\",\"PoW\",\"PoW/PoS\",\"PoW/PoS\",\"DPoS\",\"PoW/PoS\",\"PoW/PoS\",\"PoW\",\"PoW/PoS\",\"PoW\",\"PoW\",\"PoW\",\"PoS\",\"PoW\",\"PoS\",\"PoW\",\"PoW\",\"PoW/PoS\",\"PoW/PoS\",\"PoW\",\"PoW/PoS\",\"PoW\",\"PoW\",\"PoW/PoS\",\"PoW/PoS\",\"PoW\",\"PoW\",\"PoS\",\"PoW\",\"PoW\",\"PoW/PoS\",\"PoW/PoS\",\"PoS\",\"PoS\",\"PoW\",\"PoW\",\"PoW\",\"PoS\",\"PoS\",\"PoW\",\"PoW and PoS\",\"PoW\",\"PoW\",\"PoW/PoS\",\"PoW\",\"PoS\",\"PoW\",\"PoW/PoS\",\"PoW\",\"PoW\",\"PoS\",\"POBh\",\"PoW + Hive\",\"PoW\",\"PoW\",\"PoW/PoS\",\"PoW/PoS\",\"PoW/PoS\",\"PoW\",\"PoW/PoS\",\"PoA\",\"PoW/PoS\",\"PoW/PoS\",\"PoS\",\"PoS\",\"PoW\",\"PoW\",\"PoW\",\"PoW\",\"PoW\",\"PoW/PoS\",\"PoW\",\"PoW/PoS\",\"PoW/PoS\",\"PoW/PoS\",\"PoW\",\"PoS\",\"PoW\",\"PoS\",\"PoS\",\"PoW/PoS\",\"PoW\",\"DPoS\",\"PoW\",\"PoW/PoS\",\"PoS\",\"PoW\",\"PoS\",\"PoW/PoS\",\"PoW\",\"PoW\",\"PoS/PoW\",\"PoW\",\"PoS\",\"PoW\",\"PoS\",\"PoW/PoS\",\"PoW\",\"PoS\",\"PoW/PoS\",\"PoW\",\"PoW\",\"PoW/PoS\",\"PoW/PoS\",\"PoS\",\"PoS\",\"PoW\",\"PoW/PoS\",\"PoW\",\"PoW/PoS\",\"PoS\",\"HPoW\",\"PoS\",\"PoW/PoS\",\"PoW\",\"PoS\",\"PoS\",\"PoW\",\"PoW\",\"PoW\",\"PoS\",\"PoW/PoS\",\"PoS\",\"PoW/PoS\",\"PoS\",\"PoW/PoS\",\"PoS\",\"PoW\",\"PoW\",\"PoW/PoS\",\"PoW\",\"PoW\",\"PoW\",\"PoW\",\"PoW\",\"PoS\",\"PoW\",\"PoW/PoS\",\"PoS\",\"PoS\",\"PoW\",\"PoW/PoS\",\"PoS\",\"PoW\",\"PoW/PoS\",\"PoW/PoS\",\"PoW/PoS\",\"Zero-Knowledge Proof\",\"PoW\",\"DPOS\",\"PoW\",\"PoS\",\"PoW\",\"PoW\",\"PoS\",\"PoW\",\"PoS\",\"PoW\",\"Pos\",\"PoS\",\"PoW\",\"PoW/PoS\",\"PoW\",\"PoW\",\"PoW\",\"PoW\",\"PoS\",\"PoW\",\"PoW\",\"PoW/PoS\",\"PoW\",\"PoW/PoS\",\"PoW\",\"PoS\",\"PoW/PoS\",\"PoW\",\"PoW\",\"PoS\",\"PoW/PoS\",\"PoW/PoS\",\"PoW/PoS\",\"PoW/PoS\",\"PoW\",\"PoW\",\"PoW\",\"PoW/PoS\",\"DPoS\",\"PoW\",\"PoW/PoS\",\"PoW\",\"PoW/PoS\",\"PoW\",\"PoW/PoS\",\"PoW\",\"PoW/PoS\",\"PoS\",\"PoW/PoS\",\"PoW/PoS\",\"PoW\",\"PoW/PoS\",\"PoW/PoS\",\"PoW/PoS\",\"PoW\",\"PoW/PoS\",\"PoW\",\"PoW/PoS\",\"PoW\",\"PoW/PoS\",\"PoW/PoS\",\"PoS\",\"PoW\",\"PoW\",\"Proof of Trust\",\"PoW/PoS\",\"DPoS\",\"PoS\",\"PoW/PoS\",\"PoW/PoS\",\"DPoC\",\"PoW\",\"PoW/PoS\",\"PoW\",\"PoW\",\"PoW/PoS\",\"DPoS\",\"PoW\",\"DPoS\",\"PoS\",\"PoW/PoS\",\"LPoS\",\"PoS\",\"PoS\",\"DPoS\",\"DPoW\",\"PoS/LPoS\",\"DPoS\",\"PoW/PoS\",\"PoW\",\"PoW\",\"PoS\",\"PoW/PoS\"],\"TotalCoinSupply\":[\"42\",\"532000000\",\"314159265359\",\"21000000\",\"0\",\"84000000\",\"22000000\",\"0\",\"210000000\",\"21000000\",\"3600570502\",\"21000000000\",\"22000000\",\"12500000\",\"21000000\",\"350000000\",\"20000000\",\"64000000\",\"16768584\",\"0\",\"2000000000\",\"384000000000\",\"169795588\",\"250000000\",\"100000000\",\"0\",\"247000000\",\"84000000\",\"48166000\",\"500000\",\"21000000 \",\"1000000\",\"13140000\",\"18000000\",\"40000000000\",\"4380000\",\"16555000000\",\"21000000000\",\"13500000000\",\"21000000 \",\"299792458\",\"32000000\",\"0\",\"0\",\"11235813\",\"336000000\",\"1420609614\",\"70000000\",\"72245700\",\"120000000\",\"0\",\"90600000000\",\"22000000\",\"21000000\",\"265420800\",\"20000000\",\"1350000\",\"100000000\",\"42000000\",\"200000000\",\"0\",\"10000000\",\"2419200000\",\"16180000\",\"0\",\"15000000000\",\"21000000\",\"337000000\",\"0\",\"3770000\",\"420000000\",\"98000000\",\"0\",\"21000000\",\"250000000\",\"51200000\",\"0\",\"1000\",\"888000000\",\"100000000\",\"47011968\",\"2300000000\",\"10000000\",\"42000000\",\"80000000\",\"250000\",\"0\",\"1600000000\",\"100000000\",\"23000000\",\"0\",\"84000000\",\"265420800\",\"5500000\",\"0\",\"45000000\",\"0\",\"1000000000\",\"184467440735\",\"10000000000\",\"2158812800\",\"500000000\",\"105120000\",\"68000000\",\"0\",\"1680000000\",\"0\",\"166386000\",\"12000000\",\"2628000\",\"500000000\",\"160000000\",\"0\",\"10000000\",\"1000000000\",\"1000000000\",\"20000000\",\"0\",\"0\",\"3371337\",\"20000000\",\"10000000000\",\"1840000000\",\"619478\",\"21000000\",\"92000000000\",\"0\",\"78000000\",\"33000000\",\"65789100\",\"53760000\",\"5060000\",\"21000000\",\"0\",\"210240000\",\"250000000\",\"100000000\",\"16906397\",\"50000000\",\"0\",\"1000000000\",\"26298000\",\"16000000\",\"21000000\",\"21000000\",\"210000000\",\"81962100\",\"22000000\",\"26550000000\",\"84000000\",\"10500000\",\"21626280000 \",\"0\",\"42000000\",\"221052632\",\"84000000\",\"30000000\",\"168351300\",\"24000000\",\"384000000\",\" 99000000000\",\"40000000\",\"2147483647\",\"20000000\",\"20000000\",\"84000000\",\"25000000\",\"75000000\",\"222725000\",\"525000000\",\"90000000\",\"139000000\",\"616448\",\"33500000\",\"2000000000\",\"44333333\",\"100000000\",\"200000000\",\"25000000\",\"657000000\",\"200000000\",\"50000000\",\"90000000\",\"10000000\",\"21000000\",\"9736000\",\"3000000\",\"21000000\",\"1200000000\",\"0\",\"200000000\",\"0\",\"10638298\",\"3100000000\",\"30000000\",\"20000000000\",\"74000000\",\"0\",\"1500000000\",\"21400000\",\"39999898\",\"2500124\",\"100000000\",\"301000000\",\"7506000000\",\"26205539\",\"21000000\",\"125000000\",\"30000000\",\"10000000000\",\"500000000\",\"850000000\",\"3853326.77707314\",\"50000000\",\"38540000 \",\"42000000\",\"228000000\",\"20000000\",\"60000000\",\"20000000\",\"33000000\",\"76500000\",\"28000000\",\"650659833\",\"5000000\",\"21000000\",\"144000000\",\"32514916898\",\"13000000\",\"3315789\",\"15000000\",\"78835200\",\"2714286\",\"25000000\",\"9999999\",\"500000000\",\"21000000\",\"9354000\",\"20000000\",\"100000000000\",\"21933333\",\"185000000\",\"55000000\",\"110000000\",\"3360000\",\"14524851.4827\",\"1000000000\",\"17000000\",\"1000000000\",\"100000000 \",\"21000000\",\"34426423\",\"2232901\",\"100000000\",\"36900000\",\"110000000\",\"4000000000\",\"110290030\",\"100000000\",\"48252000\",\"400000000\",\"500000000\",\"21212121\",\"28600000\",\"1000000000\",\"75000000000\",\"40000000\",\"35520400\",\"2000000000\",\"2500000000\",\"30000000\",\"105000000\",\"90000000000\",\"200084200\",\"72000000\",\"100000000\",\"105000000\",\"50000000000\",\"0\",\"340282367\",\"30000000\",\"2000000000\",\"10000000\",\"100000000\",\"120000000\",\"100000000\",\"19276800\",\"30000000\",\" 75000000\",\"60000000\",\"18900000\",\"50000000000\",\"54000000\",\"18898187.6216583\",\"21000000\",\"200000000000\",\"5000000000\",\"137500000\",\"1100000000\",\"100000000\",\"21000000\",\"9507271\",\"17405891.19707116\",\"86712634466\",\"10500000000\",\"61599965\",\"0\",\"20000000\",\"84000000\",\"100000000\",\"100000000\",\"48252000\",\"4200000\",\"88888888\",\"91388946\",\"45000000000\",\"27000000\",\"21000000000\",\"400000000\",\"1800000000\",\"15733333\",\"27000000\",\"24000000\",\"21000000\",\"25000000000\",\"100000000\",\"1200000000\",\"60000000\",\"156306732.71\",\"21000000\",\"200000000\",\"100000000\",\"21000000\",\"14788275.991\",\"9000000000\",\"350000000\",\"45000000\",\"280000000\",\"31800000\",\"57879300\",\"144000000\",\"500000000\",\"30000000000\",\"210000000\",\"660000000\",\"210000000\",\"85000000000\",\"12500000\",\"10000000000\",\"27716121\",\"100000000\",\"20000000\",\"550000000\",\"999481516\",\"50000000000\",\"150000000\",\"4999999999\",\"50000000\",\" 90000000000\",\"19800000\",\"50000000\",\"70000000\",\"21000000\",\"32000000\",\"120000000\",\"500000000\",\"64000000\",\"900000000\",\"4000000\",\"21000000\",\"25000000000\",\"23000000\",\"20166000\",\"23000000\",\"25000000\",\"1618033\",\"24000000\",\"30000000\",\"1000000000000\",\"16600000\",\"232000000\",\"336000000\",\"3980000000\",\"10000000000\",\"25000000\",\"100000000\",\"1100000000\",\"800000000\",\"5200000000\",\"840000000\",\"40000000\",\"18406979840\",\"72000000\",\"25000000\",\"69000000\",\"500000000\",\"19340594\",\"252460800\",\"25000000\",\"60000000\",\"124000000\",\"1000000000\",\"6500000000\",\"1000000000\",\"21000000\",\"10044655075.56243680\",\"25000000\",\"32000000\",\"11892000\",\"50000000\",\"3000000\",\"5000000\",\"70000000\",\"500000000\",\"300000000\",\"21000000\",\"88000000\",\"30000000\",\"21000000\",\"100000000\",\"100000000\",\"200000000\",\"80000000\",\"18400000\",\"45000000\",\"5121951220\",\"21000000\",\"26280000\",\"21000000\",\"18000000\",\"26000000\",\"10500000\",\"30000000\",\"110000000\",\"600000518\",\"8148139\",\"7500000\",\"150000000\",\"184000000000\",\"100000000\",\"10200000000\",\"62000000\",\"44000000\",\"168000000\",\"100000000\",\"1000000000\",\"84000000\",\"90000000\",\"92000000000\",\"650000000 \",\"250000000\",\"545399000\",\"100262205\",\"18081806 \",\"22075700\",\"21000000\",\"21000000\",\"15600000\",\"82546564\",\"21000000\",\"5151000\",\"16880000000\",\"52500000\",\"100000000\",\"22105263\",\"1000000000\",\"1000000000\",\"1750000000\",\"88188888\",\"210000000\",\"184470000000\",\"1000000000\",\"55000000\",\"50000000\",\"50000000\",\"260000000\",\"210000000\",\"2100000000\",\"366000000\",\"100000000\",\"25000000\",\"36500000\",\"18000000000\",\"21000000\",\"1000000000\",\"100000000\",\"1000000000\",\"7600000000\",\"50000000\",\"207000000\",\"84000000\",\"200000000\",\"21000000\",\"38000000\",\"64000000\",\"70000000000\",\"0\",\"8080000000\",\"54000000\",\"21000000\",\"105120001.44\",\"25228800\",\"7000000000\",\"105000000\",\"21000000\",\"120000000\",\"21000000\",\"262800000\",\"19035999\",\"30886000\",\"13370000\",\"74800000000\",\"32700000\",\"100000000\",\"19700000\",\"84000000\",\"500000000\",\"5000000000\",\"420000000\",\"64000000\",\"2100000\",\"168000000\",\"30000000\",\"1000000000\",\"10000000000\",\"35000000000\",\"98100000000\",\"0\",\"4000000000\",\"200000000\",\"7000000000\",\"54256119\",\"21000000\",\"0\",\"500000000\",\"1000000000\",\"10500000000\",\"190000000\",\"1000000000\",\"42000000\",\"15000000\",\"50000000000\",\"400000000\",\"105000000\",\"208000000\",\"160000000\",\"9000000\",\"5000000\",\"182000000\",\"16504333\",\"105000000\",\"159918400\",\"10008835635\",\"300000000\",\"60168145\",\"5000000000\",\"2800000\",\"120000\",\"2100000000\",\"210000000\",\"21000000\",\"0\",\"24487944\",\"0\",\"1000000000\",\"100000000000\",\"100000000\",\"8634140\",\"900000000\",\"990000000000\",\"11000000\",\"1000000000\",\"2000000000\",\"250000000\",\"1400222610\",\"21000000\",\"1000000\",\"100000000\"],\"TotalCoinsMined\":{\"__ndarray__\":\"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\",\"dtype\":\"float64\",\"shape\":[578]},\"class\":{\"__ndarray__\":\"AAAAAAAAAAAAAAAAAAAAAAAAAAAAAAAAAAAAAAAAAAAAAAAAAAAAAAAAAAAAAAAAAAAAAAAAAAAAAAAAAAAAAAAAAAAAAAAAAAAAAAAAAAAAAAAAAAAAAAAAAAAAAAAAAAAAAAAAAAAAAAAAAAAAAAAAAAAAAAAAAAAAAAAAAAAAAAAAAAAAAAAAAAAAAAAAAAAAAAAAAAAAAAAAAAAAAAAAAAAAAAAAAAAAAAAAAAAAAAAAAAAAAAAAAAAAAAAAAAAAAAAAAAAAAAAAAAAAAAAAAAAAAAAAAAAAAAAAAAAAAAAAAAAAAAAAAAAAAAAAAAAAAAAAAAAAAAAAAAAAAAAAAAAAAAAAAAAAAAAAAAAAAAAAAAAAAAAAAAAAAAAAAAAAAAAAAAAAAAAAAAAAAAAAAAAAAAAAAAAAAAAAAAAAAAAAAAAAAAAAAAAAAAAAAAAAAAAAAAAAAAAAAAAAAAAAAAAAAAAAAAAAAAAAAAAAAAAAAAAAAAAAAAAAAAAAAAAAAAAAAAAAAAAAAAAAAAAAAAAAAAAAAAAAAAAAAAAAAAAAAAAAAAAAAAAAAAAAAAAAAAAAAAAAAAAAAAAAAAAAAAAAAAAAAAAAAAAAAAAAAAAAAAAAAAAAAAAAAAAAAAAAAAAAAAAAAAAAAAAAAAAAAAAAAAAAAAAAAAAAAAAAAAAAAAAAAAAAAAAAAAAAAAAAAAAAAAAAAAAAAAAAAAAAAAAAAAAAAAAAAAAAAAAAAAAAAAAAAAAAAAAAAAAAAAAAAAAAAAAAAAAAAAAAAAAAAAAAAAAAAAAAAAAAAAAAAAAAAAAAAAAAAAAAAAAAAAAAAAAAAAAAAAAAAAAAAAAAAAAAAAAAAAAAAAAAAAAAAAAAAAAAAAAAAAAAAAAAAAAAAAAAAAAAAAAAAAAAAAAAAAAAAAAAAAAAAAAAAAAAAAAAAAAAAAAAAAAAAAAAAAAAAAAAAAAAAAAAAAAAAAAAAAAAAAAAAAAAAAAAAAAAAAAAAAAAAAAAAAAAAAAAAAAAAAAAAAAAAAAAAAAAAAAAAAAAAAAAAAAAAAAAAAAAAAAAAAAAAAAAAAAAAAAAAAAAAAAAAAAAAAAAAAAAAAAAAAAAAAAAAAAAAAAAAAAAAAAAAAAAAAAAAAAAAAAAAAAAAAAAAAAAAAAAAAAAAAAAAAAAAAAAAAAAAAAAAAAAAAAAAAAAAAAAAAAAAAAAAAAAAAAAAAAAAAAAAAAAAAAAAAAAAAAAAAAAAAAAAAAAAAAAAAAAAAAAAAAAAAAAAAAAAAAAAAAAAAAAAAAAAAAAAAAAAAAAAAAAAAAAAAAAAAAAAAAAAAAAAAAAAAAAAAAAAAAAAAAAAAAAAAAAAAAAAAAAAAAAAAAAAAAAAAAAAAAAAAAAAAAAAAAAAAAAAAAAAAAAAAAAAAAAAAAAAAAAAAAAAAAAAAAAAAAAAAAAAAAAAAAAAAAAAAAAAAAAAAAAAAAAAAAAAAAAAAAAAAAAAAAAAAAAAAAAAAAAAAAAAAAAAAAAAAAAAAAAAAAAAAAAAAAAAAAAAAAAAAAAAAAAAAAAAAAAAAAAAAAAAAAAAAAAAAAAAAAAAAAAAAAAAAAAAAAAAAAAAAAAAAAAAAAAAAAAAAAAAAAAAAAAAAAAAAAAAAAAAAAAAAAAAAAAAAAAAAAAAAAAAAAAAAAAAAAAAAAAAAAAAAAAAAAAAAAAAAAAAAAAAAAAAAAAAAAAAAAAAAAAAAAAAAAAAAAAAAAAAAAAAAAAAAAAAAAAAAAAAAAAAAAAAAAAAAAAAAAAAAAAAAAAAAAAAAAAAAAAAAAAAAAAAAAAAAAAAAAAAAAAAAAAAAAAAAAAAAAAAAAAAAAAAAAAAAAAAAAAAAAAAAAAAAAAAAAAAAAAAAAAAAAAAAAAAAAAAAAAAAAAAAAAAAAAAAAAAAAAAAAAAAAAAAAAAAAAAAAAAAAAAAAAAAAAAAAAAAAAAAAAAAAAAAAAAAAAAAAAAAAAAAAAAAAAAAAAAAAAAAAAAAAAAAAAAAAAAAAAAAAAAAAAAAAAAAAAAAAAAAAAAAAAAAAAAAAAAAIAAAAAAAAAAAAAAAAAAAAAAAAAAAAAAAAAAAAAAAAAAAAAAAIAAAAAAAAAAAAAAAAAAAAAAAAAAAAAAAAAAAAAAAAAAAAAAAAAAAAAAAAAAAAAAAAAAAAAAAAAAAAAAAAAAAAAAAAAAAAAAAAAAAAAAAAAAAAAAAAAAAAAAAAAAAAAAAAAAAAAAAAAAAAAAAAAAAAAAAAAAAAAAAAAAAAAAAAAAAAAAAAAAAAAAAAAAAAAAAAAAAAAAAAAAAAAAAAAAAAAAAAAAAAAAAAAAAAAAAAAAAAAAAAAAAAAAAAAAAAAAAAAAAAAAAAAAAAAAAAAAAAAAAAAAAAAAAAAAAAAAAAAAAAAAAAAAAAAAAAAAAAAAAAAAAAAAAAAAAAAAAAAAAAAAAAAAAAAAAAAAAAAAAAAAAAAAAAAAAAAAAAAAAAAAAAAAAAAAAAAAAAAAAAAAAAAAAAAAAAAAAAAAAAAAAAAAAAAAAAAAAAAAAAAAAAAAAAAAAAAAAAAAAAAAAAAAAAAAAAAAAAAAAAAAAAAAAAAAAAAAAAAAAAAAAAAAAAAAAAAAAAAAAAAAAAAAAAAAAAAAAAAAAAAAAAAAAAAAAAAAAAAAAAAAAAAAAAAAAAAAAAAAAAAAAAAAAAAAAAAAAAAAAAAAAAAAAAAAAAAAAAAAAAAAAAAAAAAAAAAAAAAAAAAAAAAAAAAAAAAAAAAAAAAAAAAAAAAAAAAAAAAAAAAAAAAAAAAAAAAAAAAAAAAAAAAAAAAAAAAAAAAAAAAAAAAAAAAAAAAAAAAAAAAAAAAAAAAAAAAAAAAAAAAAAAAAAAAAAAAAAAAAAAAAAAAAAAAAAAAAAAAAAAAAAAAAAAAAAAAAAAAAAAAAAAAAAAAAAAAAAAAAAAAAAAAAAAAAAAAAAAAAAAAAAAAAAAAAAAAAAAAAAAAAAAAAAAAAAAAAAAAAAAAAAAAAAAAAAAAAAABAAAAAAAAAAAAAAAAAAAAAAAAAAAAAAAAAAAAAAAAAAAAAAA=\",\"dtype\":\"int32\",\"shape\":[578]}},\"selected\":{\"id\":\"3150\",\"type\":\"Selection\"},\"selection_policy\":{\"id\":\"3183\",\"type\":\"UnionRenderers\"}},\"id\":\"3149\",\"type\":\"ColumnDataSource\"},{\"attributes\":{},\"id\":\"3162\",\"type\":\"StringEditor\"},{\"attributes\":{\"editor\":{\"id\":\"3162\",\"type\":\"StringEditor\"},\"field\":\"ProofType\",\"formatter\":{\"id\":\"3161\",\"type\":\"StringFormatter\"},\"title\":\"ProofType\"},\"id\":\"3163\",\"type\":\"TableColumn\"},{\"attributes\":{},\"id\":\"3166\",\"type\":\"StringFormatter\"},{\"attributes\":{},\"id\":\"3167\",\"type\":\"StringEditor\"},{\"attributes\":{\"editor\":{\"id\":\"3167\",\"type\":\"StringEditor\"},\"field\":\"TotalCoinSupply\",\"formatter\":{\"id\":\"3166\",\"type\":\"StringFormatter\"},\"title\":\"TotalCoinSupply\"},\"id\":\"3168\",\"type\":\"TableColumn\"},{\"attributes\":{\"format\":\"0,0.0[00000]\"},\"id\":\"3171\",\"type\":\"NumberFormatter\"},{\"attributes\":{},\"id\":\"3172\",\"type\":\"NumberEditor\"},{\"attributes\":{\"editor\":{\"id\":\"3177\",\"type\":\"IntEditor\"},\"field\":\"class\",\"formatter\":{\"id\":\"3176\",\"type\":\"NumberFormatter\"},\"title\":\"class\"},\"id\":\"3178\",\"type\":\"TableColumn\"},{\"attributes\":{},\"id\":\"3150\",\"type\":\"Selection\"},{\"attributes\":{},\"id\":\"3156\",\"type\":\"StringFormatter\"},{\"attributes\":{\"editor\":{\"id\":\"3172\",\"type\":\"NumberEditor\"},\"field\":\"TotalCoinsMined\",\"formatter\":{\"id\":\"3171\",\"type\":\"NumberFormatter\"},\"title\":\"TotalCoinsMined\"},\"id\":\"3173\",\"type\":\"TableColumn\"},{\"attributes\":{\"editor\":{\"id\":\"3152\",\"type\":\"StringEditor\"},\"field\":\"CoinName\",\"formatter\":{\"id\":\"3151\",\"type\":\"StringFormatter\"},\"title\":\"CoinName\"},\"id\":\"3153\",\"type\":\"TableColumn\"},{\"attributes\":{},\"id\":\"3176\",\"type\":\"NumberFormatter\"},{\"attributes\":{\"editor\":{\"id\":\"3157\",\"type\":\"StringEditor\"},\"field\":\"Algorithm\",\"formatter\":{\"id\":\"3156\",\"type\":\"StringFormatter\"},\"title\":\"Algorithm\"},\"id\":\"3158\",\"type\":\"TableColumn\"},{\"attributes\":{},\"id\":\"3177\",\"type\":\"IntEditor\"},{\"attributes\":{\"source\":{\"id\":\"3149\",\"type\":\"ColumnDataSource\"}},\"id\":\"3182\",\"type\":\"CDSView\"},{\"attributes\":{},\"id\":\"3152\",\"type\":\"StringEditor\"},{\"attributes\":{},\"id\":\"3157\",\"type\":\"StringEditor\"},{\"attributes\":{},\"id\":\"3183\",\"type\":\"UnionRenderers\"}],\"root_ids\":[\"3181\"]},\"title\":\"Bokeh Application\",\"version\":\"1.4.0\"}};\n",
       "  var render_items = [{\"docid\":\"4e687ad6-52a3-415c-bd71-bf1edc431cae\",\"roots\":{\"3181\":\"fe531223-653d-433a-917d-a96be4825bbd\"}}];\n",
       "  root.Bokeh.embed.embed_items_notebook(docs_json, render_items);\n",
       "\n",
       "  }\n",
       "  if (root.Bokeh !== undefined) {\n",
       "    embed_document(root);\n",
       "  } else {\n",
       "    var attempts = 0;\n",
       "    var timer = setInterval(function(root) {\n",
       "      if (root.Bokeh !== undefined) {\n",
       "        clearInterval(timer);\n",
       "        embed_document(root);\n",
       "      } else {\n",
       "        attempts++;\n",
       "        if (attempts > 100) {\n",
       "          clearInterval(timer);\n",
       "          console.log(\"Bokeh: ERROR: Unable to run BokehJS code because BokehJS library is missing\");\n",
       "        }\n",
       "      }\n",
       "    }, 10, root)\n",
       "  }\n",
       "})(window);</script>"
      ],
      "text/plain": [
       ":Table   [CoinName,Algorithm,ProofType,TotalCoinSupply,TotalCoinsMined,class]"
      ]
     },
     "execution_count": 442,
     "metadata": {
      "application/vnd.holoviews_exec.v0+json": {
       "id": "3181"
      }
     },
     "output_type": "execute_result"
    }
   ],
   "source": [
    "\n",
    "import hvplot.pandas\n",
    "# Table with tradable cryptos\n",
    "cluster_df.hvplot.table(columns=['CoinName', 'Algorithm', 'ProofType', 'TotalCoinSupply', \n",
    "                                 'TotalCoinsMined','class'], width=800)\n"
   ]
  },
  {
   "cell_type": "markdown",
   "metadata": {},
   "source": [
    "#### Scatter Plot with Tradable Cryptocurrencies"
   ]
  },
  {
   "cell_type": "code",
   "execution_count": 448,
   "metadata": {},
   "outputs": [
    {
     "data": {
      "text/plain": [
       "CoinName            object\n",
       "Algorithm           object\n",
       "ProofType           object\n",
       "TotalCoinsMined    float64\n",
       "TotalCoinSupply    float64\n",
       "PC1                float64\n",
       "PC2                float64\n",
       "PC3                float64\n",
       "class                int32\n",
       "dtype: object"
      ]
     },
     "execution_count": 448,
     "metadata": {},
     "output_type": "execute_result"
    }
   ],
   "source": [
    "# Scaling data to create the scatter plot\n",
    "\n",
    "cluster_df[\"TotalCoinSupply\"] = cluster_df[\"TotalCoinSupply\"].astype(\"float\")\n",
    "cluster_df.dtypes"
   ]
  },
  {
   "cell_type": "code",
   "execution_count": 449,
   "metadata": {},
   "outputs": [
    {
     "data": {
      "text/plain": [
       "<matplotlib.axes._subplots.AxesSubplot at 0x131e7de10>"
      ]
     },
     "execution_count": 449,
     "metadata": {},
     "output_type": "execute_result"
    },
    {
     "data": {
      "image/png": "[encoded data removed]",
      "text/plain": [
       "<Figure size 432x288 with 1 Axes>"
      ]
     },
     "metadata": {
      "needs_background": "light"
     },
     "output_type": "display_data"
    }
   ],
   "source": [
    "# Plot the scatter with x=\"TotalCoinsMined\" and y=\"TotalCoinSupply\"\n",
    "cluster_df.plot(kind='scatter', x = 'TotalCoinsMined', y = 'TotalCoinSupply')\n"
   ]
  },
  {
   "cell_type": "code",
   "execution_count": null,
   "metadata": {},
   "outputs": [],
   "source": []
  }
 ],
 "metadata": {
  "file_extension": ".py",
  "kernelspec": {
   "display_name": "Python 3",
   "language": "python",
   "name": "python3"
  },
  "language_info": {
   "codemirror_mode": {
    "name": "ipython",
    "version": 3
   },
   "file_extension": ".py",
   "mimetype": "text/x-python",
   "name": "python",
   "nbconvert_exporter": "python",
   "pygments_lexer": "ipython3",
   "version": "3.7.4"
  },
  "mimetype": "text/x-python",
  "name": "python",
  "npconvert_exporter": "python",
  "pygments_lexer": "ipython3",
  "version": 3
 },
 "nbformat": 4,
 "nbformat_minor": 4
}
